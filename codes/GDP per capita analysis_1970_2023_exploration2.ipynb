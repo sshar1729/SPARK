{
 "cells": [
  {
   "cell_type": "markdown",
   "metadata": {},
   "source": [
    "# 0. Project Goals\n",
    "\t\n",
    "1.\tBuild a predictive model for GDP per capita across G20 countries using global indicator data from 1970 to 2023.\n",
    "2.\tIdentify key economic factors that significantly influence GDP per capita.\n",
    "3.\tExplore whether stock market indicators also contribute to explaining or predicting GDP per capita."
   ]
  },
  {
   "cell_type": "markdown",
   "metadata": {},
   "source": [
    "# 1. Import the required Python Libraries"
   ]
  },
  {
   "cell_type": "code",
   "execution_count": 1,
   "metadata": {},
   "outputs": [],
   "source": [
    "# suppress warning\n",
    "import warnings\n",
    "warnings.filterwarnings('ignore')\n",
    "\n",
    "# standard data science libraries\n",
    "import numpy as np\n",
    "import pandas as pd\n",
    "\n",
    "# visualization libraries\n",
    "import seaborn as sns\n",
    "import matplotlib.pyplot as plt\n",
    "\n",
    "# Machine Learning libraries\n",
    "from sklearn.model_selection import train_test_split\n",
    "from sklearn.ensemble import RandomForestRegressor\n",
    "from sklearn.linear_model import LinearRegression\n",
    "from sklearn.metrics import r2_score\n",
    "\n",
    "# set visualization style\n",
    "sns.set(style='whitegrid')"
   ]
  },
  {
   "cell_type": "markdown",
   "metadata": {},
   "source": [
    "# 2. Data Loading and Preprocess"
   ]
  },
  {
   "cell_type": "code",
   "execution_count": 2,
   "metadata": {},
   "outputs": [
    {
     "data": {
      "application/vnd.microsoft.datawrangler.viewer.v0+json": {
       "columns": [
        {
         "name": "index",
         "rawType": "int64",
         "type": "integer"
        },
        {
         "name": "year",
         "rawType": "int32",
         "type": "integer"
        },
        {
         "name": "country",
         "rawType": "object",
         "type": "string"
        },
        {
         "name": "updated_at",
         "rawType": "object",
         "type": "string"
        },
        {
         "name": "Access to electricity (% of population)",
         "rawType": "float64",
         "type": "float"
        },
        {
         "name": "Adjusted net savings, including particulate emission damage (% of GNI)",
         "rawType": "float64",
         "type": "float"
        },
        {
         "name": "Adolescent fertility rate (births per 1,000 women ages 15-19)",
         "rawType": "float64",
         "type": "float"
        },
        {
         "name": "Age dependency ratio (% of working-age population)",
         "rawType": "float64",
         "type": "float"
        },
        {
         "name": "Agricultural irrigated land (% of total agricultural land)",
         "rawType": "float64",
         "type": "float"
        },
        {
         "name": "Agricultural land (% of land area)",
         "rawType": "float64",
         "type": "float"
        },
        {
         "name": "Agriculture, forestry, and fishing, value added (% of GDP)",
         "rawType": "float64",
         "type": "float"
        },
        {
         "name": "Air transport, registered carrier departures worldwide",
         "rawType": "float64",
         "type": "float"
        },
        {
         "name": "Alternative and nuclear energy (% of total energy use)",
         "rawType": "float64",
         "type": "float"
        },
        {
         "name": "Annual freshwater withdrawals, total (% of internal resources)",
         "rawType": "float64",
         "type": "float"
        },
        {
         "name": "Annual freshwater withdrawals, total (billion cubic meters)",
         "rawType": "float64",
         "type": "float"
        },
        {
         "name": "Annualized average growth rate in per capita real survey mean consumption or income, bottom 40% of population (%)",
         "rawType": "float64",
         "type": "float"
        },
        {
         "name": "Annualized average growth rate in per capita real survey mean consumption or income, total population (%)",
         "rawType": "float64",
         "type": "float"
        },
        {
         "name": "Arable land (% of land area)",
         "rawType": "float64",
         "type": "float"
        },
        {
         "name": "Arable land (hectares per person)",
         "rawType": "float64",
         "type": "float"
        },
        {
         "name": "Bank capital to assets ratio (%)",
         "rawType": "float64",
         "type": "float"
        },
        {
         "name": "Bank nonperforming loans to total gross loans (%)",
         "rawType": "float64",
         "type": "float"
        },
        {
         "name": "Birth rate, crude (per 1,000 people)",
         "rawType": "float64",
         "type": "float"
        },
        {
         "name": "Births attended by skilled health staff (% of total)",
         "rawType": "float64",
         "type": "float"
        },
        {
         "name": "Broad money (% of GDP)",
         "rawType": "float64",
         "type": "float"
        },
        {
         "name": "Business extent of disclosure index (0=less disclosure to 10=more disclosure)",
         "rawType": "float64",
         "type": "float"
        },
        {
         "name": "Cause of death, by communicable diseases and maternal, prenatal and nutrition conditions (% of total)",
         "rawType": "float64",
         "type": "float"
        },
        {
         "name": "Cause of death, by injury (% of total)",
         "rawType": "float64",
         "type": "float"
        },
        {
         "name": "Cause of death, by non-communicable diseases (% of total)",
         "rawType": "float64",
         "type": "float"
        },
        {
         "name": "Central government debt, total (% of GDP)",
         "rawType": "float64",
         "type": "float"
        },
        {
         "name": "Cereal yield (kg per hectare)",
         "rawType": "float64",
         "type": "float"
        },
        {
         "name": "Charges for the use of intellectual property, payments (BoP, current US$)",
         "rawType": "float64",
         "type": "float"
        },
        {
         "name": "Charges for the use of intellectual property, receipts (BoP, current US$)",
         "rawType": "float64",
         "type": "float"
        },
        {
         "name": "Children out of school, primary, female",
         "rawType": "float64",
         "type": "float"
        },
        {
         "name": "Children out of school, primary, male",
         "rawType": "float64",
         "type": "float"
        },
        {
         "name": "Commercial bank branches (per 100,000 adults)",
         "rawType": "float64",
         "type": "float"
        },
        {
         "name": "Completeness of birth registration (%)",
         "rawType": "float64",
         "type": "float"
        },
        {
         "name": "Completeness of death registration with cause-of-death information (%)",
         "rawType": "float64",
         "type": "float"
        },
        {
         "name": "Container port traffic (TEU: 20 foot equivalent units)",
         "rawType": "float64",
         "type": "float"
        },
        {
         "name": "Contraceptive prevalence, any method (% of married women ages 15-49)",
         "rawType": "float64",
         "type": "float"
        },
        {
         "name": "Crop production index (2014-2016 = 100)",
         "rawType": "float64",
         "type": "float"
        },
        {
         "name": "Current account balance (BoP, current US$)",
         "rawType": "float64",
         "type": "float"
        },
        {
         "name": "Death rate, crude (per 1,000 people)",
         "rawType": "float64",
         "type": "float"
        },
        {
         "name": "Deposit interest rate (%)",
         "rawType": "float64",
         "type": "float"
        },
        {
         "name": "Depth of credit information index (0=low to 8=high)",
         "rawType": "float64",
         "type": "float"
        },
        {
         "name": "Diabetes prevalence (% of population ages 20 to 79)",
         "rawType": "float64",
         "type": "float"
        },
        {
         "name": "Domestic credit provided by financial sector (% of GDP)",
         "rawType": "float64",
         "type": "float"
        },
        {
         "name": "Domestic credit to private sector (% of GDP)",
         "rawType": "float64",
         "type": "float"
        },
        {
         "name": "Ease of doing business rank (1=most business-friendly regulations)",
         "rawType": "float64",
         "type": "float"
        },
        {
         "name": "Electric power consumption (kWh per capita)",
         "rawType": "float64",
         "type": "float"
        },
        {
         "name": "Employment in agriculture, female (% of female employment) (modeled ILO estimate)",
         "rawType": "float64",
         "type": "float"
        },
        {
         "name": "Employment in agriculture, male (% of male employment) (modeled ILO estimate)",
         "rawType": "float64",
         "type": "float"
        },
        {
         "name": "Energy imports, net (% of energy use)",
         "rawType": "float64",
         "type": "float"
        },
        {
         "name": "Energy intensity level of primary energy (MJ/$2017 PPP GDP)",
         "rawType": "float64",
         "type": "float"
        },
        {
         "name": "Energy use (kg of oil equivalent per capita)",
         "rawType": "float64",
         "type": "float"
        },
        {
         "name": "Expense (% of GDP)",
         "rawType": "float64",
         "type": "float"
        },
        {
         "name": "Exports of goods and services (% of GDP)",
         "rawType": "float64",
         "type": "float"
        },
        {
         "name": "External debt stocks (% of GNI)",
         "rawType": "float64",
         "type": "float"
        },
        {
         "name": "External debt stocks, total (DOD, current US$)",
         "rawType": "float64",
         "type": "float"
        },
        {
         "name": "Fertility rate, total (births per woman)",
         "rawType": "float64",
         "type": "float"
        },
        {
         "name": "Fertilizer consumption (kilograms per hectare of arable land)",
         "rawType": "float64",
         "type": "float"
        },
        {
         "name": "Firms that spend on R&D (% of firms)",
         "rawType": "float64",
         "type": "float"
        },
        {
         "name": "Food production index (2014-2016 = 100)",
         "rawType": "float64",
         "type": "float"
        },
        {
         "name": "Foreign direct investment, net inflows (BoP, current US$)",
         "rawType": "float64",
         "type": "float"
        },
        {
         "name": "Forest area (% of land area)",
         "rawType": "float64",
         "type": "float"
        },
        {
         "name": "Forest area (sq. km)",
         "rawType": "float64",
         "type": "float"
        },
        {
         "name": "Fossil fuel energy consumption (% of total)",
         "rawType": "float64",
         "type": "float"
        },
        {
         "name": "Fuel exports (% of merchandise exports)",
         "rawType": "float64",
         "type": "float"
        },
        {
         "name": "GDP (current US$)",
         "rawType": "float64",
         "type": "float"
        },
        {
         "name": "GDP growth (annual %)",
         "rawType": "float64",
         "type": "float"
        },
        {
         "name": "GDP per capita (current US$)",
         "rawType": "float64",
         "type": "float"
        },
        {
         "name": "GDP per capita growth (annual %)",
         "rawType": "float64",
         "type": "float"
        },
        {
         "name": "GDP per capita, PPP (current international $)",
         "rawType": "float64",
         "type": "float"
        },
        {
         "name": "GDP per person employed (constant 2021 PPP $)",
         "rawType": "float64",
         "type": "float"
        },
        {
         "name": "GDP per unit of energy use (constant 2021 PPP $ per kg of oil equivalent)",
         "rawType": "float64",
         "type": "float"
        },
        {
         "name": "GNI per capita, Atlas method (current US$)",
         "rawType": "float64",
         "type": "float"
        },
        {
         "name": "GNI per capita, PPP (current international $)",
         "rawType": "float64",
         "type": "float"
        },
        {
         "name": "GNI, Atlas method (current US$)",
         "rawType": "float64",
         "type": "float"
        },
        {
         "name": "GNI, PPP (current international $)",
         "rawType": "float64",
         "type": "float"
        },
        {
         "name": "Gini index",
         "rawType": "float64",
         "type": "float"
        },
        {
         "name": "Government expenditure on education, total (% of GDP)",
         "rawType": "float64",
         "type": "float"
        },
        {
         "name": "Government expenditure on education, total (% of government expenditure)",
         "rawType": "float64",
         "type": "float"
        },
        {
         "name": "Government expenditure per student, primary (% of GDP per capita)",
         "rawType": "float64",
         "type": "float"
        },
        {
         "name": "Government expenditure per student, secondary (% of GDP per capita)",
         "rawType": "float64",
         "type": "float"
        },
        {
         "name": "Government expenditure per student, tertiary (% of GDP per capita)",
         "rawType": "float64",
         "type": "float"
        },
        {
         "name": "Grants, excluding technical cooperation (BoP, current US$)",
         "rawType": "float64",
         "type": "float"
        },
        {
         "name": "Gross capital formation (% of GDP)",
         "rawType": "float64",
         "type": "float"
        },
        {
         "name": "Gross intake ratio in first grade of primary education, female (% of relevant age group)",
         "rawType": "float64",
         "type": "float"
        },
        {
         "name": "Gross intake ratio in first grade of primary education, male (% of relevant age group)",
         "rawType": "float64",
         "type": "float"
        },
        {
         "name": "Gross savings (% of GDP)",
         "rawType": "float64",
         "type": "float"
        },
        {
         "name": "High-technology exports (% of manufactured exports)",
         "rawType": "float64",
         "type": "float"
        },
        {
         "name": "High-technology exports (current US$)",
         "rawType": "float64",
         "type": "float"
        },
        {
         "name": "Hospital beds (per 1,000 people)",
         "rawType": "float64",
         "type": "float"
        },
        {
         "name": "Immunization, DPT (% of children ages 12-23 months)",
         "rawType": "float64",
         "type": "float"
        },
        {
         "name": "Imports of goods and services (% of GDP)",
         "rawType": "float64",
         "type": "float"
        },
        {
         "name": "Incidence of tuberculosis (per 100,000 people)",
         "rawType": "float64",
         "type": "float"
        },
        {
         "name": "Income share held by highest 10%",
         "rawType": "float64",
         "type": "float"
        },
        {
         "name": "Income share held by lowest 10%",
         "rawType": "float64",
         "type": "float"
        },
        {
         "name": "Income share held by lowest 20%",
         "rawType": "float64",
         "type": "float"
        },
        {
         "name": "Industry (including construction), value added (% of GDP)",
         "rawType": "float64",
         "type": "float"
        },
        {
         "name": "Inflation, GDP deflator (annual %)",
         "rawType": "float64",
         "type": "float"
        },
        {
         "name": "Inflation, consumer prices (annual %)",
         "rawType": "float64",
         "type": "float"
        },
        {
         "name": "Interest rate spread (lending rate minus deposit rate, %)",
         "rawType": "float64",
         "type": "float"
        },
        {
         "name": "Investment in energy with private participation (current US$)",
         "rawType": "float64",
         "type": "float"
        },
        {
         "name": "Investment in transport with private participation (current US$)",
         "rawType": "float64",
         "type": "float"
        },
        {
         "name": "Labor force, female (% of total labor force)",
         "rawType": "float64",
         "type": "float"
        },
        {
         "name": "Labor force, total",
         "rawType": "float64",
         "type": "float"
        },
        {
         "name": "Land area (sq. km)",
         "rawType": "float64",
         "type": "float"
        },
        {
         "name": "Land area where elevation is below 5 meters (% of total land area)",
         "rawType": "float64",
         "type": "float"
        },
        {
         "name": "Land under cereal production (hectares)",
         "rawType": "float64",
         "type": "float"
        },
        {
         "name": "Lending interest rate (%)",
         "rawType": "float64",
         "type": "float"
        },
        {
         "name": "Life expectancy at birth, female (years)",
         "rawType": "float64",
         "type": "float"
        },
        {
         "name": "Life expectancy at birth, male (years)",
         "rawType": "float64",
         "type": "float"
        },
        {
         "name": "Life expectancy at birth, total (years)",
         "rawType": "float64",
         "type": "float"
        },
        {
         "name": "Listed domestic companies, total",
         "rawType": "float64",
         "type": "float"
        },
        {
         "name": "Literacy rate, adult female (% of females ages 15 and above)",
         "rawType": "float64",
         "type": "float"
        },
        {
         "name": "Literacy rate, adult male (% of males ages 15 and above)",
         "rawType": "float64",
         "type": "float"
        },
        {
         "name": "Literacy rate, adult total (% of people ages 15 and above)",
         "rawType": "float64",
         "type": "float"
        },
        {
         "name": "Literacy rate, youth female (% of females ages 15-24)",
         "rawType": "float64",
         "type": "float"
        },
        {
         "name": "Literacy rate, youth male (% of males ages 15-24)",
         "rawType": "float64",
         "type": "float"
        },
        {
         "name": "Literacy rate, youth total (% of people ages 15-24)",
         "rawType": "float64",
         "type": "float"
        },
        {
         "name": "Logistics performance index: Overall (1=low to 5=high)",
         "rawType": "float64",
         "type": "float"
        },
        {
         "name": "Market capitalization of listed domestic companies (% of GDP)",
         "rawType": "float64",
         "type": "float"
        },
        {
         "name": "Maternal mortality ratio (modeled estimate, per 100,000 live births)",
         "rawType": "float64",
         "type": "float"
        },
        {
         "name": "Medium and high-tech manufacturing value added (% manufacturing value added)",
         "rawType": "float64",
         "type": "float"
        },
        {
         "name": "Mobile cellular subscriptions (per 100 people)",
         "rawType": "float64",
         "type": "float"
        },
        {
         "name": "Mortality caused by road traffic injury (per 100,000 population)",
         "rawType": "float64",
         "type": "float"
        },
        {
         "name": "Mortality rate, infant (per 1,000 live births)",
         "rawType": "float64",
         "type": "float"
        },
        {
         "name": "Mortality rate, neonatal (per 1,000 live births)",
         "rawType": "float64",
         "type": "float"
        },
        {
         "name": "Mortality rate, under-5 (per 1,000 live births)",
         "rawType": "float64",
         "type": "float"
        },
        {
         "name": "Net ODA received (% of GNI)",
         "rawType": "float64",
         "type": "float"
        },
        {
         "name": "Net ODA received (% of central government expense)",
         "rawType": "float64",
         "type": "float"
        },
        {
         "name": "Net ODA received per capita (current US$)",
         "rawType": "float64",
         "type": "float"
        },
        {
         "name": "Net migration",
         "rawType": "float64",
         "type": "float"
        },
        {
         "name": "Net official development assistance received (current US$)",
         "rawType": "float64",
         "type": "float"
        },
        {
         "name": "New businesses registered (number)",
         "rawType": "float64",
         "type": "float"
        },
        {
         "name": "Number of surgical procedures (per 100,000 population)",
         "rawType": "float64",
         "type": "float"
        },
        {
         "name": "Official exchange rate (LCU per US$, period average)",
         "rawType": "float64",
         "type": "float"
        },
        {
         "name": "Ores and metals exports (% of merchandise exports)",
         "rawType": "float64",
         "type": "float"
        },
        {
         "name": "PPP conversion factor, GDP (LCU per international $)",
         "rawType": "float64",
         "type": "float"
        },
        {
         "name": "Patent applications, residents",
         "rawType": "float64",
         "type": "float"
        },
        {
         "name": "Permanent cropland (% of land area)",
         "rawType": "float64",
         "type": "float"
        },
        {
         "name": "Persistence to last grade of primary, female (% of cohort)",
         "rawType": "float64",
         "type": "float"
        },
        {
         "name": "Persistence to last grade of primary, male (% of cohort)",
         "rawType": "float64",
         "type": "float"
        },
        {
         "name": "Personal remittances, received (current US$)",
         "rawType": "float64",
         "type": "float"
        },
        {
         "name": "Population ages 0-14 (% of total population)",
         "rawType": "float64",
         "type": "float"
        },
        {
         "name": "Population ages 15-64 (% of total population)",
         "rawType": "float64",
         "type": "float"
        },
        {
         "name": "Population ages 65 and above (% of total population)",
         "rawType": "float64",
         "type": "float"
        },
        {
         "name": "Population growth (annual %)",
         "rawType": "float64",
         "type": "float"
        },
        {
         "name": "Population in urban agglomerations of more than 1 million (% of total population)",
         "rawType": "float64",
         "type": "float"
        },
        {
         "name": "Population living in slums (% of urban population)",
         "rawType": "float64",
         "type": "float"
        },
        {
         "name": "Population, female (% of total population)",
         "rawType": "float64",
         "type": "float"
        },
        {
         "name": "Population, total",
         "rawType": "float64",
         "type": "float"
        },
        {
         "name": "Poverty gap at $2.15 a day (2017 PPP) (%)",
         "rawType": "float64",
         "type": "float"
        },
        {
         "name": "Poverty headcount ratio at $2.15 a day (2017 PPP) (% of population)",
         "rawType": "float64",
         "type": "float"
        },
        {
         "name": "Poverty headcount ratio at national poverty lines (% of population)",
         "rawType": "float64",
         "type": "float"
        },
        {
         "name": "Pregnant women receiving prenatal care (%)",
         "rawType": "float64",
         "type": "float"
        },
        {
         "name": "Prevalence of HIV, total (% of population ages 15-49)",
         "rawType": "float64",
         "type": "float"
        },
        {
         "name": "Prevalence of stunting, height for age (% of children under 5)",
         "rawType": "float64",
         "type": "float"
        },
        {
         "name": "Prevalence of underweight, weight for age (% of children under 5)",
         "rawType": "float64",
         "type": "float"
        },
        {
         "name": "Price level ratio of PPP conversion factor (GDP) to market exchange rate",
         "rawType": "float64",
         "type": "float"
        },
        {
         "name": "Primary completion rate, female (% of relevant age group)",
         "rawType": "float64",
         "type": "float"
        },
        {
         "name": "Primary completion rate, male (% of relevant age group)",
         "rawType": "float64",
         "type": "float"
        },
        {
         "name": "Primary completion rate, total (% of relevant age group)",
         "rawType": "float64",
         "type": "float"
        },
        {
         "name": "Progression to secondary school, female (%)",
         "rawType": "float64",
         "type": "float"
        },
        {
         "name": "Progression to secondary school, male (%)",
         "rawType": "float64",
         "type": "float"
        },
        {
         "name": "Public private partnerships investment in ICT (current US$)",
         "rawType": "float64",
         "type": "float"
        },
        {
         "name": "Pupil-teacher ratio, primary",
         "rawType": "float64",
         "type": "float"
        },
        {
         "name": "Rail lines (total route-km)",
         "rawType": "float64",
         "type": "float"
        },
        {
         "name": "Real interest rate (%)",
         "rawType": "float64",
         "type": "float"
        },
        {
         "name": "Refugee population by country or territory of origin",
         "rawType": "float64",
         "type": "float"
        },
        {
         "name": "Renewable electricity output (% of total electricity output)",
         "rawType": "float64",
         "type": "float"
        },
        {
         "name": "Renewable energy consumption (% of total final energy consumption)",
         "rawType": "float64",
         "type": "float"
        },
        {
         "name": "Renewable internal freshwater resources per capita (cubic meters)",
         "rawType": "float64",
         "type": "float"
        },
        {
         "name": "Renewable internal freshwater resources, total (billion cubic meters)",
         "rawType": "float64",
         "type": "float"
        },
        {
         "name": "Repeaters, primary, female (% of female enrollment)",
         "rawType": "float64",
         "type": "float"
        },
        {
         "name": "Repeaters, primary, male (% of male enrollment)",
         "rawType": "float64",
         "type": "float"
        },
        {
         "name": "Researchers in R&D (per million people)",
         "rawType": "float64",
         "type": "float"
        },
        {
         "name": "Revenue, excluding grants (% of GDP)",
         "rawType": "float64",
         "type": "float"
        },
        {
         "name": "Risk of catastrophic expenditure for surgical care (% of people at risk)",
         "rawType": "float64",
         "type": "float"
        },
        {
         "name": "Risk of impoverishing expenditure for surgical care (% of people at risk)",
         "rawType": "float64",
         "type": "float"
        },
        {
         "name": "Risk premium on lending (lending rate minus treasury bill rate, %)",
         "rawType": "float64",
         "type": "float"
        },
        {
         "name": "Rural population",
         "rawType": "float64",
         "type": "float"
        },
        {
         "name": "Rural population (% of total population)",
         "rawType": "float64",
         "type": "float"
        },
        {
         "name": "S&P Global Equity Indices (annual % change)",
         "rawType": "float64",
         "type": "float"
        },
        {
         "name": "School enrollment, preprimary (% gross)",
         "rawType": "float64",
         "type": "float"
        },
        {
         "name": "School enrollment, primary (% gross)",
         "rawType": "float64",
         "type": "float"
        },
        {
         "name": "School enrollment, primary (% net)",
         "rawType": "float64",
         "type": "float"
        },
        {
         "name": "School enrollment, primary (gross), gender parity index (GPI)",
         "rawType": "float64",
         "type": "float"
        },
        {
         "name": "School enrollment, primary and secondary (gross), gender parity index (GPI)",
         "rawType": "float64",
         "type": "float"
        },
        {
         "name": "School enrollment, secondary (% gross)",
         "rawType": "float64",
         "type": "float"
        },
        {
         "name": "School enrollment, secondary (% net)",
         "rawType": "float64",
         "type": "float"
        },
        {
         "name": "School enrollment, tertiary (% gross)",
         "rawType": "float64",
         "type": "float"
        },
        {
         "name": "Scientific and technical journal articles",
         "rawType": "float64",
         "type": "float"
        },
        {
         "name": "Secure Internet servers (per 1 million people)",
         "rawType": "float64",
         "type": "float"
        },
        {
         "name": "Short-term debt (% of total reserves)",
         "rawType": "float64",
         "type": "float"
        },
        {
         "name": "Specialist surgical workforce (per 100,000 population)",
         "rawType": "float64",
         "type": "float"
        },
        {
         "name": "Start-up procedures to register a business (number)",
         "rawType": "float64",
         "type": "float"
        },
        {
         "name": "Stocks traded, total value (% of GDP)",
         "rawType": "float64",
         "type": "float"
        },
        {
         "name": "Strength of legal rights index (0=weak to 12=strong)",
         "rawType": "float64",
         "type": "float"
        },
        {
         "name": "Surface area (sq. km)",
         "rawType": "float64",
         "type": "float"
        },
        {
         "name": "Survey mean consumption or income per capita, bottom 40% of population (2017 PPP $ per day)",
         "rawType": "float64",
         "type": "float"
        },
        {
         "name": "Survey mean consumption or income per capita, total population (2017 PPP $ per day)",
         "rawType": "float64",
         "type": "float"
        },
        {
         "name": "Tax revenue (% of GDP)",
         "rawType": "float64",
         "type": "float"
        },
        {
         "name": "Technical cooperation grants (BoP, current US$)",
         "rawType": "float64",
         "type": "float"
        },
        {
         "name": "Technicians in R&D (per million people)",
         "rawType": "float64",
         "type": "float"
        },
        {
         "name": "Terrestrial and marine protected areas (% of total territorial area)",
         "rawType": "float64",
         "type": "float"
        },
        {
         "name": "Time required to get electricity (days)",
         "rawType": "float64",
         "type": "float"
        },
        {
         "name": "Time required to start a business (days)",
         "rawType": "float64",
         "type": "float"
        },
        {
         "name": "Total debt service (% of exports of goods, services and primary income)",
         "rawType": "float64",
         "type": "float"
        },
        {
         "name": "Total natural resources rents (% of GDP)",
         "rawType": "float64",
         "type": "float"
        },
        {
         "name": "Total reserves (includes gold, current US$)",
         "rawType": "float64",
         "type": "float"
        },
        {
         "name": "Total tax and contribution rate (% of profit)",
         "rawType": "float64",
         "type": "float"
        },
        {
         "name": "Trained teachers in primary education (% of total teachers)",
         "rawType": "float64",
         "type": "float"
        },
        {
         "name": "Unemployment, female (% of female labor force) (modeled ILO estimate)",
         "rawType": "float64",
         "type": "float"
        },
        {
         "name": "Unemployment, male (% of male labor force) (modeled ILO estimate)",
         "rawType": "float64",
         "type": "float"
        },
        {
         "name": "Unemployment, total (% of total labor force) (modeled ILO estimate)",
         "rawType": "float64",
         "type": "float"
        }
       ],
       "ref": "c69e0a41-3a2d-422c-9d42-b70cdf938d45",
       "rows": [
        [
         "0",
         "1960",
         "abw",
         "2025-04-03 02:52:37 UTC",
         null,
         null,
         "44.732",
         "83.0461589735",
         null,
         null,
         null,
         null,
         null,
         null,
         null,
         null,
         null,
         null,
         null,
         null,
         null,
         "33.883",
         null,
         null,
         null,
         null,
         null,
         null,
         null,
         null,
         null,
         null,
         null,
         null,
         null,
         null,
         null,
         null,
         null,
         null,
         null,
         "6.594",
         null,
         null,
         null,
         null,
         null,
         null,
         null,
         null,
         null,
         null,
         null,
         null,
         null,
         null,
         null,
         null,
         "4.82",
         null,
         null,
         null,
         null,
         null,
         null,
         null,
         null,
         null,
         null,
         null,
         null,
         null,
         null,
         null,
         null,
         null,
         null,
         null,
         null,
         null,
         null,
         null,
         null,
         null,
         null,
         null,
         null,
         null,
         null,
         null,
         null,
         null,
         null,
         null,
         null,
         null,
         null,
         null,
         null,
         null,
         null,
         null,
         null,
         null,
         null,
         null,
         null,
         null,
         null,
         null,
         "67.783",
         "60.582",
         "64.152",
         null,
         null,
         null,
         null,
         null,
         null,
         null,
         null,
         null,
         null,
         null,
         "0.0",
         null,
         null,
         null,
         null,
         null,
         null,
         null,
         "-788.0",
         null,
         null,
         null,
         null,
         null,
         null,
         null,
         null,
         null,
         null,
         null,
         "42.5121080806",
         "54.6320235971",
         "2.8558683223",
         null,
         null,
         null,
         "50.8484760205",
         "54922.0",
         null,
         null,
         null,
         null,
         null,
         null,
         null,
         null,
         null,
         null,
         null,
         null,
         null,
         null,
         null,
         null,
         null,
         null,
         null,
         null,
         null,
         null,
         null,
         null,
         null,
         null,
         null,
         null,
         null,
         "27035.0",
         "49.224",
         null,
         null,
         null,
         null,
         null,
         null,
         null,
         null,
         null,
         null,
         null,
         null,
         null,
         null,
         null,
         null,
         null,
         null,
         null,
         null,
         null,
         null,
         null,
         null,
         null,
         null,
         null,
         null,
         null,
         null,
         null,
         null,
         null
        ],
        [
         "1",
         "1960",
         "afe",
         "2025-04-03 02:52:37 UTC",
         null,
         null,
         "135.7932906505",
         "88.9676965951",
         null,
         null,
         null,
         null,
         null,
         null,
         null,
         null,
         null,
         null,
         null,
         null,
         null,
         "47.4378249166",
         null,
         null,
         null,
         null,
         null,
         null,
         null,
         null,
         "5599997.76224089",
         null,
         null,
         null,
         null,
         null,
         null,
         null,
         null,
         null,
         null,
         "20.9091906465",
         null,
         null,
         null,
         null,
         null,
         null,
         null,
         null,
         null,
         null,
         null,
         null,
         null,
         null,
         null,
         null,
         "6.7232257768",
         null,
         null,
         null,
         null,
         null,
         null,
         null,
         null,
         "24210632546.4092",
         null,
         "186.1324316979",
         null,
         null,
         null,
         null,
         null,
         null,
         null,
         null,
         null,
         null,
         null,
         null,
         null,
         null,
         null,
         null,
         null,
         null,
         null,
         null,
         null,
         "1.9732889998",
         null,
         null,
         null,
         null,
         null,
         null,
         null,
         null,
         null,
         null,
         null,
         null,
         null,
         null,
         null,
         null,
         null,
         null,
         "45.7183806103",
         "42.5602949586",
         "44.0988346575",
         null,
         null,
         null,
         null,
         null,
         null,
         null,
         null,
         null,
         null,
         null,
         "0.0",
         null,
         null,
         null,
         null,
         null,
         null,
         null,
         "-102704.0",
         null,
         null,
         null,
         null,
         null,
         null,
         null,
         null,
         null,
         null,
         null,
         "43.9922160971",
         "53.0218368185",
         "2.9859470845",
         null,
         "6.4790992449",
         null,
         "50.4816702291",
         "130072080.0",
         null,
         null,
         null,
         null,
         null,
         null,
         null,
         null,
         null,
         null,
         null,
         null,
         null,
         null,
         null,
         null,
         null,
         null,
         null,
         null,
         null,
         null,
         null,
         null,
         null,
         null,
         null,
         null,
         null,
         "111111891.0",
         "85.4233235418",
         null,
         null,
         null,
         null,
         null,
         null,
         null,
         null,
         null,
         null,
         null,
         null,
         null,
         null,
         null,
         null,
         null,
         null,
         null,
         null,
         null,
         null,
         null,
         null,
         null,
         null,
         null,
         null,
         null,
         null,
         null,
         null,
         null
        ],
        [
         "2",
         "1960",
         "afg",
         "2025-04-03 02:52:37 UTC",
         null,
         null,
         "140.598",
         "81.0613894387",
         null,
         null,
         null,
         null,
         null,
         null,
         null,
         null,
         null,
         null,
         null,
         null,
         null,
         "50.34",
         null,
         null,
         null,
         null,
         null,
         null,
         null,
         null,
         null,
         null,
         null,
         null,
         null,
         null,
         null,
         null,
         null,
         null,
         null,
         "31.921",
         null,
         null,
         null,
         null,
         null,
         null,
         null,
         null,
         null,
         null,
         null,
         null,
         null,
         null,
         null,
         null,
         "7.282",
         null,
         null,
         null,
         null,
         null,
         null,
         null,
         null,
         null,
         null,
         null,
         null,
         null,
         null,
         null,
         null,
         null,
         null,
         null,
         null,
         null,
         null,
         null,
         null,
         null,
         "14350000.0",
         null,
         null,
         null,
         null,
         null,
         null,
         "0.1706269979",
         null,
         null,
         null,
         null,
         null,
         null,
         null,
         null,
         null,
         null,
         null,
         null,
         null,
         null,
         null,
         null,
         null,
         null,
         "33.285",
         "31.87",
         "32.535",
         null,
         null,
         null,
         null,
         null,
         null,
         null,
         null,
         null,
         null,
         null,
         "0.0",
         null,
         null,
         null,
         "354.6",
         "3.1299597979",
         null,
         "1.9014851734",
         "2606.0",
         "17180000.3051758",
         null,
         null,
         "17.1965606879",
         null,
         null,
         null,
         null,
         null,
         null,
         null,
         "41.9467543239",
         "55.2298835086",
         "2.8233621675",
         null,
         "3.1582804863",
         null,
         "48.0882935477",
         "9035043.0",
         null,
         null,
         null,
         null,
         null,
         null,
         null,
         null,
         null,
         null,
         null,
         null,
         null,
         null,
         null,
         null,
         null,
         null,
         null,
         null,
         null,
         null,
         null,
         null,
         null,
         null,
         null,
         null,
         null,
         "8276009.0",
         "91.599",
         null,
         null,
         null,
         null,
         null,
         null,
         null,
         null,
         null,
         null,
         null,
         null,
         null,
         null,
         null,
         null,
         null,
         null,
         null,
         null,
         "1510000.0",
         null,
         null,
         null,
         null,
         null,
         null,
         "50690800.0",
         null,
         null,
         null,
         null,
         null
        ],
        [
         "3",
         "1960",
         "afw",
         "2025-04-03 02:52:37 UTC",
         null,
         null,
         "161.1292383872",
         "81.4393851941",
         null,
         null,
         null,
         null,
         null,
         null,
         null,
         null,
         null,
         null,
         null,
         null,
         null,
         "47.3233713504",
         null,
         "11.2734177711",
         null,
         null,
         null,
         null,
         null,
         null,
         null,
         null,
         null,
         null,
         null,
         null,
         null,
         null,
         null,
         null,
         null,
         "26.3632040712",
         null,
         null,
         null,
         null,
         "5.709637535",
         null,
         null,
         null,
         null,
         null,
         null,
         null,
         null,
         null,
         null,
         null,
         "6.4590632593",
         null,
         null,
         null,
         null,
         null,
         null,
         null,
         null,
         "11904954209.7913",
         null,
         "121.9383531375",
         null,
         null,
         null,
         null,
         null,
         null,
         null,
         null,
         null,
         null,
         null,
         null,
         null,
         null,
         null,
         null,
         null,
         null,
         null,
         null,
         null,
         "0.7865521564",
         null,
         null,
         null,
         null,
         null,
         null,
         null,
         null,
         null,
         null,
         null,
         null,
         null,
         null,
         null,
         null,
         null,
         null,
         "39.3819397325",
         "36.4511437792",
         "37.8461448646",
         null,
         null,
         null,
         null,
         null,
         null,
         null,
         null,
         null,
         null,
         null,
         "0.0",
         null,
         null,
         null,
         null,
         null,
         null,
         null,
         "-759.0",
         null,
         null,
         null,
         null,
         null,
         null,
         null,
         null,
         null,
         null,
         null,
         "41.506894455",
         "55.1771356329",
         "3.3159699121",
         null,
         "4.8670296823",
         null,
         "50.3686839052",
         "97630925.0",
         null,
         null,
         null,
         null,
         null,
         null,
         null,
         null,
         null,
         null,
         null,
         null,
         null,
         null,
         null,
         null,
         null,
         null,
         null,
         null,
         null,
         null,
         null,
         null,
         null,
         null,
         null,
         null,
         null,
         "83269407.0",
         "85.2899943292",
         null,
         null,
         null,
         null,
         null,
         null,
         null,
         null,
         null,
         null,
         null,
         null,
         null,
         null,
         null,
         null,
         null,
         null,
         null,
         null,
         null,
         null,
         null,
         null,
         null,
         null,
         null,
         null,
         null,
         null,
         null,
         null,
         null
        ],
        [
         "4",
         "1960",
         "ago",
         "2025-04-03 02:52:37 UTC",
         null,
         null,
         "92.548",
         "79.9383931523",
         null,
         null,
         null,
         null,
         null,
         null,
         null,
         null,
         null,
         null,
         null,
         null,
         null,
         "51.026",
         null,
         null,
         null,
         null,
         null,
         null,
         null,
         null,
         null,
         null,
         null,
         null,
         null,
         null,
         null,
         null,
         null,
         null,
         null,
         "26.659",
         null,
         null,
         null,
         null,
         null,
         null,
         null,
         null,
         null,
         null,
         null,
         null,
         null,
         null,
         null,
         null,
         "6.708",
         null,
         null,
         null,
         null,
         null,
         null,
         null,
         null,
         null,
         null,
         null,
         null,
         null,
         null,
         null,
         null,
         null,
         null,
         null,
         null,
         null,
         null,
         null,
         null,
         null,
         "0.0",
         null,
         null,
         null,
         null,
         null,
         null,
         "2.0614616871",
         null,
         null,
         null,
         null,
         null,
         null,
         null,
         null,
         null,
         null,
         null,
         null,
         null,
         null,
         null,
         null,
         null,
         null,
         "39.918",
         "36.585",
         "38.211",
         null,
         null,
         null,
         null,
         null,
         null,
         null,
         null,
         null,
         null,
         null,
         "0.0",
         null,
         null,
         null,
         null,
         null,
         null,
         "-0.0095572071",
         "-40935.0",
         "-50000.0007450581",
         null,
         null,
         "2.87e-08",
         null,
         null,
         null,
         null,
         null,
         null,
         null,
         "41.2698450624",
         "55.5745659021",
         "3.1555890355",
         null,
         "4.1942185015",
         null,
         "49.3640252203",
         "5231654.0",
         null,
         null,
         null,
         null,
         null,
         null,
         null,
         null,
         null,
         null,
         null,
         null,
         null,
         null,
         null,
         null,
         null,
         "150000.0",
         null,
         null,
         null,
         null,
         null,
         null,
         null,
         null,
         null,
         null,
         null,
         "4685731.0",
         "89.565",
         null,
         null,
         null,
         null,
         null,
         null,
         null,
         null,
         null,
         null,
         null,
         null,
         null,
         null,
         null,
         null,
         null,
         null,
         null,
         null,
         "-50000.0",
         null,
         null,
         null,
         null,
         null,
         null,
         null,
         null,
         null,
         null,
         null,
         null
        ]
       ],
       "shape": {
        "columns": 215,
        "rows": 5
       }
      },
      "text/html": [
       "<div>\n",
       "<style scoped>\n",
       "    .dataframe tbody tr th:only-of-type {\n",
       "        vertical-align: middle;\n",
       "    }\n",
       "\n",
       "    .dataframe tbody tr th {\n",
       "        vertical-align: top;\n",
       "    }\n",
       "\n",
       "    .dataframe thead th {\n",
       "        text-align: right;\n",
       "    }\n",
       "</style>\n",
       "<table border=\"1\" class=\"dataframe\">\n",
       "  <thead>\n",
       "    <tr style=\"text-align: right;\">\n",
       "      <th></th>\n",
       "      <th>year</th>\n",
       "      <th>country</th>\n",
       "      <th>updated_at</th>\n",
       "      <th>Access to electricity (% of population)</th>\n",
       "      <th>Adjusted net savings, including particulate emission damage (% of GNI)</th>\n",
       "      <th>Adolescent fertility rate (births per 1,000 women ages 15-19)</th>\n",
       "      <th>Age dependency ratio (% of working-age population)</th>\n",
       "      <th>Agricultural irrigated land (% of total agricultural land)</th>\n",
       "      <th>Agricultural land (% of land area)</th>\n",
       "      <th>Agriculture, forestry, and fishing, value added (% of GDP)</th>\n",
       "      <th>...</th>\n",
       "      <th>Time required to get electricity (days)</th>\n",
       "      <th>Time required to start a business (days)</th>\n",
       "      <th>Total debt service (% of exports of goods, services and primary income)</th>\n",
       "      <th>Total natural resources rents (% of GDP)</th>\n",
       "      <th>Total reserves (includes gold, current US$)</th>\n",
       "      <th>Total tax and contribution rate (% of profit)</th>\n",
       "      <th>Trained teachers in primary education (% of total teachers)</th>\n",
       "      <th>Unemployment, female (% of female labor force) (modeled ILO estimate)</th>\n",
       "      <th>Unemployment, male (% of male labor force) (modeled ILO estimate)</th>\n",
       "      <th>Unemployment, total (% of total labor force) (modeled ILO estimate)</th>\n",
       "    </tr>\n",
       "  </thead>\n",
       "  <tbody>\n",
       "    <tr>\n",
       "      <th>0</th>\n",
       "      <td>1960</td>\n",
       "      <td>abw</td>\n",
       "      <td>2025-04-03 02:52:37 UTC</td>\n",
       "      <td>NaN</td>\n",
       "      <td>NaN</td>\n",
       "      <td>44.732000</td>\n",
       "      <td>83.046159</td>\n",
       "      <td>NaN</td>\n",
       "      <td>NaN</td>\n",
       "      <td>NaN</td>\n",
       "      <td>...</td>\n",
       "      <td>NaN</td>\n",
       "      <td>NaN</td>\n",
       "      <td>NaN</td>\n",
       "      <td>NaN</td>\n",
       "      <td>NaN</td>\n",
       "      <td>NaN</td>\n",
       "      <td>NaN</td>\n",
       "      <td>NaN</td>\n",
       "      <td>NaN</td>\n",
       "      <td>NaN</td>\n",
       "    </tr>\n",
       "    <tr>\n",
       "      <th>1</th>\n",
       "      <td>1960</td>\n",
       "      <td>afe</td>\n",
       "      <td>2025-04-03 02:52:37 UTC</td>\n",
       "      <td>NaN</td>\n",
       "      <td>NaN</td>\n",
       "      <td>135.793291</td>\n",
       "      <td>88.967697</td>\n",
       "      <td>NaN</td>\n",
       "      <td>NaN</td>\n",
       "      <td>NaN</td>\n",
       "      <td>...</td>\n",
       "      <td>NaN</td>\n",
       "      <td>NaN</td>\n",
       "      <td>NaN</td>\n",
       "      <td>NaN</td>\n",
       "      <td>NaN</td>\n",
       "      <td>NaN</td>\n",
       "      <td>NaN</td>\n",
       "      <td>NaN</td>\n",
       "      <td>NaN</td>\n",
       "      <td>NaN</td>\n",
       "    </tr>\n",
       "    <tr>\n",
       "      <th>2</th>\n",
       "      <td>1960</td>\n",
       "      <td>afg</td>\n",
       "      <td>2025-04-03 02:52:37 UTC</td>\n",
       "      <td>NaN</td>\n",
       "      <td>NaN</td>\n",
       "      <td>140.598000</td>\n",
       "      <td>81.061389</td>\n",
       "      <td>NaN</td>\n",
       "      <td>NaN</td>\n",
       "      <td>NaN</td>\n",
       "      <td>...</td>\n",
       "      <td>NaN</td>\n",
       "      <td>NaN</td>\n",
       "      <td>NaN</td>\n",
       "      <td>NaN</td>\n",
       "      <td>50690800.0</td>\n",
       "      <td>NaN</td>\n",
       "      <td>NaN</td>\n",
       "      <td>NaN</td>\n",
       "      <td>NaN</td>\n",
       "      <td>NaN</td>\n",
       "    </tr>\n",
       "    <tr>\n",
       "      <th>3</th>\n",
       "      <td>1960</td>\n",
       "      <td>afw</td>\n",
       "      <td>2025-04-03 02:52:37 UTC</td>\n",
       "      <td>NaN</td>\n",
       "      <td>NaN</td>\n",
       "      <td>161.129238</td>\n",
       "      <td>81.439385</td>\n",
       "      <td>NaN</td>\n",
       "      <td>NaN</td>\n",
       "      <td>NaN</td>\n",
       "      <td>...</td>\n",
       "      <td>NaN</td>\n",
       "      <td>NaN</td>\n",
       "      <td>NaN</td>\n",
       "      <td>NaN</td>\n",
       "      <td>NaN</td>\n",
       "      <td>NaN</td>\n",
       "      <td>NaN</td>\n",
       "      <td>NaN</td>\n",
       "      <td>NaN</td>\n",
       "      <td>NaN</td>\n",
       "    </tr>\n",
       "    <tr>\n",
       "      <th>4</th>\n",
       "      <td>1960</td>\n",
       "      <td>ago</td>\n",
       "      <td>2025-04-03 02:52:37 UTC</td>\n",
       "      <td>NaN</td>\n",
       "      <td>NaN</td>\n",
       "      <td>92.548000</td>\n",
       "      <td>79.938393</td>\n",
       "      <td>NaN</td>\n",
       "      <td>NaN</td>\n",
       "      <td>NaN</td>\n",
       "      <td>...</td>\n",
       "      <td>NaN</td>\n",
       "      <td>NaN</td>\n",
       "      <td>NaN</td>\n",
       "      <td>NaN</td>\n",
       "      <td>NaN</td>\n",
       "      <td>NaN</td>\n",
       "      <td>NaN</td>\n",
       "      <td>NaN</td>\n",
       "      <td>NaN</td>\n",
       "      <td>NaN</td>\n",
       "    </tr>\n",
       "  </tbody>\n",
       "</table>\n",
       "<p>5 rows × 215 columns</p>\n",
       "</div>"
      ],
      "text/plain": [
       "   year country               updated_at  \\\n",
       "0  1960     abw  2025-04-03 02:52:37 UTC   \n",
       "1  1960     afe  2025-04-03 02:52:37 UTC   \n",
       "2  1960     afg  2025-04-03 02:52:37 UTC   \n",
       "3  1960     afw  2025-04-03 02:52:37 UTC   \n",
       "4  1960     ago  2025-04-03 02:52:37 UTC   \n",
       "\n",
       "   Access to electricity (% of population)  \\\n",
       "0                                      NaN   \n",
       "1                                      NaN   \n",
       "2                                      NaN   \n",
       "3                                      NaN   \n",
       "4                                      NaN   \n",
       "\n",
       "   Adjusted net savings, including particulate emission damage (% of GNI)  \\\n",
       "0                                                NaN                        \n",
       "1                                                NaN                        \n",
       "2                                                NaN                        \n",
       "3                                                NaN                        \n",
       "4                                                NaN                        \n",
       "\n",
       "   Adolescent fertility rate (births per 1,000 women ages 15-19)  \\\n",
       "0                                          44.732000               \n",
       "1                                         135.793291               \n",
       "2                                         140.598000               \n",
       "3                                         161.129238               \n",
       "4                                          92.548000               \n",
       "\n",
       "   Age dependency ratio (% of working-age population)  \\\n",
       "0                                          83.046159    \n",
       "1                                          88.967697    \n",
       "2                                          81.061389    \n",
       "3                                          81.439385    \n",
       "4                                          79.938393    \n",
       "\n",
       "   Agricultural irrigated land (% of total agricultural land)  \\\n",
       "0                                                NaN            \n",
       "1                                                NaN            \n",
       "2                                                NaN            \n",
       "3                                                NaN            \n",
       "4                                                NaN            \n",
       "\n",
       "   Agricultural land (% of land area)  \\\n",
       "0                                 NaN   \n",
       "1                                 NaN   \n",
       "2                                 NaN   \n",
       "3                                 NaN   \n",
       "4                                 NaN   \n",
       "\n",
       "   Agriculture, forestry, and fishing, value added (% of GDP)  ...  \\\n",
       "0                                                NaN           ...   \n",
       "1                                                NaN           ...   \n",
       "2                                                NaN           ...   \n",
       "3                                                NaN           ...   \n",
       "4                                                NaN           ...   \n",
       "\n",
       "   Time required to get electricity (days)  \\\n",
       "0                                      NaN   \n",
       "1                                      NaN   \n",
       "2                                      NaN   \n",
       "3                                      NaN   \n",
       "4                                      NaN   \n",
       "\n",
       "   Time required to start a business (days)  \\\n",
       "0                                       NaN   \n",
       "1                                       NaN   \n",
       "2                                       NaN   \n",
       "3                                       NaN   \n",
       "4                                       NaN   \n",
       "\n",
       "   Total debt service (% of exports of goods, services and primary income)  \\\n",
       "0                                                NaN                         \n",
       "1                                                NaN                         \n",
       "2                                                NaN                         \n",
       "3                                                NaN                         \n",
       "4                                                NaN                         \n",
       "\n",
       "   Total natural resources rents (% of GDP)  \\\n",
       "0                                       NaN   \n",
       "1                                       NaN   \n",
       "2                                       NaN   \n",
       "3                                       NaN   \n",
       "4                                       NaN   \n",
       "\n",
       "   Total reserves (includes gold, current US$)  \\\n",
       "0                                          NaN   \n",
       "1                                          NaN   \n",
       "2                                   50690800.0   \n",
       "3                                          NaN   \n",
       "4                                          NaN   \n",
       "\n",
       "   Total tax and contribution rate (% of profit)  \\\n",
       "0                                            NaN   \n",
       "1                                            NaN   \n",
       "2                                            NaN   \n",
       "3                                            NaN   \n",
       "4                                            NaN   \n",
       "\n",
       "   Trained teachers in primary education (% of total teachers)  \\\n",
       "0                                                NaN             \n",
       "1                                                NaN             \n",
       "2                                                NaN             \n",
       "3                                                NaN             \n",
       "4                                                NaN             \n",
       "\n",
       "   Unemployment, female (% of female labor force) (modeled ILO estimate)  \\\n",
       "0                                                NaN                       \n",
       "1                                                NaN                       \n",
       "2                                                NaN                       \n",
       "3                                                NaN                       \n",
       "4                                                NaN                       \n",
       "\n",
       "   Unemployment, male (% of male labor force) (modeled ILO estimate)  \\\n",
       "0                                                NaN                   \n",
       "1                                                NaN                   \n",
       "2                                                NaN                   \n",
       "3                                                NaN                   \n",
       "4                                                NaN                   \n",
       "\n",
       "   Unemployment, total (% of total labor force) (modeled ILO estimate)  \n",
       "0                                                NaN                    \n",
       "1                                                NaN                    \n",
       "2                                                NaN                    \n",
       "3                                                NaN                    \n",
       "4                                                NaN                    \n",
       "\n",
       "[5 rows x 215 columns]"
      ]
     },
     "execution_count": 2,
     "metadata": {},
     "output_type": "execute_result"
    }
   ],
   "source": [
    "# load the dataset\n",
    "data_path = \"Data/world_bank_indicators.csv\"\n",
    "data = pd.read_csv(data_path, parse_dates=[\"year\"], delimiter=',')\n",
    "data[\"year\"] = data[\"year\"].dt.year\n",
    "data.head()"
   ]
  },
  {
   "cell_type": "markdown",
   "metadata": {},
   "source": [
    "### Extract the data of g20 countries from 1980 to present."
   ]
  },
  {
   "cell_type": "code",
   "execution_count": 3,
   "metadata": {},
   "outputs": [
    {
     "data": {
      "text/plain": [
       "array(['arg', 'aus', 'bra', 'can', 'chn', 'deu', 'fra', 'gbr', 'idn',\n",
       "       'ind', 'ita', 'jpn', 'kor', 'mex', 'rus', 'sau', 'usa', 'zaf'],\n",
       "      dtype=object)"
      ]
     },
     "execution_count": 3,
     "metadata": {},
     "output_type": "execute_result"
    }
   ],
   "source": [
    "# extract data of only g20 countries\n",
    "g20_countries = ['arg', 'aus','bra','can','chn','fra','deu','ind','idn', 'ita', 'jpn',\n",
    "                 'kor','mex','rus','sau','zaf','gbr', 'usa','au','eu']\n",
    "g20_mask = data[\"country\"].isin(g20_countries)\n",
    "g20_data = data.loc[g20_mask,:]\n",
    "\n",
    "g20_data[\"country\"].unique()"
   ]
  },
  {
   "cell_type": "code",
   "execution_count": 4,
   "metadata": {},
   "outputs": [
    {
     "data": {
      "text/plain": [
       "array([1970, 1971, 1972, 1973, 1974, 1975, 1976, 1977, 1978, 1979, 1980,\n",
       "       1981, 1982, 1983, 1984, 1985, 1986, 1987, 1988, 1989, 1990, 1991,\n",
       "       1992, 1993, 1994, 1995, 1996, 1997, 1998, 1999, 2000, 2001, 2002,\n",
       "       2003, 2004, 2005, 2006, 2007, 2008, 2009, 2010, 2011, 2012, 2013,\n",
       "       2014, 2015, 2016, 2017, 2018, 2019, 2020, 2021, 2022, 2023],\n",
       "      dtype=int32)"
      ]
     },
     "execution_count": 4,
     "metadata": {},
     "output_type": "execute_result"
    }
   ],
   "source": [
    "# data of years from 1970 to 2023\n",
    "year_mask = g20_data[\"year\"] > 1969\n",
    "g20_data = g20_data.loc[year_mask,:]\n",
    "g20_data[\"year\"].unique()"
   ]
  },
  {
   "cell_type": "code",
   "execution_count": 5,
   "metadata": {},
   "outputs": [
    {
     "name": "stdout",
     "output_type": "stream",
     "text": [
      "(972, 215)\n"
     ]
    },
    {
     "data": {
      "application/vnd.microsoft.datawrangler.viewer.v0+json": {
       "columns": [
        {
         "name": "index",
         "rawType": "int64",
         "type": "integer"
        },
        {
         "name": "year",
         "rawType": "int32",
         "type": "integer"
        },
        {
         "name": "country",
         "rawType": "object",
         "type": "string"
        },
        {
         "name": "updated_at",
         "rawType": "object",
         "type": "string"
        },
        {
         "name": "Access to electricity (% of population)",
         "rawType": "float64",
         "type": "float"
        },
        {
         "name": "Adjusted net savings, including particulate emission damage (% of GNI)",
         "rawType": "float64",
         "type": "float"
        },
        {
         "name": "Adolescent fertility rate (births per 1,000 women ages 15-19)",
         "rawType": "float64",
         "type": "float"
        },
        {
         "name": "Age dependency ratio (% of working-age population)",
         "rawType": "float64",
         "type": "float"
        },
        {
         "name": "Agricultural irrigated land (% of total agricultural land)",
         "rawType": "float64",
         "type": "float"
        },
        {
         "name": "Agricultural land (% of land area)",
         "rawType": "float64",
         "type": "float"
        },
        {
         "name": "Agriculture, forestry, and fishing, value added (% of GDP)",
         "rawType": "float64",
         "type": "float"
        },
        {
         "name": "Air transport, registered carrier departures worldwide",
         "rawType": "float64",
         "type": "float"
        },
        {
         "name": "Alternative and nuclear energy (% of total energy use)",
         "rawType": "float64",
         "type": "float"
        },
        {
         "name": "Annual freshwater withdrawals, total (% of internal resources)",
         "rawType": "float64",
         "type": "float"
        },
        {
         "name": "Annual freshwater withdrawals, total (billion cubic meters)",
         "rawType": "float64",
         "type": "float"
        },
        {
         "name": "Annualized average growth rate in per capita real survey mean consumption or income, bottom 40% of population (%)",
         "rawType": "float64",
         "type": "float"
        },
        {
         "name": "Annualized average growth rate in per capita real survey mean consumption or income, total population (%)",
         "rawType": "float64",
         "type": "float"
        },
        {
         "name": "Arable land (% of land area)",
         "rawType": "float64",
         "type": "float"
        },
        {
         "name": "Arable land (hectares per person)",
         "rawType": "float64",
         "type": "float"
        },
        {
         "name": "Bank capital to assets ratio (%)",
         "rawType": "float64",
         "type": "float"
        },
        {
         "name": "Bank nonperforming loans to total gross loans (%)",
         "rawType": "float64",
         "type": "float"
        },
        {
         "name": "Birth rate, crude (per 1,000 people)",
         "rawType": "float64",
         "type": "float"
        },
        {
         "name": "Births attended by skilled health staff (% of total)",
         "rawType": "float64",
         "type": "float"
        },
        {
         "name": "Broad money (% of GDP)",
         "rawType": "float64",
         "type": "float"
        },
        {
         "name": "Business extent of disclosure index (0=less disclosure to 10=more disclosure)",
         "rawType": "float64",
         "type": "float"
        },
        {
         "name": "Cause of death, by communicable diseases and maternal, prenatal and nutrition conditions (% of total)",
         "rawType": "float64",
         "type": "float"
        },
        {
         "name": "Cause of death, by injury (% of total)",
         "rawType": "float64",
         "type": "float"
        },
        {
         "name": "Cause of death, by non-communicable diseases (% of total)",
         "rawType": "float64",
         "type": "float"
        },
        {
         "name": "Central government debt, total (% of GDP)",
         "rawType": "float64",
         "type": "float"
        },
        {
         "name": "Cereal yield (kg per hectare)",
         "rawType": "float64",
         "type": "float"
        },
        {
         "name": "Charges for the use of intellectual property, payments (BoP, current US$)",
         "rawType": "float64",
         "type": "float"
        },
        {
         "name": "Charges for the use of intellectual property, receipts (BoP, current US$)",
         "rawType": "float64",
         "type": "float"
        },
        {
         "name": "Children out of school, primary, female",
         "rawType": "float64",
         "type": "float"
        },
        {
         "name": "Children out of school, primary, male",
         "rawType": "float64",
         "type": "float"
        },
        {
         "name": "Commercial bank branches (per 100,000 adults)",
         "rawType": "float64",
         "type": "float"
        },
        {
         "name": "Completeness of birth registration (%)",
         "rawType": "float64",
         "type": "float"
        },
        {
         "name": "Completeness of death registration with cause-of-death information (%)",
         "rawType": "float64",
         "type": "float"
        },
        {
         "name": "Container port traffic (TEU: 20 foot equivalent units)",
         "rawType": "float64",
         "type": "float"
        },
        {
         "name": "Contraceptive prevalence, any method (% of married women ages 15-49)",
         "rawType": "float64",
         "type": "float"
        },
        {
         "name": "Crop production index (2014-2016 = 100)",
         "rawType": "float64",
         "type": "float"
        },
        {
         "name": "Current account balance (BoP, current US$)",
         "rawType": "float64",
         "type": "float"
        },
        {
         "name": "Death rate, crude (per 1,000 people)",
         "rawType": "float64",
         "type": "float"
        },
        {
         "name": "Deposit interest rate (%)",
         "rawType": "float64",
         "type": "float"
        },
        {
         "name": "Depth of credit information index (0=low to 8=high)",
         "rawType": "float64",
         "type": "float"
        },
        {
         "name": "Diabetes prevalence (% of population ages 20 to 79)",
         "rawType": "float64",
         "type": "float"
        },
        {
         "name": "Domestic credit provided by financial sector (% of GDP)",
         "rawType": "float64",
         "type": "float"
        },
        {
         "name": "Domestic credit to private sector (% of GDP)",
         "rawType": "float64",
         "type": "float"
        },
        {
         "name": "Ease of doing business rank (1=most business-friendly regulations)",
         "rawType": "float64",
         "type": "float"
        },
        {
         "name": "Electric power consumption (kWh per capita)",
         "rawType": "float64",
         "type": "float"
        },
        {
         "name": "Employment in agriculture, female (% of female employment) (modeled ILO estimate)",
         "rawType": "float64",
         "type": "float"
        },
        {
         "name": "Employment in agriculture, male (% of male employment) (modeled ILO estimate)",
         "rawType": "float64",
         "type": "float"
        },
        {
         "name": "Energy imports, net (% of energy use)",
         "rawType": "float64",
         "type": "float"
        },
        {
         "name": "Energy intensity level of primary energy (MJ/$2017 PPP GDP)",
         "rawType": "float64",
         "type": "float"
        },
        {
         "name": "Energy use (kg of oil equivalent per capita)",
         "rawType": "float64",
         "type": "float"
        },
        {
         "name": "Expense (% of GDP)",
         "rawType": "float64",
         "type": "float"
        },
        {
         "name": "Exports of goods and services (% of GDP)",
         "rawType": "float64",
         "type": "float"
        },
        {
         "name": "External debt stocks (% of GNI)",
         "rawType": "float64",
         "type": "float"
        },
        {
         "name": "External debt stocks, total (DOD, current US$)",
         "rawType": "float64",
         "type": "float"
        },
        {
         "name": "Fertility rate, total (births per woman)",
         "rawType": "float64",
         "type": "float"
        },
        {
         "name": "Fertilizer consumption (kilograms per hectare of arable land)",
         "rawType": "float64",
         "type": "float"
        },
        {
         "name": "Firms that spend on R&D (% of firms)",
         "rawType": "float64",
         "type": "float"
        },
        {
         "name": "Food production index (2014-2016 = 100)",
         "rawType": "float64",
         "type": "float"
        },
        {
         "name": "Foreign direct investment, net inflows (BoP, current US$)",
         "rawType": "float64",
         "type": "float"
        },
        {
         "name": "Forest area (% of land area)",
         "rawType": "float64",
         "type": "float"
        },
        {
         "name": "Forest area (sq. km)",
         "rawType": "float64",
         "type": "float"
        },
        {
         "name": "Fossil fuel energy consumption (% of total)",
         "rawType": "float64",
         "type": "float"
        },
        {
         "name": "Fuel exports (% of merchandise exports)",
         "rawType": "float64",
         "type": "float"
        },
        {
         "name": "GDP (current US$)",
         "rawType": "float64",
         "type": "float"
        },
        {
         "name": "GDP growth (annual %)",
         "rawType": "float64",
         "type": "float"
        },
        {
         "name": "GDP per capita (current US$)",
         "rawType": "float64",
         "type": "float"
        },
        {
         "name": "GDP per capita growth (annual %)",
         "rawType": "float64",
         "type": "float"
        },
        {
         "name": "GDP per capita, PPP (current international $)",
         "rawType": "float64",
         "type": "float"
        },
        {
         "name": "GDP per person employed (constant 2021 PPP $)",
         "rawType": "float64",
         "type": "float"
        },
        {
         "name": "GDP per unit of energy use (constant 2021 PPP $ per kg of oil equivalent)",
         "rawType": "float64",
         "type": "float"
        },
        {
         "name": "GNI per capita, Atlas method (current US$)",
         "rawType": "float64",
         "type": "float"
        },
        {
         "name": "GNI per capita, PPP (current international $)",
         "rawType": "float64",
         "type": "float"
        },
        {
         "name": "GNI, Atlas method (current US$)",
         "rawType": "float64",
         "type": "float"
        },
        {
         "name": "GNI, PPP (current international $)",
         "rawType": "float64",
         "type": "float"
        },
        {
         "name": "Gini index",
         "rawType": "float64",
         "type": "float"
        },
        {
         "name": "Government expenditure on education, total (% of GDP)",
         "rawType": "float64",
         "type": "float"
        },
        {
         "name": "Government expenditure on education, total (% of government expenditure)",
         "rawType": "float64",
         "type": "float"
        },
        {
         "name": "Government expenditure per student, primary (% of GDP per capita)",
         "rawType": "float64",
         "type": "float"
        },
        {
         "name": "Government expenditure per student, secondary (% of GDP per capita)",
         "rawType": "float64",
         "type": "float"
        },
        {
         "name": "Government expenditure per student, tertiary (% of GDP per capita)",
         "rawType": "float64",
         "type": "float"
        },
        {
         "name": "Grants, excluding technical cooperation (BoP, current US$)",
         "rawType": "float64",
         "type": "float"
        },
        {
         "name": "Gross capital formation (% of GDP)",
         "rawType": "float64",
         "type": "float"
        },
        {
         "name": "Gross intake ratio in first grade of primary education, female (% of relevant age group)",
         "rawType": "float64",
         "type": "float"
        },
        {
         "name": "Gross intake ratio in first grade of primary education, male (% of relevant age group)",
         "rawType": "float64",
         "type": "float"
        },
        {
         "name": "Gross savings (% of GDP)",
         "rawType": "float64",
         "type": "float"
        },
        {
         "name": "High-technology exports (% of manufactured exports)",
         "rawType": "float64",
         "type": "float"
        },
        {
         "name": "High-technology exports (current US$)",
         "rawType": "float64",
         "type": "float"
        },
        {
         "name": "Hospital beds (per 1,000 people)",
         "rawType": "float64",
         "type": "float"
        },
        {
         "name": "Immunization, DPT (% of children ages 12-23 months)",
         "rawType": "float64",
         "type": "float"
        },
        {
         "name": "Imports of goods and services (% of GDP)",
         "rawType": "float64",
         "type": "float"
        },
        {
         "name": "Incidence of tuberculosis (per 100,000 people)",
         "rawType": "float64",
         "type": "float"
        },
        {
         "name": "Income share held by highest 10%",
         "rawType": "float64",
         "type": "float"
        },
        {
         "name": "Income share held by lowest 10%",
         "rawType": "float64",
         "type": "float"
        },
        {
         "name": "Income share held by lowest 20%",
         "rawType": "float64",
         "type": "float"
        },
        {
         "name": "Industry (including construction), value added (% of GDP)",
         "rawType": "float64",
         "type": "float"
        },
        {
         "name": "Inflation, GDP deflator (annual %)",
         "rawType": "float64",
         "type": "float"
        },
        {
         "name": "Inflation, consumer prices (annual %)",
         "rawType": "float64",
         "type": "float"
        },
        {
         "name": "Interest rate spread (lending rate minus deposit rate, %)",
         "rawType": "float64",
         "type": "float"
        },
        {
         "name": "Investment in energy with private participation (current US$)",
         "rawType": "float64",
         "type": "float"
        },
        {
         "name": "Investment in transport with private participation (current US$)",
         "rawType": "float64",
         "type": "float"
        },
        {
         "name": "Labor force, female (% of total labor force)",
         "rawType": "float64",
         "type": "float"
        },
        {
         "name": "Labor force, total",
         "rawType": "float64",
         "type": "float"
        },
        {
         "name": "Land area (sq. km)",
         "rawType": "float64",
         "type": "float"
        },
        {
         "name": "Land area where elevation is below 5 meters (% of total land area)",
         "rawType": "float64",
         "type": "float"
        },
        {
         "name": "Land under cereal production (hectares)",
         "rawType": "float64",
         "type": "float"
        },
        {
         "name": "Lending interest rate (%)",
         "rawType": "float64",
         "type": "float"
        },
        {
         "name": "Life expectancy at birth, female (years)",
         "rawType": "float64",
         "type": "float"
        },
        {
         "name": "Life expectancy at birth, male (years)",
         "rawType": "float64",
         "type": "float"
        },
        {
         "name": "Life expectancy at birth, total (years)",
         "rawType": "float64",
         "type": "float"
        },
        {
         "name": "Listed domestic companies, total",
         "rawType": "float64",
         "type": "float"
        },
        {
         "name": "Literacy rate, adult female (% of females ages 15 and above)",
         "rawType": "float64",
         "type": "float"
        },
        {
         "name": "Literacy rate, adult male (% of males ages 15 and above)",
         "rawType": "float64",
         "type": "float"
        },
        {
         "name": "Literacy rate, adult total (% of people ages 15 and above)",
         "rawType": "float64",
         "type": "float"
        },
        {
         "name": "Literacy rate, youth female (% of females ages 15-24)",
         "rawType": "float64",
         "type": "float"
        },
        {
         "name": "Literacy rate, youth male (% of males ages 15-24)",
         "rawType": "float64",
         "type": "float"
        },
        {
         "name": "Literacy rate, youth total (% of people ages 15-24)",
         "rawType": "float64",
         "type": "float"
        },
        {
         "name": "Logistics performance index: Overall (1=low to 5=high)",
         "rawType": "float64",
         "type": "float"
        },
        {
         "name": "Market capitalization of listed domestic companies (% of GDP)",
         "rawType": "float64",
         "type": "float"
        },
        {
         "name": "Maternal mortality ratio (modeled estimate, per 100,000 live births)",
         "rawType": "float64",
         "type": "float"
        },
        {
         "name": "Medium and high-tech manufacturing value added (% manufacturing value added)",
         "rawType": "float64",
         "type": "float"
        },
        {
         "name": "Mobile cellular subscriptions (per 100 people)",
         "rawType": "float64",
         "type": "float"
        },
        {
         "name": "Mortality caused by road traffic injury (per 100,000 population)",
         "rawType": "float64",
         "type": "float"
        },
        {
         "name": "Mortality rate, infant (per 1,000 live births)",
         "rawType": "float64",
         "type": "float"
        },
        {
         "name": "Mortality rate, neonatal (per 1,000 live births)",
         "rawType": "float64",
         "type": "float"
        },
        {
         "name": "Mortality rate, under-5 (per 1,000 live births)",
         "rawType": "float64",
         "type": "float"
        },
        {
         "name": "Net ODA received (% of GNI)",
         "rawType": "float64",
         "type": "float"
        },
        {
         "name": "Net ODA received (% of central government expense)",
         "rawType": "float64",
         "type": "float"
        },
        {
         "name": "Net ODA received per capita (current US$)",
         "rawType": "float64",
         "type": "float"
        },
        {
         "name": "Net migration",
         "rawType": "float64",
         "type": "float"
        },
        {
         "name": "Net official development assistance received (current US$)",
         "rawType": "float64",
         "type": "float"
        },
        {
         "name": "New businesses registered (number)",
         "rawType": "float64",
         "type": "float"
        },
        {
         "name": "Number of surgical procedures (per 100,000 population)",
         "rawType": "float64",
         "type": "float"
        },
        {
         "name": "Official exchange rate (LCU per US$, period average)",
         "rawType": "float64",
         "type": "float"
        },
        {
         "name": "Ores and metals exports (% of merchandise exports)",
         "rawType": "float64",
         "type": "float"
        },
        {
         "name": "PPP conversion factor, GDP (LCU per international $)",
         "rawType": "float64",
         "type": "float"
        },
        {
         "name": "Patent applications, residents",
         "rawType": "float64",
         "type": "float"
        },
        {
         "name": "Permanent cropland (% of land area)",
         "rawType": "float64",
         "type": "float"
        },
        {
         "name": "Persistence to last grade of primary, female (% of cohort)",
         "rawType": "float64",
         "type": "float"
        },
        {
         "name": "Persistence to last grade of primary, male (% of cohort)",
         "rawType": "float64",
         "type": "float"
        },
        {
         "name": "Personal remittances, received (current US$)",
         "rawType": "float64",
         "type": "float"
        },
        {
         "name": "Population ages 0-14 (% of total population)",
         "rawType": "float64",
         "type": "float"
        },
        {
         "name": "Population ages 15-64 (% of total population)",
         "rawType": "float64",
         "type": "float"
        },
        {
         "name": "Population ages 65 and above (% of total population)",
         "rawType": "float64",
         "type": "float"
        },
        {
         "name": "Population growth (annual %)",
         "rawType": "float64",
         "type": "float"
        },
        {
         "name": "Population in urban agglomerations of more than 1 million (% of total population)",
         "rawType": "float64",
         "type": "float"
        },
        {
         "name": "Population living in slums (% of urban population)",
         "rawType": "float64",
         "type": "float"
        },
        {
         "name": "Population, female (% of total population)",
         "rawType": "float64",
         "type": "float"
        },
        {
         "name": "Population, total",
         "rawType": "float64",
         "type": "float"
        },
        {
         "name": "Poverty gap at $2.15 a day (2017 PPP) (%)",
         "rawType": "float64",
         "type": "float"
        },
        {
         "name": "Poverty headcount ratio at $2.15 a day (2017 PPP) (% of population)",
         "rawType": "float64",
         "type": "float"
        },
        {
         "name": "Poverty headcount ratio at national poverty lines (% of population)",
         "rawType": "float64",
         "type": "float"
        },
        {
         "name": "Pregnant women receiving prenatal care (%)",
         "rawType": "float64",
         "type": "float"
        },
        {
         "name": "Prevalence of HIV, total (% of population ages 15-49)",
         "rawType": "float64",
         "type": "float"
        },
        {
         "name": "Prevalence of stunting, height for age (% of children under 5)",
         "rawType": "float64",
         "type": "float"
        },
        {
         "name": "Prevalence of underweight, weight for age (% of children under 5)",
         "rawType": "float64",
         "type": "float"
        },
        {
         "name": "Price level ratio of PPP conversion factor (GDP) to market exchange rate",
         "rawType": "float64",
         "type": "float"
        },
        {
         "name": "Primary completion rate, female (% of relevant age group)",
         "rawType": "float64",
         "type": "float"
        },
        {
         "name": "Primary completion rate, male (% of relevant age group)",
         "rawType": "float64",
         "type": "float"
        },
        {
         "name": "Primary completion rate, total (% of relevant age group)",
         "rawType": "float64",
         "type": "float"
        },
        {
         "name": "Progression to secondary school, female (%)",
         "rawType": "float64",
         "type": "float"
        },
        {
         "name": "Progression to secondary school, male (%)",
         "rawType": "float64",
         "type": "float"
        },
        {
         "name": "Public private partnerships investment in ICT (current US$)",
         "rawType": "float64",
         "type": "float"
        },
        {
         "name": "Pupil-teacher ratio, primary",
         "rawType": "float64",
         "type": "float"
        },
        {
         "name": "Rail lines (total route-km)",
         "rawType": "float64",
         "type": "float"
        },
        {
         "name": "Real interest rate (%)",
         "rawType": "float64",
         "type": "float"
        },
        {
         "name": "Refugee population by country or territory of origin",
         "rawType": "float64",
         "type": "float"
        },
        {
         "name": "Renewable electricity output (% of total electricity output)",
         "rawType": "float64",
         "type": "float"
        },
        {
         "name": "Renewable energy consumption (% of total final energy consumption)",
         "rawType": "float64",
         "type": "float"
        },
        {
         "name": "Renewable internal freshwater resources per capita (cubic meters)",
         "rawType": "float64",
         "type": "float"
        },
        {
         "name": "Renewable internal freshwater resources, total (billion cubic meters)",
         "rawType": "float64",
         "type": "float"
        },
        {
         "name": "Repeaters, primary, female (% of female enrollment)",
         "rawType": "float64",
         "type": "float"
        },
        {
         "name": "Repeaters, primary, male (% of male enrollment)",
         "rawType": "float64",
         "type": "float"
        },
        {
         "name": "Researchers in R&D (per million people)",
         "rawType": "float64",
         "type": "float"
        },
        {
         "name": "Revenue, excluding grants (% of GDP)",
         "rawType": "float64",
         "type": "float"
        },
        {
         "name": "Risk of catastrophic expenditure for surgical care (% of people at risk)",
         "rawType": "float64",
         "type": "float"
        },
        {
         "name": "Risk of impoverishing expenditure for surgical care (% of people at risk)",
         "rawType": "float64",
         "type": "float"
        },
        {
         "name": "Risk premium on lending (lending rate minus treasury bill rate, %)",
         "rawType": "float64",
         "type": "float"
        },
        {
         "name": "Rural population",
         "rawType": "float64",
         "type": "float"
        },
        {
         "name": "Rural population (% of total population)",
         "rawType": "float64",
         "type": "float"
        },
        {
         "name": "S&P Global Equity Indices (annual % change)",
         "rawType": "float64",
         "type": "float"
        },
        {
         "name": "School enrollment, preprimary (% gross)",
         "rawType": "float64",
         "type": "float"
        },
        {
         "name": "School enrollment, primary (% gross)",
         "rawType": "float64",
         "type": "float"
        },
        {
         "name": "School enrollment, primary (% net)",
         "rawType": "float64",
         "type": "float"
        },
        {
         "name": "School enrollment, primary (gross), gender parity index (GPI)",
         "rawType": "float64",
         "type": "float"
        },
        {
         "name": "School enrollment, primary and secondary (gross), gender parity index (GPI)",
         "rawType": "float64",
         "type": "float"
        },
        {
         "name": "School enrollment, secondary (% gross)",
         "rawType": "float64",
         "type": "float"
        },
        {
         "name": "School enrollment, secondary (% net)",
         "rawType": "float64",
         "type": "float"
        },
        {
         "name": "School enrollment, tertiary (% gross)",
         "rawType": "float64",
         "type": "float"
        },
        {
         "name": "Scientific and technical journal articles",
         "rawType": "float64",
         "type": "float"
        },
        {
         "name": "Secure Internet servers (per 1 million people)",
         "rawType": "float64",
         "type": "float"
        },
        {
         "name": "Short-term debt (% of total reserves)",
         "rawType": "float64",
         "type": "float"
        },
        {
         "name": "Specialist surgical workforce (per 100,000 population)",
         "rawType": "float64",
         "type": "float"
        },
        {
         "name": "Start-up procedures to register a business (number)",
         "rawType": "float64",
         "type": "float"
        },
        {
         "name": "Stocks traded, total value (% of GDP)",
         "rawType": "float64",
         "type": "float"
        },
        {
         "name": "Strength of legal rights index (0=weak to 12=strong)",
         "rawType": "float64",
         "type": "float"
        },
        {
         "name": "Surface area (sq. km)",
         "rawType": "float64",
         "type": "float"
        },
        {
         "name": "Survey mean consumption or income per capita, bottom 40% of population (2017 PPP $ per day)",
         "rawType": "float64",
         "type": "float"
        },
        {
         "name": "Survey mean consumption or income per capita, total population (2017 PPP $ per day)",
         "rawType": "float64",
         "type": "float"
        },
        {
         "name": "Tax revenue (% of GDP)",
         "rawType": "float64",
         "type": "float"
        },
        {
         "name": "Technical cooperation grants (BoP, current US$)",
         "rawType": "float64",
         "type": "float"
        },
        {
         "name": "Technicians in R&D (per million people)",
         "rawType": "float64",
         "type": "float"
        },
        {
         "name": "Terrestrial and marine protected areas (% of total territorial area)",
         "rawType": "float64",
         "type": "float"
        },
        {
         "name": "Time required to get electricity (days)",
         "rawType": "float64",
         "type": "float"
        },
        {
         "name": "Time required to start a business (days)",
         "rawType": "float64",
         "type": "float"
        },
        {
         "name": "Total debt service (% of exports of goods, services and primary income)",
         "rawType": "float64",
         "type": "float"
        },
        {
         "name": "Total natural resources rents (% of GDP)",
         "rawType": "float64",
         "type": "float"
        },
        {
         "name": "Total reserves (includes gold, current US$)",
         "rawType": "float64",
         "type": "float"
        },
        {
         "name": "Total tax and contribution rate (% of profit)",
         "rawType": "float64",
         "type": "float"
        },
        {
         "name": "Trained teachers in primary education (% of total teachers)",
         "rawType": "float64",
         "type": "float"
        },
        {
         "name": "Unemployment, female (% of female labor force) (modeled ILO estimate)",
         "rawType": "float64",
         "type": "float"
        },
        {
         "name": "Unemployment, male (% of male labor force) (modeled ILO estimate)",
         "rawType": "float64",
         "type": "float"
        },
        {
         "name": "Unemployment, total (% of total labor force) (modeled ILO estimate)",
         "rawType": "float64",
         "type": "float"
        }
       ],
       "ref": "0159c442-9398-42d1-a392-4ef27bcea5a6",
       "rows": [
        [
         "2659",
         "1970",
         "arg",
         "2025-04-03 02:52:37 UTC",
         null,
         null,
         "64.405",
         "56.8406147374",
         null,
         "46.5463753659",
         "9.6375609641",
         "71700.0",
         null,
         null,
         null,
         null,
         null,
         "8.8073548703",
         "1.0094090763",
         null,
         null,
         "23.472",
         null,
         "22.9961680393",
         null,
         null,
         null,
         null,
         null,
         "1775.3",
         null,
         null,
         "61442.0",
         "96028.0",
         null,
         null,
         null,
         null,
         null,
         "25.2",
         null,
         "9.151",
         null,
         null,
         null,
         "24.9458431557",
         "17.5387441024",
         null,
         null,
         null,
         null,
         null,
         null,
         null,
         null,
         "5.601566676",
         "19.3878463642",
         "5893191433.6",
         "3.088",
         "3.6110027797",
         null,
         "38.77",
         "89769999.9",
         null,
         null,
         null,
         "0.4299854578",
         "31584210365.5447",
         "3.0456433192",
         "1322.7145421681",
         "1.4505852357",
         null,
         null,
         null,
         "1320.0",
         null,
         "31582382532.3034",
         null,
         null,
         "1.4580899477",
         null,
         null,
         null,
         null,
         "-2930000.0",
         "24.4400952475",
         "118.31683",
         "120.28156",
         null,
         null,
         null,
         "5.5858001709",
         null,
         "4.7358774049",
         null,
         null,
         null,
         null,
         "42.2787896345",
         "6.4678746392",
         null,
         null,
         null,
         null,
         null,
         null,
         "2736690.0",
         null,
         "11221810.0",
         null,
         "69.705",
         "61.971",
         "65.589",
         null,
         null,
         null,
         null,
         null,
         null,
         null,
         null,
         null,
         null,
         null,
         "0.0",
         null,
         "58.9",
         "25.1",
         "71.7",
         "-0.0080272882",
         null,
         "-0.1021847158",
         "38355.0",
         "-2440000.05722046",
         null,
         null,
         "0.0",
         "0.4718688542",
         null,
         null,
         "0.3379995542",
         "66.8444595337",
         "60.528301239",
         null,
         "29.5906451068",
         "63.7589957621",
         "6.6503591311",
         "1.5600194128",
         "44.0384328433",
         null,
         "50.3546333041",
         "23878327.0",
         null,
         null,
         null,
         null,
         null,
         null,
         null,
         null,
         "73.1060562134",
         "66.8884124756",
         "69.9526290894",
         "33.97587",
         "25.22491",
         null,
         "19.24521",
         null,
         null,
         null,
         null,
         null,
         "12228.6624184349",
         "292.0",
         "10.01574",
         "12.72176",
         null,
         null,
         null,
         null,
         null,
         "5043103.0",
         "21.12",
         null,
         "23.4448699951",
         "105.7694778442",
         "95.12735",
         "1.0058300495",
         "1.0338300467",
         "44.7096214294",
         null,
         "13.3775901794",
         null,
         null,
         "93.7240924937",
         null,
         null,
         null,
         null,
         "2780400.0",
         null,
         null,
         null,
         "12350000.0",
         null,
         null,
         null,
         null,
         null,
         "0.3011806973",
         "681788410.0",
         null,
         null,
         null,
         null,
         null
        ],
        [
         "2663",
         "1970",
         "aus",
         "2025-04-03 02:52:37 UTC",
         null,
         null,
         "50.755",
         "59.144409523",
         null,
         "64.2297877589",
         null,
         "283300.0",
         "1.5040371235",
         null,
         null,
         null,
         null,
         "2.4073494396",
         "1.4786903814",
         null,
         null,
         "20.6",
         null,
         "42.5350891454",
         null,
         null,
         null,
         null,
         null,
         "1217.6",
         null,
         null,
         null,
         null,
         null,
         null,
         null,
         null,
         null,
         "30.56",
         null,
         "9.0",
         null,
         null,
         null,
         null,
         "23.2769739338",
         null,
         "3609.9784120892",
         null,
         null,
         "6.1499335138",
         null,
         "4063.411369633",
         null,
         "12.9545331382",
         null,
         null,
         "2.859",
         "52.516006208",
         null,
         "45.21",
         "893138535.5",
         null,
         null,
         "91.5311097445",
         "5.5848244813",
         "41334726613.5563",
         "7.1756947465",
         "3304.9273697574",
         "5.0847960883",
         null,
         null,
         null,
         "3270.0",
         null,
         "40942750102.5544",
         null,
         null,
         null,
         null,
         null,
         null,
         null,
         null,
         "32.9729583266",
         null,
         null,
         null,
         null,
         null,
         "11.6999998093",
         null,
         "13.1983959248",
         null,
         null,
         null,
         null,
         null,
         "5.1323386424",
         "3.4391534392",
         null,
         null,
         null,
         null,
         null,
         "7682300.0",
         null,
         "10598124.0",
         "6.90625",
         "74.44",
         "67.76",
         "71.0185365854",
         null,
         null,
         null,
         null,
         null,
         null,
         null,
         null,
         null,
         null,
         null,
         "0.0",
         null,
         "17.8",
         "12.6",
         "21.5",
         null,
         null,
         null,
         "256295.0",
         null,
         null,
         null,
         "0.8928569999",
         "22.5742679241",
         null,
         null,
         "0.0242325866",
         null,
         null,
         "180320037.8",
         "28.8171843906",
         "62.8360087626",
         "8.3468068468",
         "1.9701888787",
         "62.6385224274",
         null,
         "49.7043711012",
         "12507000.0",
         null,
         null,
         null,
         null,
         null,
         null,
         null,
         null,
         null,
         null,
         null,
         null,
         null,
         null,
         null,
         null,
         "1.6873127531",
         null,
         null,
         null,
         "39337.9707363876",
         "492.0",
         null,
         null,
         null,
         null,
         null,
         null,
         null,
         "2001245.0",
         "16.001",
         null,
         null,
         null,
         null,
         null,
         null,
         "84.0505371094",
         null,
         "16.6101608276",
         null,
         null,
         null,
         null,
         null,
         null,
         null,
         "7741220.0",
         null,
         null,
         null,
         null,
         null,
         null,
         null,
         null,
         null,
         "1.8257326183",
         "1708729730.0",
         null,
         null,
         null,
         null,
         null
        ],
        [
         "2679",
         "1970",
         "bra",
         "2025-04-03 02:52:37 UTC",
         null,
         null,
         "75.066",
         "83.8511390972",
         null,
         "22.7715735798",
         "0.0",
         "137700.0",
         null,
         null,
         null,
         null,
         null,
         "3.3746742696",
         "0.2957358582",
         null,
         null,
         "35.624",
         null,
         "19.4081470929",
         null,
         null,
         null,
         null,
         null,
         "1408.8",
         null,
         null,
         null,
         null,
         null,
         null,
         null,
         null,
         null,
         "21.66",
         null,
         "10.82",
         null,
         null,
         null,
         null,
         "30.892059865",
         null,
         null,
         null,
         null,
         null,
         null,
         null,
         null,
         "7.029425605",
         "14.3406853099",
         "5984162468.6",
         "4.972",
         "35.5214138836",
         null,
         "18.32",
         "391699999.9",
         null,
         null,
         null,
         "0.5816323206",
         "42327664793.6934",
         "10.4",
         "443.7994849827",
         "7.70310528",
         null,
         null,
         null,
         "450.0",
         null,
         "42977060150.82369",
         null,
         null,
         null,
         null,
         null,
         null,
         null,
         "28230000.0",
         "20.5420007092",
         null,
         null,
         null,
         null,
         null,
         "3.6918001175",
         null,
         "7.4497477612",
         null,
         null,
         null,
         null,
         "0.0",
         "16.2551115402",
         null,
         null,
         null,
         null,
         null,
         null,
         "8358140.0",
         null,
         "16821700.0",
         null,
         "59.73",
         "54.779",
         "57.171",
         null,
         null,
         null,
         null,
         null,
         null,
         null,
         null,
         null,
         null,
         null,
         "0.0",
         null,
         "101.9",
         "46.0",
         "132.6",
         "0.3279528058",
         null,
         "1.4348526555",
         "-18779.0",
         "136850006.103516",
         null,
         null,
         "0.0",
         "10.1052373497",
         null,
         null,
         "0.9552364521",
         null,
         null,
         null,
         "42.6507175296",
         "54.3918305732",
         "2.9574518972",
         "2.4731717413",
         "27.7298594795",
         null,
         "50.043335484",
         "95375651.0",
         null,
         null,
         null,
         null,
         null,
         null,
         null,
         null,
         null,
         null,
         "76.4418029785",
         null,
         null,
         null,
         "28.01019",
         null,
         null,
         null,
         null,
         null,
         "59354.7717960006",
         "5661.0",
         null,
         null,
         null,
         null,
         null,
         null,
         null,
         "42052078.0",
         "44.091",
         null,
         null,
         "120.172958374",
         null,
         null,
         null,
         "25.9546108246",
         null,
         "4.766119957",
         null,
         null,
         "60.0065614332",
         null,
         null,
         null,
         null,
         "8515770.0",
         null,
         null,
         null,
         "31840000.0",
         null,
         null,
         null,
         null,
         null,
         "1.6133003098",
         "1189904670.0",
         null,
         null,
         null,
         null,
         null
        ],
        [
         "2685",
         "1970",
         "can",
         "2025-04-03 02:52:37 UTC",
         null,
         null,
         "40.467",
         "61.5460787008",
         null,
         "7.0448235978",
         null,
         "305200.0",
         "10.0432860347",
         null,
         null,
         null,
         null,
         "4.2944189953",
         "1.8055711874",
         null,
         null,
         "17.4",
         null,
         "47.7547497838",
         null,
         null,
         null,
         null,
         null,
         "2110.8",
         null,
         null,
         null,
         null,
         null,
         null,
         null,
         null,
         null,
         "30.69",
         "493731567.608133",
         "7.3",
         null,
         null,
         null,
         null,
         "33.3915378371",
         null,
         "8962.2022134684",
         null,
         null,
         "-4.8221998631",
         null,
         "6476.3885293566",
         null,
         "21.8443227929",
         null,
         null,
         "2.258",
         "20.8332034699",
         null,
         "41.83",
         "1827117680.30674",
         null,
         null,
         "84.6622417265",
         "6.0449438647",
         "88192257632.3093",
         "2.9187132419",
         "4135.8214984201",
         "1.4900910735",
         null,
         null,
         null,
         "4010.0",
         null,
         "85518083414.8841",
         null,
         null,
         null,
         null,
         null,
         null,
         null,
         null,
         "22.1242947393",
         null,
         null,
         "21.2120018316",
         null,
         null,
         "7.0",
         null,
         "19.6479537252",
         null,
         null,
         null,
         null,
         null,
         "4.72201383",
         "3.3460398136",
         null,
         null,
         null,
         null,
         null,
         "8965590.0",
         null,
         "13531041.0",
         "8.1666666667",
         "76.25",
         "69.32",
         "72.7004878049",
         null,
         null,
         null,
         null,
         null,
         null,
         null,
         null,
         null,
         null,
         null,
         "0.0",
         null,
         "18.5",
         "13.2",
         "22.0",
         null,
         null,
         null,
         "304627.0",
         null,
         null,
         null,
         "1.0442187442",
         "20.3703582365",
         null,
         null,
         "0.0092576172",
         null,
         null,
         null,
         "30.1770445945",
         "61.9018417985",
         "7.9211136071",
         "1.3978316003",
         "36.1584552617",
         null,
         "49.8543448255",
         "21324000.0",
         null,
         null,
         null,
         null,
         null,
         null,
         null,
         null,
         null,
         null,
         null,
         null,
         null,
         null,
         null,
         null,
         "3.2893302093",
         null,
         null,
         null,
         "133652.222847496",
         "2850.0",
         null,
         null,
         null,
         null,
         null,
         null,
         "2.1758333333",
         "5191541.0",
         "24.346",
         null,
         null,
         null,
         null,
         null,
         null,
         null,
         null,
         null,
         null,
         null,
         null,
         null,
         null,
         null,
         null,
         "15640500.0",
         null,
         null,
         null,
         null,
         null,
         null,
         null,
         null,
         null,
         "1.9788354848",
         "4732515670.0",
         null,
         null,
         null,
         null,
         null
        ],
        [
         "2690",
         "1970",
         "chn",
         "2025-04-03 02:52:37 UTC",
         null,
         null,
         "49.029",
         "80.1831695799",
         null,
         "39.9009400048",
         "34.798438391",
         null,
         null,
         null,
         null,
         null,
         null,
         "10.5749207786",
         "0.1213224736",
         null,
         null,
         "33.43",
         null,
         null,
         null,
         null,
         null,
         null,
         null,
         "2127.7",
         null,
         null,
         null,
         null,
         null,
         null,
         null,
         null,
         null,
         "20.73",
         null,
         "7.6",
         null,
         null,
         null,
         null,
         null,
         null,
         null,
         null,
         null,
         null,
         null,
         null,
         null,
         "2.4558912418",
         null,
         null,
         "6.085",
         "44.3896051571",
         null,
         "16.18",
         null,
         null,
         null,
         null,
         null,
         "92602634891.6589",
         "19.2999999967",
         "113.162577848",
         "16.0503992929",
         null,
         null,
         null,
         "120.0",
         null,
         "100211078199.048",
         null,
         null,
         null,
         null,
         null,
         null,
         null,
         null,
         "32.8694767118",
         null,
         null,
         null,
         null,
         null,
         "1.5399999619",
         null,
         "2.3774269518",
         null,
         null,
         null,
         null,
         "40.2728429179",
         "-2.6145704501",
         null,
         null,
         null,
         null,
         null,
         null,
         "9388250.0",
         null,
         "92886508.0",
         null,
         "58.617",
         "54.685",
         "56.607",
         null,
         null,
         null,
         null,
         null,
         null,
         null,
         null,
         null,
         null,
         null,
         "0.0",
         null,
         "79.5",
         null,
         "112.6",
         null,
         null,
         null,
         "-126510.0",
         null,
         null,
         null,
         "2.4618088988",
         null,
         null,
         null,
         "0.2471174074",
         null,
         null,
         null,
         "40.79310799",
         "55.4990792418",
         "3.7078127682",
         "2.7616755665",
         "7.8798113196",
         null,
         "49.0617537511",
         "818315000.0",
         null,
         null,
         null,
         null,
         null,
         null,
         null,
         null,
         null,
         null,
         null,
         null,
         null,
         null,
         "28.86952",
         null,
         null,
         "66000.0",
         null,
         null,
         "3437.4293517777",
         "2812.9",
         null,
         null,
         null,
         null,
         null,
         null,
         null,
         "675928190.0",
         "82.6",
         null,
         null,
         "120.340057373",
         null,
         null,
         null,
         "25.7861003876",
         null,
         "0.1272500008",
         null,
         null,
         null,
         null,
         null,
         null,
         null,
         "9562950.0",
         null,
         null,
         null,
         null,
         null,
         null,
         null,
         null,
         null,
         "0.8404169437",
         null,
         null,
         null,
         null,
         null,
         null
        ]
       ],
       "shape": {
        "columns": 215,
        "rows": 5
       }
      },
      "text/html": [
       "<div>\n",
       "<style scoped>\n",
       "    .dataframe tbody tr th:only-of-type {\n",
       "        vertical-align: middle;\n",
       "    }\n",
       "\n",
       "    .dataframe tbody tr th {\n",
       "        vertical-align: top;\n",
       "    }\n",
       "\n",
       "    .dataframe thead th {\n",
       "        text-align: right;\n",
       "    }\n",
       "</style>\n",
       "<table border=\"1\" class=\"dataframe\">\n",
       "  <thead>\n",
       "    <tr style=\"text-align: right;\">\n",
       "      <th></th>\n",
       "      <th>year</th>\n",
       "      <th>country</th>\n",
       "      <th>updated_at</th>\n",
       "      <th>Access to electricity (% of population)</th>\n",
       "      <th>Adjusted net savings, including particulate emission damage (% of GNI)</th>\n",
       "      <th>Adolescent fertility rate (births per 1,000 women ages 15-19)</th>\n",
       "      <th>Age dependency ratio (% of working-age population)</th>\n",
       "      <th>Agricultural irrigated land (% of total agricultural land)</th>\n",
       "      <th>Agricultural land (% of land area)</th>\n",
       "      <th>Agriculture, forestry, and fishing, value added (% of GDP)</th>\n",
       "      <th>...</th>\n",
       "      <th>Time required to get electricity (days)</th>\n",
       "      <th>Time required to start a business (days)</th>\n",
       "      <th>Total debt service (% of exports of goods, services and primary income)</th>\n",
       "      <th>Total natural resources rents (% of GDP)</th>\n",
       "      <th>Total reserves (includes gold, current US$)</th>\n",
       "      <th>Total tax and contribution rate (% of profit)</th>\n",
       "      <th>Trained teachers in primary education (% of total teachers)</th>\n",
       "      <th>Unemployment, female (% of female labor force) (modeled ILO estimate)</th>\n",
       "      <th>Unemployment, male (% of male labor force) (modeled ILO estimate)</th>\n",
       "      <th>Unemployment, total (% of total labor force) (modeled ILO estimate)</th>\n",
       "    </tr>\n",
       "  </thead>\n",
       "  <tbody>\n",
       "    <tr>\n",
       "      <th>2659</th>\n",
       "      <td>1970</td>\n",
       "      <td>arg</td>\n",
       "      <td>2025-04-03 02:52:37 UTC</td>\n",
       "      <td>NaN</td>\n",
       "      <td>NaN</td>\n",
       "      <td>64.405</td>\n",
       "      <td>56.840615</td>\n",
       "      <td>NaN</td>\n",
       "      <td>46.546375</td>\n",
       "      <td>9.637561</td>\n",
       "      <td>...</td>\n",
       "      <td>NaN</td>\n",
       "      <td>NaN</td>\n",
       "      <td>NaN</td>\n",
       "      <td>0.301181</td>\n",
       "      <td>6.817884e+08</td>\n",
       "      <td>NaN</td>\n",
       "      <td>NaN</td>\n",
       "      <td>NaN</td>\n",
       "      <td>NaN</td>\n",
       "      <td>NaN</td>\n",
       "    </tr>\n",
       "    <tr>\n",
       "      <th>2663</th>\n",
       "      <td>1970</td>\n",
       "      <td>aus</td>\n",
       "      <td>2025-04-03 02:52:37 UTC</td>\n",
       "      <td>NaN</td>\n",
       "      <td>NaN</td>\n",
       "      <td>50.755</td>\n",
       "      <td>59.144410</td>\n",
       "      <td>NaN</td>\n",
       "      <td>64.229788</td>\n",
       "      <td>NaN</td>\n",
       "      <td>...</td>\n",
       "      <td>NaN</td>\n",
       "      <td>NaN</td>\n",
       "      <td>NaN</td>\n",
       "      <td>1.825733</td>\n",
       "      <td>1.708730e+09</td>\n",
       "      <td>NaN</td>\n",
       "      <td>NaN</td>\n",
       "      <td>NaN</td>\n",
       "      <td>NaN</td>\n",
       "      <td>NaN</td>\n",
       "    </tr>\n",
       "    <tr>\n",
       "      <th>2679</th>\n",
       "      <td>1970</td>\n",
       "      <td>bra</td>\n",
       "      <td>2025-04-03 02:52:37 UTC</td>\n",
       "      <td>NaN</td>\n",
       "      <td>NaN</td>\n",
       "      <td>75.066</td>\n",
       "      <td>83.851139</td>\n",
       "      <td>NaN</td>\n",
       "      <td>22.771574</td>\n",
       "      <td>0.000000</td>\n",
       "      <td>...</td>\n",
       "      <td>NaN</td>\n",
       "      <td>NaN</td>\n",
       "      <td>NaN</td>\n",
       "      <td>1.613300</td>\n",
       "      <td>1.189905e+09</td>\n",
       "      <td>NaN</td>\n",
       "      <td>NaN</td>\n",
       "      <td>NaN</td>\n",
       "      <td>NaN</td>\n",
       "      <td>NaN</td>\n",
       "    </tr>\n",
       "    <tr>\n",
       "      <th>2685</th>\n",
       "      <td>1970</td>\n",
       "      <td>can</td>\n",
       "      <td>2025-04-03 02:52:37 UTC</td>\n",
       "      <td>NaN</td>\n",
       "      <td>NaN</td>\n",
       "      <td>40.467</td>\n",
       "      <td>61.546079</td>\n",
       "      <td>NaN</td>\n",
       "      <td>7.044824</td>\n",
       "      <td>NaN</td>\n",
       "      <td>...</td>\n",
       "      <td>NaN</td>\n",
       "      <td>NaN</td>\n",
       "      <td>NaN</td>\n",
       "      <td>1.978835</td>\n",
       "      <td>4.732516e+09</td>\n",
       "      <td>NaN</td>\n",
       "      <td>NaN</td>\n",
       "      <td>NaN</td>\n",
       "      <td>NaN</td>\n",
       "      <td>NaN</td>\n",
       "    </tr>\n",
       "    <tr>\n",
       "      <th>2690</th>\n",
       "      <td>1970</td>\n",
       "      <td>chn</td>\n",
       "      <td>2025-04-03 02:52:37 UTC</td>\n",
       "      <td>NaN</td>\n",
       "      <td>NaN</td>\n",
       "      <td>49.029</td>\n",
       "      <td>80.183170</td>\n",
       "      <td>NaN</td>\n",
       "      <td>39.900940</td>\n",
       "      <td>34.798438</td>\n",
       "      <td>...</td>\n",
       "      <td>NaN</td>\n",
       "      <td>NaN</td>\n",
       "      <td>NaN</td>\n",
       "      <td>0.840417</td>\n",
       "      <td>NaN</td>\n",
       "      <td>NaN</td>\n",
       "      <td>NaN</td>\n",
       "      <td>NaN</td>\n",
       "      <td>NaN</td>\n",
       "      <td>NaN</td>\n",
       "    </tr>\n",
       "  </tbody>\n",
       "</table>\n",
       "<p>5 rows × 215 columns</p>\n",
       "</div>"
      ],
      "text/plain": [
       "      year country               updated_at  \\\n",
       "2659  1970     arg  2025-04-03 02:52:37 UTC   \n",
       "2663  1970     aus  2025-04-03 02:52:37 UTC   \n",
       "2679  1970     bra  2025-04-03 02:52:37 UTC   \n",
       "2685  1970     can  2025-04-03 02:52:37 UTC   \n",
       "2690  1970     chn  2025-04-03 02:52:37 UTC   \n",
       "\n",
       "      Access to electricity (% of population)  \\\n",
       "2659                                      NaN   \n",
       "2663                                      NaN   \n",
       "2679                                      NaN   \n",
       "2685                                      NaN   \n",
       "2690                                      NaN   \n",
       "\n",
       "      Adjusted net savings, including particulate emission damage (% of GNI)  \\\n",
       "2659                                                NaN                        \n",
       "2663                                                NaN                        \n",
       "2679                                                NaN                        \n",
       "2685                                                NaN                        \n",
       "2690                                                NaN                        \n",
       "\n",
       "      Adolescent fertility rate (births per 1,000 women ages 15-19)  \\\n",
       "2659                                             64.405               \n",
       "2663                                             50.755               \n",
       "2679                                             75.066               \n",
       "2685                                             40.467               \n",
       "2690                                             49.029               \n",
       "\n",
       "      Age dependency ratio (% of working-age population)  \\\n",
       "2659                                          56.840615    \n",
       "2663                                          59.144410    \n",
       "2679                                          83.851139    \n",
       "2685                                          61.546079    \n",
       "2690                                          80.183170    \n",
       "\n",
       "      Agricultural irrigated land (% of total agricultural land)  \\\n",
       "2659                                                NaN            \n",
       "2663                                                NaN            \n",
       "2679                                                NaN            \n",
       "2685                                                NaN            \n",
       "2690                                                NaN            \n",
       "\n",
       "      Agricultural land (% of land area)  \\\n",
       "2659                           46.546375   \n",
       "2663                           64.229788   \n",
       "2679                           22.771574   \n",
       "2685                            7.044824   \n",
       "2690                           39.900940   \n",
       "\n",
       "      Agriculture, forestry, and fishing, value added (% of GDP)  ...  \\\n",
       "2659                                           9.637561           ...   \n",
       "2663                                                NaN           ...   \n",
       "2679                                           0.000000           ...   \n",
       "2685                                                NaN           ...   \n",
       "2690                                          34.798438           ...   \n",
       "\n",
       "      Time required to get electricity (days)  \\\n",
       "2659                                      NaN   \n",
       "2663                                      NaN   \n",
       "2679                                      NaN   \n",
       "2685                                      NaN   \n",
       "2690                                      NaN   \n",
       "\n",
       "      Time required to start a business (days)  \\\n",
       "2659                                       NaN   \n",
       "2663                                       NaN   \n",
       "2679                                       NaN   \n",
       "2685                                       NaN   \n",
       "2690                                       NaN   \n",
       "\n",
       "      Total debt service (% of exports of goods, services and primary income)  \\\n",
       "2659                                                NaN                         \n",
       "2663                                                NaN                         \n",
       "2679                                                NaN                         \n",
       "2685                                                NaN                         \n",
       "2690                                                NaN                         \n",
       "\n",
       "      Total natural resources rents (% of GDP)  \\\n",
       "2659                                  0.301181   \n",
       "2663                                  1.825733   \n",
       "2679                                  1.613300   \n",
       "2685                                  1.978835   \n",
       "2690                                  0.840417   \n",
       "\n",
       "      Total reserves (includes gold, current US$)  \\\n",
       "2659                                 6.817884e+08   \n",
       "2663                                 1.708730e+09   \n",
       "2679                                 1.189905e+09   \n",
       "2685                                 4.732516e+09   \n",
       "2690                                          NaN   \n",
       "\n",
       "      Total tax and contribution rate (% of profit)  \\\n",
       "2659                                            NaN   \n",
       "2663                                            NaN   \n",
       "2679                                            NaN   \n",
       "2685                                            NaN   \n",
       "2690                                            NaN   \n",
       "\n",
       "      Trained teachers in primary education (% of total teachers)  \\\n",
       "2659                                                NaN             \n",
       "2663                                                NaN             \n",
       "2679                                                NaN             \n",
       "2685                                                NaN             \n",
       "2690                                                NaN             \n",
       "\n",
       "      Unemployment, female (% of female labor force) (modeled ILO estimate)  \\\n",
       "2659                                                NaN                       \n",
       "2663                                                NaN                       \n",
       "2679                                                NaN                       \n",
       "2685                                                NaN                       \n",
       "2690                                                NaN                       \n",
       "\n",
       "      Unemployment, male (% of male labor force) (modeled ILO estimate)  \\\n",
       "2659                                                NaN                   \n",
       "2663                                                NaN                   \n",
       "2679                                                NaN                   \n",
       "2685                                                NaN                   \n",
       "2690                                                NaN                   \n",
       "\n",
       "      Unemployment, total (% of total labor force) (modeled ILO estimate)  \n",
       "2659                                                NaN                    \n",
       "2663                                                NaN                    \n",
       "2679                                                NaN                    \n",
       "2685                                                NaN                    \n",
       "2690                                                NaN                    \n",
       "\n",
       "[5 rows x 215 columns]"
      ]
     },
     "execution_count": 5,
     "metadata": {},
     "output_type": "execute_result"
    }
   ],
   "source": [
    "# check the data structure\n",
    "print(g20_data.shape)\n",
    "g20_data.head()"
   ]
  },
  {
   "cell_type": "markdown",
   "metadata": {},
   "source": [
    "# 3. Data Cleaning and Preprocessing"
   ]
  },
  {
   "cell_type": "markdown",
   "metadata": {},
   "source": [
    "## Generic Feature Selection\n",
    "\n",
    "Filter indicators for economically and relevant and predictive variables."
   ]
  },
  {
   "cell_type": "code",
   "execution_count": 6,
   "metadata": {},
   "outputs": [],
   "source": [
    "# after the research, I found that the following variables are important for GDP per capita\n",
    "indicators = [\n",
    "    \"GDP per capita (current US$)\",\n",
    "    \n",
    "    # Investment and Savings\n",
    "    \"Gross capital formation (% of GDP)\",\n",
    "    \"Gross savings (% of GDP)\",\n",
    "    \"Foreign direct investment, net inflows (BoP, current US$)\",\n",
    "    \n",
    "    # Trade and External Sector\n",
    "    \"Exports of goods and services (% of GDP)\",\n",
    "    \"Imports of goods and services (% of GDP)\",\n",
    "    \"Current account balance (BoP, current US$)\",\n",
    "    \"Total reserves (includes gold, current US$)\",\n",
    "    \"Market capitalization of listed domestic companies (% of GDP)\",\n",
    "    \n",
    "    # Education and Human Capital\n",
    "    \"School enrollment, primary (% gross)\",\n",
    "    \"School enrollment, secondary (% gross)\",\n",
    "    \"School enrollment, tertiary (% gross)\",\n",
    "    \"Government expenditure on education, total (% of GDP)\",\n",
    "    \n",
    "    # Infrastructure and Technology\n",
    "    \"Electric power consumption (kWh per capita)\",\n",
    "    \"Mobile cellular subscriptions (per 100 people)\",\n",
    "    \"Hospital beds (per 1,000 people)\",\n",
    "\n",
    "    # Financial Sector\n",
    "    \"Domestic credit to private sector (% of GDP)\",\n",
    "    \"Broad money (% of GDP)\",\n",
    "    \n",
    "    # Labor and Demographics\n",
    "    \"Labor force, total\",\n",
    "    \"Unemployment, total (% of total labor force) (modeled ILO estimate)\",\n",
    "    \"Population growth (annual %)\",\n",
    "    \"Population ages 15-64 (% of total population)\",\n",
    "    \"Age dependency ratio (% of working-age population)\",\n",
    "    \"Life expectancy at birth, total (years)\",\n",
    "    \n",
    "    # Price Stability and Currency\n",
    "    \"Inflation, consumer prices (annual %)\",\n",
    "    \"Official exchange rate (LCU per US$, period average)\",\n",
    "    \"Price level ratio of PPP conversion factor (GDP) to market exchange rate\",\n",
    "    \n",
    "    # Resource Dependence (optional)\n",
    "    \"Fuel exports (% of merchandise exports)\",\n",
    "    \"Total natural resources rents (% of GDP)\",\n",
    "\n",
    "    # Productivity and Innovation\n",
    "    \"GDP per person employed (constant 2021 PPP $)\",\n",
    "    \"Patent applications, residents\",\n",
    "    \"Medium and high-tech manufacturing value added (% manufacturing value added)\"\n",
    "]"
   ]
  },
  {
   "cell_type": "markdown",
   "metadata": {},
   "source": [
    "## Data Cleaning"
   ]
  },
  {
   "cell_type": "markdown",
   "metadata": {},
   "source": [
    "### Clean columns where more than 70% observations are missing"
   ]
  },
  {
   "cell_type": "code",
   "execution_count": 7,
   "metadata": {},
   "outputs": [
    {
     "data": {
      "application/vnd.microsoft.datawrangler.viewer.v0+json": {
       "columns": [
        {
         "name": "index",
         "rawType": "object",
         "type": "string"
        },
        {
         "name": "0",
         "rawType": "float64",
         "type": "float"
        }
       ],
       "ref": "772f8ba6-8745-402e-9ea4-bf7fb82449d1",
       "rows": [
        [
         "Number of surgical procedures (per 100,000 population)",
         "0.98"
        ],
        [
         "Annualized average growth rate in per capita real survey mean consumption or income, total population (%)",
         "0.98"
        ],
        [
         "Firms that spend on R&D (% of firms)",
         "0.98"
        ],
        [
         "Annualized average growth rate in per capita real survey mean consumption or income, bottom 40% of population (%)",
         "0.98"
        ],
        [
         "Ease of doing business rank (1=most business-friendly regulations)",
         "0.98"
        ],
        [
         "Specialist surgical workforce (per 100,000 population)",
         "0.97"
        ],
        [
         "Public private partnerships investment in ICT (current US$)",
         "0.97"
        ],
        [
         "Survey mean consumption or income per capita, bottom 40% of population (2017 PPP $ per day)",
         "0.97"
        ],
        [
         "Survey mean consumption or income per capita, total population (2017 PPP $ per day)",
         "0.97"
        ],
        [
         "Diabetes prevalence (% of population ages 20 to 79)",
         "0.96"
        ],
        [
         "Population living in slums (% of urban population)",
         "0.94"
        ],
        [
         "Land area where elevation is below 5 meters (% of total land area)",
         "0.94"
        ],
        [
         "Cause of death, by communicable diseases and maternal, prenatal and nutrition conditions (% of total)",
         "0.93"
        ],
        [
         "Completeness of birth registration (%)",
         "0.93"
        ],
        [
         "Cause of death, by non-communicable diseases (% of total)",
         "0.93"
        ],
        [
         "Cause of death, by injury (% of total)",
         "0.93"
        ],
        [
         "Pregnant women receiving prenatal care (%)",
         "0.92"
        ],
        [
         "Prevalence of stunting, height for age (% of children under 5)",
         "0.91"
        ],
        [
         "Completeness of death registration with cause-of-death information (%)",
         "0.91"
        ],
        [
         "Trained teachers in primary education (% of total teachers)",
         "0.91"
        ],
        [
         "Literacy rate, adult female (% of females ages 15 and above)",
         "0.9"
        ],
        [
         "Poverty headcount ratio at national poverty lines (% of population)",
         "0.9"
        ],
        [
         "Prevalence of underweight, weight for age (% of children under 5)",
         "0.9"
        ],
        [
         "Literacy rate, adult male (% of males ages 15 and above)",
         "0.9"
        ],
        [
         "Literacy rate, adult total (% of people ages 15 and above)",
         "0.9"
        ],
        [
         "Literacy rate, youth total (% of people ages 15-24)",
         "0.89"
        ],
        [
         "Literacy rate, youth female (% of females ages 15-24)",
         "0.89"
        ],
        [
         "Literacy rate, youth male (% of males ages 15-24)",
         "0.89"
        ],
        [
         "Depth of credit information index (0=low to 8=high)",
         "0.87"
        ],
        [
         "Terrestrial and marine protected areas (% of total territorial area)",
         "0.87"
        ],
        [
         "Logistics performance index: Overall (1=low to 5=high)",
         "0.87"
        ],
        [
         "Agricultural irrigated land (% of total agricultural land)",
         "0.87"
        ],
        [
         "Strength of legal rights index (0=weak to 12=strong)",
         "0.87"
        ],
        [
         "Time required to get electricity (days)",
         "0.83"
        ],
        [
         "Contraceptive prevalence, any method (% of married women ages 15-49)",
         "0.82"
        ],
        [
         "Government expenditure per student, secondary (% of GDP per capita)",
         "0.82"
        ],
        [
         "Government expenditure per student, tertiary (% of GDP per capita)",
         "0.81"
        ],
        [
         "Progression to secondary school, female (%)",
         "0.81"
        ],
        [
         "Government expenditure per student, primary (% of GDP per capita)",
         "0.81"
        ],
        [
         "Progression to secondary school, male (%)",
         "0.81"
        ],
        [
         "Investment in transport with private participation (current US$)",
         "0.8"
        ],
        [
         "Total tax and contribution rate (% of profit)",
         "0.79"
        ],
        [
         "Persistence to last grade of primary, male (% of cohort)",
         "0.78"
        ],
        [
         "Persistence to last grade of primary, female (% of cohort)",
         "0.78"
        ],
        [
         "Technicians in R&D (per million people)",
         "0.77"
        ],
        [
         "Start-up procedures to register a business (number)",
         "0.77"
        ],
        [
         "Time required to start a business (days)",
         "0.77"
        ],
        [
         "Net ODA received (% of central government expense)",
         "0.76"
        ],
        [
         "Investment in energy with private participation (current US$)",
         "0.76"
        ],
        [
         "Secure Internet servers (per 1 million people)",
         "0.74"
        ]
       ],
       "shape": {
        "columns": 1,
        "rows": 215
       }
      },
      "text/plain": [
       "Number of surgical procedures (per 100,000 population)                                                               0.98\n",
       "Annualized average growth rate in per capita real survey mean consumption or income, total population (%)            0.98\n",
       "Firms that spend on R&D (% of firms)                                                                                 0.98\n",
       "Annualized average growth rate in per capita real survey mean consumption or income, bottom 40% of population (%)    0.98\n",
       "Ease of doing business rank (1=most business-friendly regulations)                                                   0.98\n",
       "                                                                                                                     ... \n",
       "Population ages 15-64 (% of total population)                                                                        0.00\n",
       "Population ages 65 and above (% of total population)                                                                 0.00\n",
       "Population growth (annual %)                                                                                         0.00\n",
       "Population in urban agglomerations of more than 1 million (% of total population)                                    0.00\n",
       "year                                                                                                                 0.00\n",
       "Length: 215, dtype: float64"
      ]
     },
     "execution_count": 7,
     "metadata": {},
     "output_type": "execute_result"
    }
   ],
   "source": [
    "# overview of missing values\n",
    "g20_data.isnull().mean().round(2).sort_values(ascending=False)"
   ]
  },
  {
   "cell_type": "code",
   "execution_count": 8,
   "metadata": {},
   "outputs": [
    {
     "name": "stdout",
     "output_type": "stream",
     "text": [
      "(972, 83)\n",
      "<class 'pandas.core.frame.DataFrame'>\n",
      "Index: 972 entries, 2659 to 16957\n",
      "Data columns (total 83 columns):\n",
      " #   Column                                                                             Non-Null Count  Dtype  \n",
      "---  ------                                                                             --------------  -----  \n",
      " 0   year                                                                               972 non-null    int32  \n",
      " 1   country                                                                            972 non-null    object \n",
      " 2   updated_at                                                                         972 non-null    object \n",
      " 3   Adolescent fertility rate (births per 1,000 women ages 15-19)                      954 non-null    float64\n",
      " 4   Age dependency ratio (% of working-age population)                                 972 non-null    float64\n",
      " 5   Agricultural land (% of land area)                                                 932 non-null    float64\n",
      " 6   Agriculture, forestry, and fishing, value added (% of GDP)                         775 non-null    float64\n",
      " 7   Air transport, registered carrier departures worldwide                             909 non-null    float64\n",
      " 8   Alternative and nuclear energy (% of total energy use)                             791 non-null    float64\n",
      " 9   Annual freshwater withdrawals, total (% of internal resources)                     684 non-null    float64\n",
      " 10  Annual freshwater withdrawals, total (billion cubic meters)                        684 non-null    float64\n",
      " 11  Arable land (% of land area)                                                       932 non-null    float64\n",
      " 12  Arable land (hectares per person)                                                  914 non-null    float64\n",
      " 13  Birth rate, crude (per 1,000 people)                                               954 non-null    float64\n",
      " 14  Broad money (% of GDP)                                                             746 non-null    float64\n",
      " 15  Cereal yield (kg per hectare)                                                      932 non-null    float64\n",
      " 16  Charges for the use of intellectual property, payments (BoP, current US$)          739 non-null    float64\n",
      " 17  Charges for the use of intellectual property, receipts (BoP, current US$)          734 non-null    float64\n",
      " 18  Crop production index (2014-2016 = 100)                                            932 non-null    float64\n",
      " 19  Current account balance (BoP, current US$)                                         842 non-null    float64\n",
      " 20  Death rate, crude (per 1,000 people)                                               954 non-null    float64\n",
      " 21  Domestic credit to private sector (% of GDP)                                       740 non-null    float64\n",
      " 22  Electric power consumption (kWh per capita)                                        786 non-null    float64\n",
      " 23  Energy imports, net (% of energy use)                                              791 non-null    float64\n",
      " 24  Energy use (kg of oil equivalent per capita)                                       791 non-null    float64\n",
      " 25  Expense (% of GDP)                                                                 700 non-null    float64\n",
      " 26  Exports of goods and services (% of GDP)                                           953 non-null    float64\n",
      " 27  Fertility rate, total (births per woman)                                           954 non-null    float64\n",
      " 28  Fertilizer consumption (kilograms per hectare of arable land)                      932 non-null    float64\n",
      " 29  Food production index (2014-2016 = 100)                                            932 non-null    float64\n",
      " 30  Foreign direct investment, net inflows (BoP, current US$)                          940 non-null    float64\n",
      " 31  Fossil fuel energy consumption (% of total)                                        791 non-null    float64\n",
      " 32  Fuel exports (% of merchandise exports)                                            893 non-null    float64\n",
      " 33  GDP (current US$)                                                                  954 non-null    float64\n",
      " 34  GDP growth (annual %)                                                              952 non-null    float64\n",
      " 35  GDP per capita (current US$)                                                       954 non-null    float64\n",
      " 36  GDP per capita growth (annual %)                                                   952 non-null    float64\n",
      " 37  GNI per capita, Atlas method (current US$)                                         951 non-null    float64\n",
      " 38  GNI, Atlas method (current US$)                                                    951 non-null    float64\n",
      " 39  Gross capital formation (% of GDP)                                                 954 non-null    float64\n",
      " 40  Gross savings (% of GDP)                                                           840 non-null    float64\n",
      " 41  Immunization, DPT (% of children ages 12-23 months)                                754 non-null    float64\n",
      " 42  Imports of goods and services (% of GDP)                                           953 non-null    float64\n",
      " 43  Industry (including construction), value added (% of GDP)                          775 non-null    float64\n",
      " 44  Inflation, GDP deflator (annual %)                                                 952 non-null    float64\n",
      " 45  Inflation, consumer prices (annual %)                                              865 non-null    float64\n",
      " 46  Land area (sq. km)                                                                 932 non-null    float64\n",
      " 47  Land under cereal production (hectares)                                            932 non-null    float64\n",
      " 48  Life expectancy at birth, female (years)                                           954 non-null    float64\n",
      " 49  Life expectancy at birth, male (years)                                             954 non-null    float64\n",
      " 50  Life expectancy at birth, total (years)                                            954 non-null    float64\n",
      " 51  Listed domestic companies, total                                                   756 non-null    float64\n",
      " 52  Mobile cellular subscriptions (per 100 people)                                     860 non-null    float64\n",
      " 53  Mortality rate, infant (per 1,000 live births)                                     948 non-null    float64\n",
      " 54  Mortality rate, neonatal (per 1,000 live births)                                   892 non-null    float64\n",
      " 55  Mortality rate, under-5 (per 1,000 live births)                                    948 non-null    float64\n",
      " 56  Net migration                                                                      972 non-null    float64\n",
      " 57  Official exchange rate (LCU per US$, period average)                               947 non-null    float64\n",
      " 58  Ores and metals exports (% of merchandise exports)                                 893 non-null    float64\n",
      " 59  Patent applications, residents                                                     696 non-null    float64\n",
      " 60  Permanent cropland (% of land area)                                                932 non-null    float64\n",
      " 61  Personal remittances, received (current US$)                                       787 non-null    float64\n",
      " 62  Population ages 0-14 (% of total population)                                       972 non-null    float64\n",
      " 63  Population ages 15-64 (% of total population)                                      972 non-null    float64\n",
      " 64  Population ages 65 and above (% of total population)                               972 non-null    float64\n",
      " 65  Population growth (annual %)                                                       972 non-null    float64\n",
      " 66  Population in urban agglomerations of more than 1 million (% of total population)  972 non-null    float64\n",
      " 67  Population, female (% of total population)                                         972 non-null    float64\n",
      " 68  Population, total                                                                  972 non-null    float64\n",
      " 69  Renewable internal freshwater resources per capita (cubic meters)                  914 non-null    float64\n",
      " 70  Renewable internal freshwater resources, total (billion cubic meters)              914 non-null    float64\n",
      " 71  Revenue, excluding grants (% of GDP)                                               684 non-null    float64\n",
      " 72  Rural population                                                                   972 non-null    float64\n",
      " 73  Rural population (% of total population)                                           972 non-null    float64\n",
      " 74  School enrollment, primary (% gross)                                               807 non-null    float64\n",
      " 75  School enrollment, primary (gross), gender parity index (GPI)                      707 non-null    float64\n",
      " 76  School enrollment, secondary (% gross)                                             711 non-null    float64\n",
      " 77  School enrollment, tertiary (% gross)                                              768 non-null    float64\n",
      " 78  Stocks traded, total value (% of GDP)                                              719 non-null    float64\n",
      " 79  Surface area (sq. km)                                                              954 non-null    float64\n",
      " 80  Tax revenue (% of GDP)                                                             686 non-null    float64\n",
      " 81  Total natural resources rents (% of GDP)                                           918 non-null    float64\n",
      " 82  Total reserves (includes gold, current US$)                                        942 non-null    float64\n",
      "dtypes: float64(80), int32(1), object(2)\n",
      "memory usage: 634.1+ KB\n"
     ]
    }
   ],
   "source": [
    "# drop columns with missing values more than 30%\n",
    "g20_data_clean = g20_data.dropna(axis=1, thresh=0.7*len(g20_data.index))\n",
    "print(g20_data_clean.shape)\n",
    "g20_data_clean.info()"
   ]
  },
  {
   "cell_type": "code",
   "execution_count": 9,
   "metadata": {},
   "outputs": [
    {
     "data": {
      "application/vnd.microsoft.datawrangler.viewer.v0+json": {
       "columns": [
        {
         "name": "index",
         "rawType": "object",
         "type": "string"
        },
        {
         "name": "0",
         "rawType": "float64",
         "type": "float"
        }
       ],
       "ref": "0d23e223-42ea-43f9-a0b4-121d899d71eb",
       "rows": [
        [
         "Patent applications, residents",
         "0.28"
        ],
        [
         "School enrollment, secondary (% gross)",
         "0.27"
        ],
        [
         "Domestic credit to private sector (% of GDP)",
         "0.24"
        ],
        [
         "Broad money (% of GDP)",
         "0.23"
        ],
        [
         "School enrollment, tertiary (% gross)",
         "0.21"
        ],
        [
         "Electric power consumption (kWh per capita)",
         "0.19"
        ],
        [
         "School enrollment, primary (% gross)",
         "0.17"
        ],
        [
         "Gross savings (% of GDP)",
         "0.14"
        ],
        [
         "Current account balance (BoP, current US$)",
         "0.13"
        ],
        [
         "Mobile cellular subscriptions (per 100 people)",
         "0.12"
        ],
        [
         "Inflation, consumer prices (annual %)",
         "0.11"
        ],
        [
         "Fuel exports (% of merchandise exports)",
         "0.08"
        ],
        [
         "Total natural resources rents (% of GDP)",
         "0.06"
        ],
        [
         "Total reserves (includes gold, current US$)",
         "0.03"
        ],
        [
         "Foreign direct investment, net inflows (BoP, current US$)",
         "0.03"
        ],
        [
         "Official exchange rate (LCU per US$, period average)",
         "0.03"
        ],
        [
         "Exports of goods and services (% of GDP)",
         "0.02"
        ],
        [
         "Life expectancy at birth, total (years)",
         "0.02"
        ],
        [
         "GDP per capita (current US$)",
         "0.02"
        ],
        [
         "Imports of goods and services (% of GDP)",
         "0.02"
        ],
        [
         "Gross capital formation (% of GDP)",
         "0.02"
        ],
        [
         "Age dependency ratio (% of working-age population)",
         "0.0"
        ],
        [
         "Population ages 15-64 (% of total population)",
         "0.0"
        ],
        [
         "Population growth (annual %)",
         "0.0"
        ],
        [
         "country",
         "0.0"
        ],
        [
         "year",
         "0.0"
        ]
       ],
       "shape": {
        "columns": 1,
        "rows": 26
       }
      },
      "text/plain": [
       "Patent applications, residents                               0.28\n",
       "School enrollment, secondary (% gross)                       0.27\n",
       "Domestic credit to private sector (% of GDP)                 0.24\n",
       "Broad money (% of GDP)                                       0.23\n",
       "School enrollment, tertiary (% gross)                        0.21\n",
       "Electric power consumption (kWh per capita)                  0.19\n",
       "School enrollment, primary (% gross)                         0.17\n",
       "Gross savings (% of GDP)                                     0.14\n",
       "Current account balance (BoP, current US$)                   0.13\n",
       "Mobile cellular subscriptions (per 100 people)               0.12\n",
       "Inflation, consumer prices (annual %)                        0.11\n",
       "Fuel exports (% of merchandise exports)                      0.08\n",
       "Total natural resources rents (% of GDP)                     0.06\n",
       "Total reserves (includes gold, current US$)                  0.03\n",
       "Foreign direct investment, net inflows (BoP, current US$)    0.03\n",
       "Official exchange rate (LCU per US$, period average)         0.03\n",
       "Exports of goods and services (% of GDP)                     0.02\n",
       "Life expectancy at birth, total (years)                      0.02\n",
       "GDP per capita (current US$)                                 0.02\n",
       "Imports of goods and services (% of GDP)                     0.02\n",
       "Gross capital formation (% of GDP)                           0.02\n",
       "Age dependency ratio (% of working-age population)           0.00\n",
       "Population ages 15-64 (% of total population)                0.00\n",
       "Population growth (annual %)                                 0.00\n",
       "country                                                      0.00\n",
       "year                                                         0.00\n",
       "dtype: float64"
      ]
     },
     "execution_count": 9,
     "metadata": {},
     "output_type": "execute_result"
    }
   ],
   "source": [
    "# find the columns that are in the indicators list after cleaning\n",
    "available_indicators = [col for col in indicators if col in g20_data_clean.columns]\n",
    "\n",
    "g20_with_selected_features = g20_data_clean[[\"year\", \"country\"] + available_indicators]\n",
    "g20_with_selected_features.columns\n",
    "\n",
    "# check the missing values percentage in the selected features\n",
    "g20_with_selected_features.isna().mean().round(2).sort_values(ascending=False)"
   ]
  },
  {
   "cell_type": "markdown",
   "metadata": {},
   "source": [
    "## Createing Lagged features (lag features by 1 year for each country)\n",
    "This captures how past values of features (a year ago) affect current GDP per capita."
   ]
  },
  {
   "cell_type": "code",
   "execution_count": 10,
   "metadata": {},
   "outputs": [
    {
     "data": {
      "application/vnd.microsoft.datawrangler.viewer.v0+json": {
       "columns": [
        {
         "name": "index",
         "rawType": "int64",
         "type": "integer"
        },
        {
         "name": "year",
         "rawType": "int32",
         "type": "integer"
        },
        {
         "name": "country",
         "rawType": "object",
         "type": "string"
        },
        {
         "name": "GDP per capita (current US$)",
         "rawType": "float64",
         "type": "float"
        },
        {
         "name": "Gross capital formation (% of GDP)_lag1",
         "rawType": "float64",
         "type": "float"
        },
        {
         "name": "Gross savings (% of GDP)_lag1",
         "rawType": "float64",
         "type": "float"
        },
        {
         "name": "Foreign direct investment, net inflows (BoP, current US$)_lag1",
         "rawType": "float64",
         "type": "float"
        },
        {
         "name": "Exports of goods and services (% of GDP)_lag1",
         "rawType": "float64",
         "type": "float"
        },
        {
         "name": "Imports of goods and services (% of GDP)_lag1",
         "rawType": "float64",
         "type": "float"
        },
        {
         "name": "Current account balance (BoP, current US$)_lag1",
         "rawType": "float64",
         "type": "float"
        },
        {
         "name": "Total reserves (includes gold, current US$)_lag1",
         "rawType": "float64",
         "type": "float"
        },
        {
         "name": "School enrollment, primary (% gross)_lag1",
         "rawType": "float64",
         "type": "float"
        },
        {
         "name": "School enrollment, secondary (% gross)_lag1",
         "rawType": "float64",
         "type": "float"
        },
        {
         "name": "School enrollment, tertiary (% gross)_lag1",
         "rawType": "float64",
         "type": "float"
        },
        {
         "name": "Electric power consumption (kWh per capita)_lag1",
         "rawType": "float64",
         "type": "float"
        },
        {
         "name": "Mobile cellular subscriptions (per 100 people)_lag1",
         "rawType": "float64",
         "type": "float"
        },
        {
         "name": "Domestic credit to private sector (% of GDP)_lag1",
         "rawType": "float64",
         "type": "float"
        },
        {
         "name": "Broad money (% of GDP)_lag1",
         "rawType": "float64",
         "type": "float"
        },
        {
         "name": "Population growth (annual %)_lag1",
         "rawType": "float64",
         "type": "float"
        },
        {
         "name": "Population ages 15-64 (% of total population)_lag1",
         "rawType": "float64",
         "type": "float"
        },
        {
         "name": "Age dependency ratio (% of working-age population)_lag1",
         "rawType": "float64",
         "type": "float"
        },
        {
         "name": "Life expectancy at birth, total (years)_lag1",
         "rawType": "float64",
         "type": "float"
        },
        {
         "name": "Inflation, consumer prices (annual %)_lag1",
         "rawType": "float64",
         "type": "float"
        },
        {
         "name": "Official exchange rate (LCU per US$, period average)_lag1",
         "rawType": "float64",
         "type": "float"
        },
        {
         "name": "Fuel exports (% of merchandise exports)_lag1",
         "rawType": "float64",
         "type": "float"
        },
        {
         "name": "Total natural resources rents (% of GDP)_lag1",
         "rawType": "float64",
         "type": "float"
        },
        {
         "name": "Patent applications, residents_lag1",
         "rawType": "float64",
         "type": "float"
        }
       ],
       "ref": "367fdfe4-0444-44ff-9db7-72d02c96d03a",
       "rows": [
        [
         "2659",
         "1970",
         "arg",
         "1322.7145421681",
         null,
         null,
         null,
         null,
         null,
         null,
         null,
         null,
         null,
         null,
         null,
         null,
         null,
         null,
         null,
         null,
         null,
         null,
         null,
         null,
         null,
         null,
         null
        ],
        [
         "2924",
         "1971",
         "arg",
         "1372.5074664606",
         "24.4400952475",
         null,
         "89769999.9",
         "5.601566676",
         "4.7358774049",
         null,
         "681788410.0",
         "105.7694778442",
         "44.7096214294",
         "13.3775901794",
         null,
         "0.0",
         "17.5387441024",
         "22.9961680393",
         "1.5600194128",
         "63.7589957621",
         "56.8406147374",
         "65.589",
         null,
         "0.0",
         "0.4299854578",
         "0.3011806973",
         null
        ],
        [
         "3189",
         "1972",
         "arg",
         "1409.3709731621",
         "24.1130324178",
         null,
         "125670000.0",
         "6.0072328813",
         "6.6079560343",
         null,
         "304314527.124963",
         "106.7520980835",
         "45.6421089172",
         "15.4409799576",
         "874.5441767247",
         null,
         "18.0216983735",
         "18.0216983735",
         "1.5742582887",
         "63.7054004731",
         "56.9725645616",
         "65.541",
         null,
         "0.0",
         "0.4880164388",
         "0.4363692278",
         null
        ],
        [
         "3454",
         "1973",
         "arg",
         "2097.8994501081",
         "23.891544619",
         null,
         "71719999.9",
         "7.1977658391",
         "6.8378773582",
         null,
         "572449755.175402",
         "106.286819458",
         "47.4727096558",
         "16.6208095551",
         "925.6490986486",
         null,
         "17.6345260412",
         "22.672962053",
         "1.5832962261",
         "63.6171921588",
         "57.1902082086",
         "65.923",
         null,
         "0.0",
         "0.3224201893",
         "0.5023560366",
         null
        ],
        [
         "3719",
         "1974",
         "arg",
         "2844.9699052676",
         "20.8938115321",
         null,
         "100250000.0",
         "7.6126677212",
         "5.7095007904",
         null,
         "1597255505.79734",
         "105.7107467651",
         "49.9397087097",
         "19.7516307831",
         "962.668497431",
         null,
         "16.7055757246",
         "23.2609282241",
         "1.6167561183",
         "63.4889815761",
         "57.5076504015",
         "66.323",
         null,
         "0.0",
         "0.1713983824",
         "0.5766588161",
         null
        ]
       ],
       "shape": {
        "columns": 26,
        "rows": 5
       }
      },
      "text/html": [
       "<div>\n",
       "<style scoped>\n",
       "    .dataframe tbody tr th:only-of-type {\n",
       "        vertical-align: middle;\n",
       "    }\n",
       "\n",
       "    .dataframe tbody tr th {\n",
       "        vertical-align: top;\n",
       "    }\n",
       "\n",
       "    .dataframe thead th {\n",
       "        text-align: right;\n",
       "    }\n",
       "</style>\n",
       "<table border=\"1\" class=\"dataframe\">\n",
       "  <thead>\n",
       "    <tr style=\"text-align: right;\">\n",
       "      <th></th>\n",
       "      <th>year</th>\n",
       "      <th>country</th>\n",
       "      <th>GDP per capita (current US$)</th>\n",
       "      <th>Gross capital formation (% of GDP)_lag1</th>\n",
       "      <th>Gross savings (% of GDP)_lag1</th>\n",
       "      <th>Foreign direct investment, net inflows (BoP, current US$)_lag1</th>\n",
       "      <th>Exports of goods and services (% of GDP)_lag1</th>\n",
       "      <th>Imports of goods and services (% of GDP)_lag1</th>\n",
       "      <th>Current account balance (BoP, current US$)_lag1</th>\n",
       "      <th>Total reserves (includes gold, current US$)_lag1</th>\n",
       "      <th>...</th>\n",
       "      <th>Broad money (% of GDP)_lag1</th>\n",
       "      <th>Population growth (annual %)_lag1</th>\n",
       "      <th>Population ages 15-64 (% of total population)_lag1</th>\n",
       "      <th>Age dependency ratio (% of working-age population)_lag1</th>\n",
       "      <th>Life expectancy at birth, total (years)_lag1</th>\n",
       "      <th>Inflation, consumer prices (annual %)_lag1</th>\n",
       "      <th>Official exchange rate (LCU per US$, period average)_lag1</th>\n",
       "      <th>Fuel exports (% of merchandise exports)_lag1</th>\n",
       "      <th>Total natural resources rents (% of GDP)_lag1</th>\n",
       "      <th>Patent applications, residents_lag1</th>\n",
       "    </tr>\n",
       "  </thead>\n",
       "  <tbody>\n",
       "    <tr>\n",
       "      <th>2659</th>\n",
       "      <td>1970</td>\n",
       "      <td>arg</td>\n",
       "      <td>1322.714542</td>\n",
       "      <td>NaN</td>\n",
       "      <td>NaN</td>\n",
       "      <td>NaN</td>\n",
       "      <td>NaN</td>\n",
       "      <td>NaN</td>\n",
       "      <td>NaN</td>\n",
       "      <td>NaN</td>\n",
       "      <td>...</td>\n",
       "      <td>NaN</td>\n",
       "      <td>NaN</td>\n",
       "      <td>NaN</td>\n",
       "      <td>NaN</td>\n",
       "      <td>NaN</td>\n",
       "      <td>NaN</td>\n",
       "      <td>NaN</td>\n",
       "      <td>NaN</td>\n",
       "      <td>NaN</td>\n",
       "      <td>NaN</td>\n",
       "    </tr>\n",
       "    <tr>\n",
       "      <th>2924</th>\n",
       "      <td>1971</td>\n",
       "      <td>arg</td>\n",
       "      <td>1372.507466</td>\n",
       "      <td>24.440095</td>\n",
       "      <td>NaN</td>\n",
       "      <td>89769999.9</td>\n",
       "      <td>5.601567</td>\n",
       "      <td>4.735877</td>\n",
       "      <td>NaN</td>\n",
       "      <td>6.817884e+08</td>\n",
       "      <td>...</td>\n",
       "      <td>22.996168</td>\n",
       "      <td>1.560019</td>\n",
       "      <td>63.758996</td>\n",
       "      <td>56.840615</td>\n",
       "      <td>65.589</td>\n",
       "      <td>NaN</td>\n",
       "      <td>0.0</td>\n",
       "      <td>0.429985</td>\n",
       "      <td>0.301181</td>\n",
       "      <td>NaN</td>\n",
       "    </tr>\n",
       "    <tr>\n",
       "      <th>3189</th>\n",
       "      <td>1972</td>\n",
       "      <td>arg</td>\n",
       "      <td>1409.370973</td>\n",
       "      <td>24.113032</td>\n",
       "      <td>NaN</td>\n",
       "      <td>125670000.0</td>\n",
       "      <td>6.007233</td>\n",
       "      <td>6.607956</td>\n",
       "      <td>NaN</td>\n",
       "      <td>3.043145e+08</td>\n",
       "      <td>...</td>\n",
       "      <td>18.021698</td>\n",
       "      <td>1.574258</td>\n",
       "      <td>63.705400</td>\n",
       "      <td>56.972565</td>\n",
       "      <td>65.541</td>\n",
       "      <td>NaN</td>\n",
       "      <td>0.0</td>\n",
       "      <td>0.488016</td>\n",
       "      <td>0.436369</td>\n",
       "      <td>NaN</td>\n",
       "    </tr>\n",
       "    <tr>\n",
       "      <th>3454</th>\n",
       "      <td>1973</td>\n",
       "      <td>arg</td>\n",
       "      <td>2097.899450</td>\n",
       "      <td>23.891545</td>\n",
       "      <td>NaN</td>\n",
       "      <td>71719999.9</td>\n",
       "      <td>7.197766</td>\n",
       "      <td>6.837877</td>\n",
       "      <td>NaN</td>\n",
       "      <td>5.724498e+08</td>\n",
       "      <td>...</td>\n",
       "      <td>22.672962</td>\n",
       "      <td>1.583296</td>\n",
       "      <td>63.617192</td>\n",
       "      <td>57.190208</td>\n",
       "      <td>65.923</td>\n",
       "      <td>NaN</td>\n",
       "      <td>0.0</td>\n",
       "      <td>0.322420</td>\n",
       "      <td>0.502356</td>\n",
       "      <td>NaN</td>\n",
       "    </tr>\n",
       "    <tr>\n",
       "      <th>3719</th>\n",
       "      <td>1974</td>\n",
       "      <td>arg</td>\n",
       "      <td>2844.969905</td>\n",
       "      <td>20.893812</td>\n",
       "      <td>NaN</td>\n",
       "      <td>100250000.0</td>\n",
       "      <td>7.612668</td>\n",
       "      <td>5.709501</td>\n",
       "      <td>NaN</td>\n",
       "      <td>1.597256e+09</td>\n",
       "      <td>...</td>\n",
       "      <td>23.260928</td>\n",
       "      <td>1.616756</td>\n",
       "      <td>63.488982</td>\n",
       "      <td>57.507650</td>\n",
       "      <td>66.323</td>\n",
       "      <td>NaN</td>\n",
       "      <td>0.0</td>\n",
       "      <td>0.171398</td>\n",
       "      <td>0.576659</td>\n",
       "      <td>NaN</td>\n",
       "    </tr>\n",
       "  </tbody>\n",
       "</table>\n",
       "<p>5 rows × 26 columns</p>\n",
       "</div>"
      ],
      "text/plain": [
       "      year country  GDP per capita (current US$)  \\\n",
       "2659  1970     arg                   1322.714542   \n",
       "2924  1971     arg                   1372.507466   \n",
       "3189  1972     arg                   1409.370973   \n",
       "3454  1973     arg                   2097.899450   \n",
       "3719  1974     arg                   2844.969905   \n",
       "\n",
       "      Gross capital formation (% of GDP)_lag1  Gross savings (% of GDP)_lag1  \\\n",
       "2659                                      NaN                            NaN   \n",
       "2924                                24.440095                            NaN   \n",
       "3189                                24.113032                            NaN   \n",
       "3454                                23.891545                            NaN   \n",
       "3719                                20.893812                            NaN   \n",
       "\n",
       "      Foreign direct investment, net inflows (BoP, current US$)_lag1  \\\n",
       "2659                                                NaN                \n",
       "2924                                         89769999.9                \n",
       "3189                                        125670000.0                \n",
       "3454                                         71719999.9                \n",
       "3719                                        100250000.0                \n",
       "\n",
       "      Exports of goods and services (% of GDP)_lag1  \\\n",
       "2659                                            NaN   \n",
       "2924                                       5.601567   \n",
       "3189                                       6.007233   \n",
       "3454                                       7.197766   \n",
       "3719                                       7.612668   \n",
       "\n",
       "      Imports of goods and services (% of GDP)_lag1  \\\n",
       "2659                                            NaN   \n",
       "2924                                       4.735877   \n",
       "3189                                       6.607956   \n",
       "3454                                       6.837877   \n",
       "3719                                       5.709501   \n",
       "\n",
       "      Current account balance (BoP, current US$)_lag1  \\\n",
       "2659                                              NaN   \n",
       "2924                                              NaN   \n",
       "3189                                              NaN   \n",
       "3454                                              NaN   \n",
       "3719                                              NaN   \n",
       "\n",
       "      Total reserves (includes gold, current US$)_lag1  ...  \\\n",
       "2659                                               NaN  ...   \n",
       "2924                                      6.817884e+08  ...   \n",
       "3189                                      3.043145e+08  ...   \n",
       "3454                                      5.724498e+08  ...   \n",
       "3719                                      1.597256e+09  ...   \n",
       "\n",
       "      Broad money (% of GDP)_lag1  Population growth (annual %)_lag1  \\\n",
       "2659                          NaN                                NaN   \n",
       "2924                    22.996168                           1.560019   \n",
       "3189                    18.021698                           1.574258   \n",
       "3454                    22.672962                           1.583296   \n",
       "3719                    23.260928                           1.616756   \n",
       "\n",
       "      Population ages 15-64 (% of total population)_lag1  \\\n",
       "2659                                                NaN    \n",
       "2924                                          63.758996    \n",
       "3189                                          63.705400    \n",
       "3454                                          63.617192    \n",
       "3719                                          63.488982    \n",
       "\n",
       "      Age dependency ratio (% of working-age population)_lag1  \\\n",
       "2659                                                NaN         \n",
       "2924                                          56.840615         \n",
       "3189                                          56.972565         \n",
       "3454                                          57.190208         \n",
       "3719                                          57.507650         \n",
       "\n",
       "      Life expectancy at birth, total (years)_lag1  \\\n",
       "2659                                           NaN   \n",
       "2924                                        65.589   \n",
       "3189                                        65.541   \n",
       "3454                                        65.923   \n",
       "3719                                        66.323   \n",
       "\n",
       "      Inflation, consumer prices (annual %)_lag1  \\\n",
       "2659                                         NaN   \n",
       "2924                                         NaN   \n",
       "3189                                         NaN   \n",
       "3454                                         NaN   \n",
       "3719                                         NaN   \n",
       "\n",
       "      Official exchange rate (LCU per US$, period average)_lag1  \\\n",
       "2659                                                NaN           \n",
       "2924                                                0.0           \n",
       "3189                                                0.0           \n",
       "3454                                                0.0           \n",
       "3719                                                0.0           \n",
       "\n",
       "      Fuel exports (% of merchandise exports)_lag1  \\\n",
       "2659                                           NaN   \n",
       "2924                                      0.429985   \n",
       "3189                                      0.488016   \n",
       "3454                                      0.322420   \n",
       "3719                                      0.171398   \n",
       "\n",
       "      Total natural resources rents (% of GDP)_lag1  \\\n",
       "2659                                            NaN   \n",
       "2924                                       0.301181   \n",
       "3189                                       0.436369   \n",
       "3454                                       0.502356   \n",
       "3719                                       0.576659   \n",
       "\n",
       "      Patent applications, residents_lag1  \n",
       "2659                                  NaN  \n",
       "2924                                  NaN  \n",
       "3189                                  NaN  \n",
       "3454                                  NaN  \n",
       "3719                                  NaN  \n",
       "\n",
       "[5 rows x 26 columns]"
      ]
     },
     "execution_count": 10,
     "metadata": {},
     "output_type": "execute_result"
    }
   ],
   "source": [
    "def create_lagged_features(df, group_col, time_col, features, lags=[1]):\n",
    "    df = df.copy()\n",
    "    df = df.sort_values(by=[group_col, time_col])\n",
    "    for feature in features:\n",
    "        for lag in lags:\n",
    "            df[f\"{feature}_lag{lag}\"] = df.groupby(group_col)[feature].shift(lag)\n",
    "            df = df.drop(columns=[feature])\n",
    "    return df\n",
    "\n",
    "lag_features = [indicator for indicator in available_indicators if indicator != \"GDP per capita (current US$)\"]\n",
    "df_lagged = create_lagged_features(g20_with_selected_features, group_col='country', time_col='year', features=lag_features, lags=[1])\n",
    "df_lagged.head()"
   ]
  },
  {
   "cell_type": "markdown",
   "metadata": {},
   "source": [
    "### Fill the missing values using the past values in trending and persistent indicators."
   ]
  },
  {
   "cell_type": "code",
   "execution_count": 11,
   "metadata": {},
   "outputs": [],
   "source": [
    "forward_fill_indicators = [\n",
    "    \"Patent applications, residents_lag1\",\n",
    "    \"School enrollment, secondary (% gross)_lag1\",\n",
    "    \"School enrollment, tertiary (% gross)_lag1\",\n",
    "    \"School enrollment, primary (% gross)_lag1\",\n",
    "    \"Electric power consumption (kWh per capita)_lag1\",\n",
    "    \"Mobile cellular subscriptions (per 100 people)_lag1\",\n",
    "    \"Life expectancy at birth, total (years)_lag1\",\n",
    "    \"Total reserves (includes gold, current US$)_lag1\",\n",
    "    \"Broad money (% of GDP)_lag1\",\n",
    "    \"Domestic credit to private sector (% of GDP)_lag1\"\n",
    "]"
   ]
  },
  {
   "cell_type": "code",
   "execution_count": 12,
   "metadata": {},
   "outputs": [
    {
     "name": "stdout",
     "output_type": "stream",
     "text": [
      "Any missing values: True\n"
     ]
    }
   ],
   "source": [
    "# Fill missing values in lagged features by forward fill of a country\n",
    "df_filled = df_lagged.copy()\n",
    "df_filled = df_filled.groupby(\"country\")[forward_fill_indicators].transform(lambda x: x.fillna(method=\"ffill\"))\n",
    "\n",
    "df_filled.head()\n",
    "\n",
    "# check the data structure\n",
    "print(\"Any missing values:\", df_filled.isna().any().any())"
   ]
  },
  {
   "cell_type": "markdown",
   "metadata": {},
   "source": [
    "## Fill the missing values using the median values in fluctuating indicators."
   ]
  },
  {
   "cell_type": "code",
   "execution_count": 13,
   "metadata": {},
   "outputs": [],
   "source": [
    "median_fill_indicators = [\n",
    "    \"Gross savings (% of GDP)_lag1  \",\n",
    "    \"Current account balance (BoP, current US$)_lag1\",\n",
    "    \"Inflation, consumer prices (annual %)_lag1\",\n",
    "    \"Fuel exports (% of merchandise exports)_lag1\",\n",
    "    \"Total natural resources rents (% of GDP)_lag1\",\n",
    "    \"Foreign direct investment, net inflows (BoP, current US$)_lag1\",\n",
    "    \"Official exchange rate (LCU per US$, period average)_lag1\",\n",
    "    \"Exports of goods and services (% of GDP)_lag1\",\n",
    "    \"Imports of goods and services (% of GDP)_lag1\",\n",
    "    \"Gross capital formation (% of GDP)_lag1\",\n",
    "    \"Age dependency ratio (% of working-age population)_lag1\",\n",
    "    \"Population ages 15-64 (% of total population)_lag1\",\n",
    "    \"Population growth (annual %)_lag1\"\n",
    "]"
   ]
  },
  {
   "cell_type": "code",
   "execution_count": 14,
   "metadata": {},
   "outputs": [
    {
     "name": "stdout",
     "output_type": "stream",
     "text": [
      "Any missing values: True\n"
     ]
    },
    {
     "data": {
      "application/vnd.microsoft.datawrangler.viewer.v0+json": {
       "columns": [
        {
         "name": "index",
         "rawType": "int64",
         "type": "integer"
        },
        {
         "name": "Patent applications, residents_lag1",
         "rawType": "float64",
         "type": "float"
        },
        {
         "name": "School enrollment, secondary (% gross)_lag1",
         "rawType": "float64",
         "type": "float"
        },
        {
         "name": "School enrollment, tertiary (% gross)_lag1",
         "rawType": "float64",
         "type": "float"
        },
        {
         "name": "School enrollment, primary (% gross)_lag1",
         "rawType": "float64",
         "type": "float"
        },
        {
         "name": "Electric power consumption (kWh per capita)_lag1",
         "rawType": "float64",
         "type": "float"
        },
        {
         "name": "Mobile cellular subscriptions (per 100 people)_lag1",
         "rawType": "float64",
         "type": "float"
        },
        {
         "name": "Life expectancy at birth, total (years)_lag1",
         "rawType": "float64",
         "type": "float"
        },
        {
         "name": "Total reserves (includes gold, current US$)_lag1",
         "rawType": "float64",
         "type": "float"
        },
        {
         "name": "Broad money (% of GDP)_lag1",
         "rawType": "float64",
         "type": "float"
        },
        {
         "name": "Domestic credit to private sector (% of GDP)_lag1",
         "rawType": "float64",
         "type": "float"
        }
       ],
       "ref": "e6a44891-a85c-44b7-9932-d925bfbed75e",
       "rows": [
        [
         "2659",
         "792.0",
         "81.1133804321",
         "54.3332710266",
         "110.99156570435",
         "1468.0536560565001",
         "7.371312411",
         "73.172",
         "15499431243.972",
         "25.1476054816",
         "17.45144273925"
        ],
        [
         "2924",
         "792.0",
         "81.1133804321",
         "54.3332710266",
         "110.99156570435",
         "1468.0536560565001",
         "7.371312411",
         "73.172",
         "15499431243.972",
         "25.1476054816",
         "17.45144273925"
        ],
        [
         "3189",
         "792.0",
         "81.1133804321",
         "54.3332710266",
         "110.99156570435",
         "1468.0536560565001",
         "7.371312411",
         "73.172",
         "15499431243.972",
         "25.1476054816",
         "17.45144273925"
        ],
        [
         "3454",
         "792.0",
         "81.1133804321",
         "54.3332710266",
         "110.99156570435",
         "1468.0536560565001",
         "7.371312411",
         "73.172",
         "15499431243.972",
         "25.1476054816",
         "17.45144273925"
        ],
        [
         "3719",
         "792.0",
         "81.1133804321",
         "54.3332710266",
         "110.99156570435",
         "1468.0536560565001",
         "7.371312411",
         "73.172",
         "15499431243.972",
         "25.1476054816",
         "17.45144273925"
        ]
       ],
       "shape": {
        "columns": 10,
        "rows": 5
       }
      },
      "text/html": [
       "<div>\n",
       "<style scoped>\n",
       "    .dataframe tbody tr th:only-of-type {\n",
       "        vertical-align: middle;\n",
       "    }\n",
       "\n",
       "    .dataframe tbody tr th {\n",
       "        vertical-align: top;\n",
       "    }\n",
       "\n",
       "    .dataframe thead th {\n",
       "        text-align: right;\n",
       "    }\n",
       "</style>\n",
       "<table border=\"1\" class=\"dataframe\">\n",
       "  <thead>\n",
       "    <tr style=\"text-align: right;\">\n",
       "      <th></th>\n",
       "      <th>Patent applications, residents_lag1</th>\n",
       "      <th>School enrollment, secondary (% gross)_lag1</th>\n",
       "      <th>School enrollment, tertiary (% gross)_lag1</th>\n",
       "      <th>School enrollment, primary (% gross)_lag1</th>\n",
       "      <th>Electric power consumption (kWh per capita)_lag1</th>\n",
       "      <th>Mobile cellular subscriptions (per 100 people)_lag1</th>\n",
       "      <th>Life expectancy at birth, total (years)_lag1</th>\n",
       "      <th>Total reserves (includes gold, current US$)_lag1</th>\n",
       "      <th>Broad money (% of GDP)_lag1</th>\n",
       "      <th>Domestic credit to private sector (% of GDP)_lag1</th>\n",
       "    </tr>\n",
       "  </thead>\n",
       "  <tbody>\n",
       "    <tr>\n",
       "      <th>2659</th>\n",
       "      <td>792.0</td>\n",
       "      <td>81.11338</td>\n",
       "      <td>54.333271</td>\n",
       "      <td>110.991566</td>\n",
       "      <td>1468.053656</td>\n",
       "      <td>7.371312</td>\n",
       "      <td>73.172</td>\n",
       "      <td>1.549943e+10</td>\n",
       "      <td>25.147605</td>\n",
       "      <td>17.451443</td>\n",
       "    </tr>\n",
       "    <tr>\n",
       "      <th>2924</th>\n",
       "      <td>792.0</td>\n",
       "      <td>81.11338</td>\n",
       "      <td>54.333271</td>\n",
       "      <td>110.991566</td>\n",
       "      <td>1468.053656</td>\n",
       "      <td>7.371312</td>\n",
       "      <td>73.172</td>\n",
       "      <td>1.549943e+10</td>\n",
       "      <td>25.147605</td>\n",
       "      <td>17.451443</td>\n",
       "    </tr>\n",
       "    <tr>\n",
       "      <th>3189</th>\n",
       "      <td>792.0</td>\n",
       "      <td>81.11338</td>\n",
       "      <td>54.333271</td>\n",
       "      <td>110.991566</td>\n",
       "      <td>1468.053656</td>\n",
       "      <td>7.371312</td>\n",
       "      <td>73.172</td>\n",
       "      <td>1.549943e+10</td>\n",
       "      <td>25.147605</td>\n",
       "      <td>17.451443</td>\n",
       "    </tr>\n",
       "    <tr>\n",
       "      <th>3454</th>\n",
       "      <td>792.0</td>\n",
       "      <td>81.11338</td>\n",
       "      <td>54.333271</td>\n",
       "      <td>110.991566</td>\n",
       "      <td>1468.053656</td>\n",
       "      <td>7.371312</td>\n",
       "      <td>73.172</td>\n",
       "      <td>1.549943e+10</td>\n",
       "      <td>25.147605</td>\n",
       "      <td>17.451443</td>\n",
       "    </tr>\n",
       "    <tr>\n",
       "      <th>3719</th>\n",
       "      <td>792.0</td>\n",
       "      <td>81.11338</td>\n",
       "      <td>54.333271</td>\n",
       "      <td>110.991566</td>\n",
       "      <td>1468.053656</td>\n",
       "      <td>7.371312</td>\n",
       "      <td>73.172</td>\n",
       "      <td>1.549943e+10</td>\n",
       "      <td>25.147605</td>\n",
       "      <td>17.451443</td>\n",
       "    </tr>\n",
       "  </tbody>\n",
       "</table>\n",
       "</div>"
      ],
      "text/plain": [
       "      Patent applications, residents_lag1  \\\n",
       "2659                                792.0   \n",
       "2924                                792.0   \n",
       "3189                                792.0   \n",
       "3454                                792.0   \n",
       "3719                                792.0   \n",
       "\n",
       "      School enrollment, secondary (% gross)_lag1  \\\n",
       "2659                                     81.11338   \n",
       "2924                                     81.11338   \n",
       "3189                                     81.11338   \n",
       "3454                                     81.11338   \n",
       "3719                                     81.11338   \n",
       "\n",
       "      School enrollment, tertiary (% gross)_lag1  \\\n",
       "2659                                   54.333271   \n",
       "2924                                   54.333271   \n",
       "3189                                   54.333271   \n",
       "3454                                   54.333271   \n",
       "3719                                   54.333271   \n",
       "\n",
       "      School enrollment, primary (% gross)_lag1  \\\n",
       "2659                                 110.991566   \n",
       "2924                                 110.991566   \n",
       "3189                                 110.991566   \n",
       "3454                                 110.991566   \n",
       "3719                                 110.991566   \n",
       "\n",
       "      Electric power consumption (kWh per capita)_lag1  \\\n",
       "2659                                       1468.053656   \n",
       "2924                                       1468.053656   \n",
       "3189                                       1468.053656   \n",
       "3454                                       1468.053656   \n",
       "3719                                       1468.053656   \n",
       "\n",
       "      Mobile cellular subscriptions (per 100 people)_lag1  \\\n",
       "2659                                           7.371312     \n",
       "2924                                           7.371312     \n",
       "3189                                           7.371312     \n",
       "3454                                           7.371312     \n",
       "3719                                           7.371312     \n",
       "\n",
       "      Life expectancy at birth, total (years)_lag1  \\\n",
       "2659                                        73.172   \n",
       "2924                                        73.172   \n",
       "3189                                        73.172   \n",
       "3454                                        73.172   \n",
       "3719                                        73.172   \n",
       "\n",
       "      Total reserves (includes gold, current US$)_lag1  \\\n",
       "2659                                      1.549943e+10   \n",
       "2924                                      1.549943e+10   \n",
       "3189                                      1.549943e+10   \n",
       "3454                                      1.549943e+10   \n",
       "3719                                      1.549943e+10   \n",
       "\n",
       "      Broad money (% of GDP)_lag1  \\\n",
       "2659                    25.147605   \n",
       "2924                    25.147605   \n",
       "3189                    25.147605   \n",
       "3454                    25.147605   \n",
       "3719                    25.147605   \n",
       "\n",
       "      Domestic credit to private sector (% of GDP)_lag1  \n",
       "2659                                          17.451443  \n",
       "2924                                          17.451443  \n",
       "3189                                          17.451443  \n",
       "3454                                          17.451443  \n",
       "3719                                          17.451443  "
      ]
     },
     "execution_count": 14,
     "metadata": {},
     "output_type": "execute_result"
    }
   ],
   "source": [
    "# Fill missing values in lagged features by forward fill of a country\n",
    "df_filled = df_lagged.copy()\n",
    "df_filled = df_filled.groupby(\"country\")[forward_fill_indicators].transform(lambda x: x.median())\n",
    "\n",
    "# check the data structure\n",
    "print(\"Any missing values:\", df_filled.isna().any().any())\n",
    "df_filled.head()"
   ]
  },
  {
   "cell_type": "code",
   "execution_count": 15,
   "metadata": {},
   "outputs": [
    {
     "name": "stdout",
     "output_type": "stream",
     "text": [
      "Any missing values: False\n"
     ]
    }
   ],
   "source": [
    "# concatenate the filled lagged features with the original dataframe\n",
    "g20_filled = pd.concat([df_lagged[[\"year\", \"country\"]], df_filled], axis=1)\n",
    "\n",
    "# drop the rows with missing values\n",
    "g20_filled.dropna(inplace=True)\n",
    "\n",
    "# check the data structure\n",
    "print(\"Any missing values:\", g20_filled.isna().any().any())\n"
   ]
  },
  {
   "cell_type": "code",
   "execution_count": 16,
   "metadata": {},
   "outputs": [
    {
     "data": {
      "application/vnd.microsoft.datawrangler.viewer.v0+json": {
       "columns": [
        {
         "name": "index",
         "rawType": "int64",
         "type": "integer"
        },
        {
         "name": "year",
         "rawType": "int32",
         "type": "integer"
        },
        {
         "name": "country",
         "rawType": "object",
         "type": "string"
        },
        {
         "name": "Patent applications, residents_lag1",
         "rawType": "float64",
         "type": "float"
        },
        {
         "name": "School enrollment, secondary (% gross)_lag1",
         "rawType": "float64",
         "type": "float"
        },
        {
         "name": "School enrollment, tertiary (% gross)_lag1",
         "rawType": "float64",
         "type": "float"
        },
        {
         "name": "School enrollment, primary (% gross)_lag1",
         "rawType": "float64",
         "type": "float"
        },
        {
         "name": "Electric power consumption (kWh per capita)_lag1",
         "rawType": "float64",
         "type": "float"
        },
        {
         "name": "Mobile cellular subscriptions (per 100 people)_lag1",
         "rawType": "float64",
         "type": "float"
        },
        {
         "name": "Life expectancy at birth, total (years)_lag1",
         "rawType": "float64",
         "type": "float"
        },
        {
         "name": "Total reserves (includes gold, current US$)_lag1",
         "rawType": "float64",
         "type": "float"
        },
        {
         "name": "Broad money (% of GDP)_lag1",
         "rawType": "float64",
         "type": "float"
        },
        {
         "name": "Domestic credit to private sector (% of GDP)_lag1",
         "rawType": "float64",
         "type": "float"
        }
       ],
       "ref": "ba67140b-9959-4de8-9b18-85c41ff55903",
       "rows": [
        [
         "2659",
         "1970",
         "arg",
         "792.0",
         "81.1133804321",
         "54.3332710266",
         "110.99156570435",
         "1468.0536560565001",
         "7.371312411",
         "73.172",
         "15499431243.972",
         "25.1476054816",
         "17.45144273925"
        ],
        [
         "2924",
         "1971",
         "arg",
         "792.0",
         "81.1133804321",
         "54.3332710266",
         "110.99156570435",
         "1468.0536560565001",
         "7.371312411",
         "73.172",
         "15499431243.972",
         "25.1476054816",
         "17.45144273925"
        ],
        [
         "3189",
         "1972",
         "arg",
         "792.0",
         "81.1133804321",
         "54.3332710266",
         "110.99156570435",
         "1468.0536560565001",
         "7.371312411",
         "73.172",
         "15499431243.972",
         "25.1476054816",
         "17.45144273925"
        ],
        [
         "3454",
         "1973",
         "arg",
         "792.0",
         "81.1133804321",
         "54.3332710266",
         "110.99156570435",
         "1468.0536560565001",
         "7.371312411",
         "73.172",
         "15499431243.972",
         "25.1476054816",
         "17.45144273925"
        ],
        [
         "3719",
         "1974",
         "arg",
         "792.0",
         "81.1133804321",
         "54.3332710266",
         "110.99156570435",
         "1468.0536560565001",
         "7.371312411",
         "73.172",
         "15499431243.972",
         "25.1476054816",
         "17.45144273925"
        ]
       ],
       "shape": {
        "columns": 12,
        "rows": 5
       }
      },
      "text/html": [
       "<div>\n",
       "<style scoped>\n",
       "    .dataframe tbody tr th:only-of-type {\n",
       "        vertical-align: middle;\n",
       "    }\n",
       "\n",
       "    .dataframe tbody tr th {\n",
       "        vertical-align: top;\n",
       "    }\n",
       "\n",
       "    .dataframe thead th {\n",
       "        text-align: right;\n",
       "    }\n",
       "</style>\n",
       "<table border=\"1\" class=\"dataframe\">\n",
       "  <thead>\n",
       "    <tr style=\"text-align: right;\">\n",
       "      <th></th>\n",
       "      <th>year</th>\n",
       "      <th>country</th>\n",
       "      <th>Patent applications, residents_lag1</th>\n",
       "      <th>School enrollment, secondary (% gross)_lag1</th>\n",
       "      <th>School enrollment, tertiary (% gross)_lag1</th>\n",
       "      <th>School enrollment, primary (% gross)_lag1</th>\n",
       "      <th>Electric power consumption (kWh per capita)_lag1</th>\n",
       "      <th>Mobile cellular subscriptions (per 100 people)_lag1</th>\n",
       "      <th>Life expectancy at birth, total (years)_lag1</th>\n",
       "      <th>Total reserves (includes gold, current US$)_lag1</th>\n",
       "      <th>Broad money (% of GDP)_lag1</th>\n",
       "      <th>Domestic credit to private sector (% of GDP)_lag1</th>\n",
       "    </tr>\n",
       "  </thead>\n",
       "  <tbody>\n",
       "    <tr>\n",
       "      <th>2659</th>\n",
       "      <td>1970</td>\n",
       "      <td>arg</td>\n",
       "      <td>792.0</td>\n",
       "      <td>81.11338</td>\n",
       "      <td>54.333271</td>\n",
       "      <td>110.991566</td>\n",
       "      <td>1468.053656</td>\n",
       "      <td>7.371312</td>\n",
       "      <td>73.172</td>\n",
       "      <td>1.549943e+10</td>\n",
       "      <td>25.147605</td>\n",
       "      <td>17.451443</td>\n",
       "    </tr>\n",
       "    <tr>\n",
       "      <th>2924</th>\n",
       "      <td>1971</td>\n",
       "      <td>arg</td>\n",
       "      <td>792.0</td>\n",
       "      <td>81.11338</td>\n",
       "      <td>54.333271</td>\n",
       "      <td>110.991566</td>\n",
       "      <td>1468.053656</td>\n",
       "      <td>7.371312</td>\n",
       "      <td>73.172</td>\n",
       "      <td>1.549943e+10</td>\n",
       "      <td>25.147605</td>\n",
       "      <td>17.451443</td>\n",
       "    </tr>\n",
       "    <tr>\n",
       "      <th>3189</th>\n",
       "      <td>1972</td>\n",
       "      <td>arg</td>\n",
       "      <td>792.0</td>\n",
       "      <td>81.11338</td>\n",
       "      <td>54.333271</td>\n",
       "      <td>110.991566</td>\n",
       "      <td>1468.053656</td>\n",
       "      <td>7.371312</td>\n",
       "      <td>73.172</td>\n",
       "      <td>1.549943e+10</td>\n",
       "      <td>25.147605</td>\n",
       "      <td>17.451443</td>\n",
       "    </tr>\n",
       "    <tr>\n",
       "      <th>3454</th>\n",
       "      <td>1973</td>\n",
       "      <td>arg</td>\n",
       "      <td>792.0</td>\n",
       "      <td>81.11338</td>\n",
       "      <td>54.333271</td>\n",
       "      <td>110.991566</td>\n",
       "      <td>1468.053656</td>\n",
       "      <td>7.371312</td>\n",
       "      <td>73.172</td>\n",
       "      <td>1.549943e+10</td>\n",
       "      <td>25.147605</td>\n",
       "      <td>17.451443</td>\n",
       "    </tr>\n",
       "    <tr>\n",
       "      <th>3719</th>\n",
       "      <td>1974</td>\n",
       "      <td>arg</td>\n",
       "      <td>792.0</td>\n",
       "      <td>81.11338</td>\n",
       "      <td>54.333271</td>\n",
       "      <td>110.991566</td>\n",
       "      <td>1468.053656</td>\n",
       "      <td>7.371312</td>\n",
       "      <td>73.172</td>\n",
       "      <td>1.549943e+10</td>\n",
       "      <td>25.147605</td>\n",
       "      <td>17.451443</td>\n",
       "    </tr>\n",
       "  </tbody>\n",
       "</table>\n",
       "</div>"
      ],
      "text/plain": [
       "      year country  Patent applications, residents_lag1  \\\n",
       "2659  1970     arg                                792.0   \n",
       "2924  1971     arg                                792.0   \n",
       "3189  1972     arg                                792.0   \n",
       "3454  1973     arg                                792.0   \n",
       "3719  1974     arg                                792.0   \n",
       "\n",
       "      School enrollment, secondary (% gross)_lag1  \\\n",
       "2659                                     81.11338   \n",
       "2924                                     81.11338   \n",
       "3189                                     81.11338   \n",
       "3454                                     81.11338   \n",
       "3719                                     81.11338   \n",
       "\n",
       "      School enrollment, tertiary (% gross)_lag1  \\\n",
       "2659                                   54.333271   \n",
       "2924                                   54.333271   \n",
       "3189                                   54.333271   \n",
       "3454                                   54.333271   \n",
       "3719                                   54.333271   \n",
       "\n",
       "      School enrollment, primary (% gross)_lag1  \\\n",
       "2659                                 110.991566   \n",
       "2924                                 110.991566   \n",
       "3189                                 110.991566   \n",
       "3454                                 110.991566   \n",
       "3719                                 110.991566   \n",
       "\n",
       "      Electric power consumption (kWh per capita)_lag1  \\\n",
       "2659                                       1468.053656   \n",
       "2924                                       1468.053656   \n",
       "3189                                       1468.053656   \n",
       "3454                                       1468.053656   \n",
       "3719                                       1468.053656   \n",
       "\n",
       "      Mobile cellular subscriptions (per 100 people)_lag1  \\\n",
       "2659                                           7.371312     \n",
       "2924                                           7.371312     \n",
       "3189                                           7.371312     \n",
       "3454                                           7.371312     \n",
       "3719                                           7.371312     \n",
       "\n",
       "      Life expectancy at birth, total (years)_lag1  \\\n",
       "2659                                        73.172   \n",
       "2924                                        73.172   \n",
       "3189                                        73.172   \n",
       "3454                                        73.172   \n",
       "3719                                        73.172   \n",
       "\n",
       "      Total reserves (includes gold, current US$)_lag1  \\\n",
       "2659                                      1.549943e+10   \n",
       "2924                                      1.549943e+10   \n",
       "3189                                      1.549943e+10   \n",
       "3454                                      1.549943e+10   \n",
       "3719                                      1.549943e+10   \n",
       "\n",
       "      Broad money (% of GDP)_lag1  \\\n",
       "2659                    25.147605   \n",
       "2924                    25.147605   \n",
       "3189                    25.147605   \n",
       "3454                    25.147605   \n",
       "3719                    25.147605   \n",
       "\n",
       "      Domestic credit to private sector (% of GDP)_lag1  \n",
       "2659                                          17.451443  \n",
       "2924                                          17.451443  \n",
       "3189                                          17.451443  \n",
       "3454                                          17.451443  \n",
       "3719                                          17.451443  "
      ]
     },
     "execution_count": 16,
     "metadata": {},
     "output_type": "execute_result"
    }
   ],
   "source": [
    "g20_filled.head()"
   ]
  },
  {
   "cell_type": "code",
   "execution_count": 17,
   "metadata": {},
   "outputs": [],
   "source": [
    "# drop the rows with missing values in GDP per capita\n",
    "df_lagged[\"GDP per capita (current US$)\"].dropna(inplace=True)"
   ]
  },
  {
   "cell_type": "code",
   "execution_count": 18,
   "metadata": {},
   "outputs": [
    {
     "name": "stdout",
     "output_type": "stream",
     "text": [
      "Any missing values: False\n"
     ]
    }
   ],
   "source": [
    "# match the index of features with the index of GDP per capita\n",
    "g20_filled[\"GDP per capita (current US$)\"] = df_lagged[\"GDP per capita (current US$)\"][df_lagged.index.isin(g20_filled.index)]\n",
    "\n",
    "g20_filled.dropna(inplace=True)\n",
    "\n",
    "# check the data structure\n",
    "print(\"Any missing values:\", g20_filled.isna().any().any())"
   ]
  },
  {
   "cell_type": "code",
   "execution_count": 19,
   "metadata": {},
   "outputs": [
    {
     "name": "stdout",
     "output_type": "stream",
     "text": [
      "(792, 13)\n"
     ]
    },
    {
     "data": {
      "application/vnd.microsoft.datawrangler.viewer.v0+json": {
       "columns": [
        {
         "name": "index",
         "rawType": "int64",
         "type": "integer"
        },
        {
         "name": "year",
         "rawType": "int32",
         "type": "integer"
        },
        {
         "name": "country",
         "rawType": "object",
         "type": "string"
        },
        {
         "name": "Patent applications, residents_lag1",
         "rawType": "float64",
         "type": "float"
        },
        {
         "name": "School enrollment, secondary (% gross)_lag1",
         "rawType": "float64",
         "type": "float"
        },
        {
         "name": "School enrollment, tertiary (% gross)_lag1",
         "rawType": "float64",
         "type": "float"
        },
        {
         "name": "School enrollment, primary (% gross)_lag1",
         "rawType": "float64",
         "type": "float"
        },
        {
         "name": "Electric power consumption (kWh per capita)_lag1",
         "rawType": "float64",
         "type": "float"
        },
        {
         "name": "Mobile cellular subscriptions (per 100 people)_lag1",
         "rawType": "float64",
         "type": "float"
        },
        {
         "name": "Life expectancy at birth, total (years)_lag1",
         "rawType": "float64",
         "type": "float"
        },
        {
         "name": "Total reserves (includes gold, current US$)_lag1",
         "rawType": "float64",
         "type": "float"
        },
        {
         "name": "Broad money (% of GDP)_lag1",
         "rawType": "float64",
         "type": "float"
        },
        {
         "name": "Domestic credit to private sector (% of GDP)_lag1",
         "rawType": "float64",
         "type": "float"
        },
        {
         "name": "GDP per capita (current US$)",
         "rawType": "float64",
         "type": "float"
        }
       ],
       "ref": "df4d1b72-d77b-4995-a285-f4fc258856c6",
       "rows": [
        [
         "2659",
         "1970",
         "arg",
         "792.0",
         "81.1133804321",
         "54.3332710266",
         "110.99156570435",
         "1468.0536560565001",
         "7.371312411",
         "73.172",
         "15499431243.972",
         "25.1476054816",
         "17.45144273925",
         "1322.7145421681"
        ],
        [
         "2924",
         "1971",
         "arg",
         "792.0",
         "81.1133804321",
         "54.3332710266",
         "110.99156570435",
         "1468.0536560565001",
         "7.371312411",
         "73.172",
         "15499431243.972",
         "25.1476054816",
         "17.45144273925",
         "1372.5074664606"
        ],
        [
         "3189",
         "1972",
         "arg",
         "792.0",
         "81.1133804321",
         "54.3332710266",
         "110.99156570435",
         "1468.0536560565001",
         "7.371312411",
         "73.172",
         "15499431243.972",
         "25.1476054816",
         "17.45144273925",
         "1409.3709731621"
        ],
        [
         "3454",
         "1973",
         "arg",
         "792.0",
         "81.1133804321",
         "54.3332710266",
         "110.99156570435",
         "1468.0536560565001",
         "7.371312411",
         "73.172",
         "15499431243.972",
         "25.1476054816",
         "17.45144273925",
         "2097.8994501081"
        ],
        [
         "3719",
         "1974",
         "arg",
         "792.0",
         "81.1133804321",
         "54.3332710266",
         "110.99156570435",
         "1468.0536560565001",
         "7.371312411",
         "73.172",
         "15499431243.972",
         "25.1476054816",
         "17.45144273925",
         "2844.9699052676"
        ]
       ],
       "shape": {
        "columns": 13,
        "rows": 5
       }
      },
      "text/html": [
       "<div>\n",
       "<style scoped>\n",
       "    .dataframe tbody tr th:only-of-type {\n",
       "        vertical-align: middle;\n",
       "    }\n",
       "\n",
       "    .dataframe tbody tr th {\n",
       "        vertical-align: top;\n",
       "    }\n",
       "\n",
       "    .dataframe thead th {\n",
       "        text-align: right;\n",
       "    }\n",
       "</style>\n",
       "<table border=\"1\" class=\"dataframe\">\n",
       "  <thead>\n",
       "    <tr style=\"text-align: right;\">\n",
       "      <th></th>\n",
       "      <th>year</th>\n",
       "      <th>country</th>\n",
       "      <th>Patent applications, residents_lag1</th>\n",
       "      <th>School enrollment, secondary (% gross)_lag1</th>\n",
       "      <th>School enrollment, tertiary (% gross)_lag1</th>\n",
       "      <th>School enrollment, primary (% gross)_lag1</th>\n",
       "      <th>Electric power consumption (kWh per capita)_lag1</th>\n",
       "      <th>Mobile cellular subscriptions (per 100 people)_lag1</th>\n",
       "      <th>Life expectancy at birth, total (years)_lag1</th>\n",
       "      <th>Total reserves (includes gold, current US$)_lag1</th>\n",
       "      <th>Broad money (% of GDP)_lag1</th>\n",
       "      <th>Domestic credit to private sector (% of GDP)_lag1</th>\n",
       "      <th>GDP per capita (current US$)</th>\n",
       "    </tr>\n",
       "  </thead>\n",
       "  <tbody>\n",
       "    <tr>\n",
       "      <th>2659</th>\n",
       "      <td>1970</td>\n",
       "      <td>arg</td>\n",
       "      <td>792.0</td>\n",
       "      <td>81.11338</td>\n",
       "      <td>54.333271</td>\n",
       "      <td>110.991566</td>\n",
       "      <td>1468.053656</td>\n",
       "      <td>7.371312</td>\n",
       "      <td>73.172</td>\n",
       "      <td>1.549943e+10</td>\n",
       "      <td>25.147605</td>\n",
       "      <td>17.451443</td>\n",
       "      <td>1322.714542</td>\n",
       "    </tr>\n",
       "    <tr>\n",
       "      <th>2924</th>\n",
       "      <td>1971</td>\n",
       "      <td>arg</td>\n",
       "      <td>792.0</td>\n",
       "      <td>81.11338</td>\n",
       "      <td>54.333271</td>\n",
       "      <td>110.991566</td>\n",
       "      <td>1468.053656</td>\n",
       "      <td>7.371312</td>\n",
       "      <td>73.172</td>\n",
       "      <td>1.549943e+10</td>\n",
       "      <td>25.147605</td>\n",
       "      <td>17.451443</td>\n",
       "      <td>1372.507466</td>\n",
       "    </tr>\n",
       "    <tr>\n",
       "      <th>3189</th>\n",
       "      <td>1972</td>\n",
       "      <td>arg</td>\n",
       "      <td>792.0</td>\n",
       "      <td>81.11338</td>\n",
       "      <td>54.333271</td>\n",
       "      <td>110.991566</td>\n",
       "      <td>1468.053656</td>\n",
       "      <td>7.371312</td>\n",
       "      <td>73.172</td>\n",
       "      <td>1.549943e+10</td>\n",
       "      <td>25.147605</td>\n",
       "      <td>17.451443</td>\n",
       "      <td>1409.370973</td>\n",
       "    </tr>\n",
       "    <tr>\n",
       "      <th>3454</th>\n",
       "      <td>1973</td>\n",
       "      <td>arg</td>\n",
       "      <td>792.0</td>\n",
       "      <td>81.11338</td>\n",
       "      <td>54.333271</td>\n",
       "      <td>110.991566</td>\n",
       "      <td>1468.053656</td>\n",
       "      <td>7.371312</td>\n",
       "      <td>73.172</td>\n",
       "      <td>1.549943e+10</td>\n",
       "      <td>25.147605</td>\n",
       "      <td>17.451443</td>\n",
       "      <td>2097.899450</td>\n",
       "    </tr>\n",
       "    <tr>\n",
       "      <th>3719</th>\n",
       "      <td>1974</td>\n",
       "      <td>arg</td>\n",
       "      <td>792.0</td>\n",
       "      <td>81.11338</td>\n",
       "      <td>54.333271</td>\n",
       "      <td>110.991566</td>\n",
       "      <td>1468.053656</td>\n",
       "      <td>7.371312</td>\n",
       "      <td>73.172</td>\n",
       "      <td>1.549943e+10</td>\n",
       "      <td>25.147605</td>\n",
       "      <td>17.451443</td>\n",
       "      <td>2844.969905</td>\n",
       "    </tr>\n",
       "  </tbody>\n",
       "</table>\n",
       "</div>"
      ],
      "text/plain": [
       "      year country  Patent applications, residents_lag1  \\\n",
       "2659  1970     arg                                792.0   \n",
       "2924  1971     arg                                792.0   \n",
       "3189  1972     arg                                792.0   \n",
       "3454  1973     arg                                792.0   \n",
       "3719  1974     arg                                792.0   \n",
       "\n",
       "      School enrollment, secondary (% gross)_lag1  \\\n",
       "2659                                     81.11338   \n",
       "2924                                     81.11338   \n",
       "3189                                     81.11338   \n",
       "3454                                     81.11338   \n",
       "3719                                     81.11338   \n",
       "\n",
       "      School enrollment, tertiary (% gross)_lag1  \\\n",
       "2659                                   54.333271   \n",
       "2924                                   54.333271   \n",
       "3189                                   54.333271   \n",
       "3454                                   54.333271   \n",
       "3719                                   54.333271   \n",
       "\n",
       "      School enrollment, primary (% gross)_lag1  \\\n",
       "2659                                 110.991566   \n",
       "2924                                 110.991566   \n",
       "3189                                 110.991566   \n",
       "3454                                 110.991566   \n",
       "3719                                 110.991566   \n",
       "\n",
       "      Electric power consumption (kWh per capita)_lag1  \\\n",
       "2659                                       1468.053656   \n",
       "2924                                       1468.053656   \n",
       "3189                                       1468.053656   \n",
       "3454                                       1468.053656   \n",
       "3719                                       1468.053656   \n",
       "\n",
       "      Mobile cellular subscriptions (per 100 people)_lag1  \\\n",
       "2659                                           7.371312     \n",
       "2924                                           7.371312     \n",
       "3189                                           7.371312     \n",
       "3454                                           7.371312     \n",
       "3719                                           7.371312     \n",
       "\n",
       "      Life expectancy at birth, total (years)_lag1  \\\n",
       "2659                                        73.172   \n",
       "2924                                        73.172   \n",
       "3189                                        73.172   \n",
       "3454                                        73.172   \n",
       "3719                                        73.172   \n",
       "\n",
       "      Total reserves (includes gold, current US$)_lag1  \\\n",
       "2659                                      1.549943e+10   \n",
       "2924                                      1.549943e+10   \n",
       "3189                                      1.549943e+10   \n",
       "3454                                      1.549943e+10   \n",
       "3719                                      1.549943e+10   \n",
       "\n",
       "      Broad money (% of GDP)_lag1  \\\n",
       "2659                    25.147605   \n",
       "2924                    25.147605   \n",
       "3189                    25.147605   \n",
       "3454                    25.147605   \n",
       "3719                    25.147605   \n",
       "\n",
       "      Domestic credit to private sector (% of GDP)_lag1  \\\n",
       "2659                                          17.451443   \n",
       "2924                                          17.451443   \n",
       "3189                                          17.451443   \n",
       "3454                                          17.451443   \n",
       "3719                                          17.451443   \n",
       "\n",
       "      GDP per capita (current US$)  \n",
       "2659                   1322.714542  \n",
       "2924                   1372.507466  \n",
       "3189                   1409.370973  \n",
       "3454                   2097.899450  \n",
       "3719                   2844.969905  "
      ]
     },
     "execution_count": 19,
     "metadata": {},
     "output_type": "execute_result"
    }
   ],
   "source": [
    "print(g20_filled.shape)\n",
    "g20_filled.head()"
   ]
  },
  {
   "cell_type": "markdown",
   "metadata": {},
   "source": [
    "# 4. Data Exploration"
   ]
  },
  {
   "cell_type": "markdown",
   "metadata": {},
   "source": [
    "## G20 countries by GDP per capita (US$)"
   ]
  },
  {
   "cell_type": "code",
   "execution_count": 20,
   "metadata": {},
   "outputs": [
    {
     "data": {
      "application/vnd.microsoft.datawrangler.viewer.v0+json": {
       "columns": [
        {
         "name": "index",
         "rawType": "object",
         "type": "string"
        },
        {
         "name": "GDP per capita (current US$)",
         "rawType": "float64",
         "type": "float"
        }
       ],
       "ref": "fd7c6d01-cbdc-4dab-ae2a-1f68a669195b",
       "rows": [
        [
         "count",
         "792.0"
        ],
        [
         "mean",
         "13889.869772343125"
        ],
        [
         "std",
         "15982.716832281156"
        ],
        [
         "min",
         "78.542839387"
        ],
        [
         "25%",
         "2191.66768117715"
        ],
        [
         "50%",
         "7962.65072333015"
        ],
        [
         "75%",
         "20338.41287064105"
        ],
        [
         "max",
         "82769.4122114216"
        ]
       ],
       "shape": {
        "columns": 1,
        "rows": 8
       }
      },
      "text/plain": [
       "count      792.000000\n",
       "mean     13889.869772\n",
       "std      15982.716832\n",
       "min         78.542839\n",
       "25%       2191.667681\n",
       "50%       7962.650723\n",
       "75%      20338.412871\n",
       "max      82769.412211\n",
       "Name: GDP per capita (current US$), dtype: float64"
      ]
     },
     "execution_count": 20,
     "metadata": {},
     "output_type": "execute_result"
    }
   ],
   "source": [
    "# statistics for GDP per capita\n",
    "g20_filled[\"GDP per capita (current US$)\"].describe()"
   ]
  },
  {
   "cell_type": "code",
   "execution_count": 21,
   "metadata": {},
   "outputs": [
    {
     "data": {
      "image/png": "[encoded data removed]",
      "text/plain": [
       "<Figure size 1600x600 with 1 Axes>"
      ]
     },
     "metadata": {},
     "output_type": "display_data"
    }
   ],
   "source": [
    "mean_gdps = g20_filled.groupby('country')[\"GDP per capita (current US$)\"].mean().sort_values(ascending=False)\n",
    "mean_gdps = pd.DataFrame(mean_gdps).reset_index()\n",
    "\n",
    "# plot the GDP per capita by country\n",
    "fig, ax = plt.subplots(figsize=(16, 6))\n",
    "sns.barplot(x=\"country\", y=\"GDP per capita (current US$)\", data=mean_gdps, palette=\"viridis\", ax=ax)\n",
    "ax.set_title(\"G20 countries by Mean GDP per capita\")\n",
    "ax.set_xlabel(\"Country\")\n",
    "ax.set_ylabel(\"Mean GDP per capita (current US$)\")\n",
    "ax.set_xticklabels(ax.get_xticklabels(), rotation=45, ha=\"right\")\n",
    "plt.show()"
   ]
  },
  {
   "cell_type": "markdown",
   "metadata": {},
   "source": [
    "## Find top factors affecting GDP per capita"
   ]
  },
  {
   "cell_type": "code",
   "execution_count": 22,
   "metadata": {},
   "outputs": [
    {
     "data": {
      "application/vnd.microsoft.datawrangler.viewer.v0+json": {
       "columns": [
        {
         "name": "index",
         "rawType": "object",
         "type": "string"
        },
        {
         "name": "GDP per capita (current US$)",
         "rawType": "float64",
         "type": "float"
        }
       ],
       "ref": "d6063ef1-3b52-4b79-bf0b-752086b0205e",
       "rows": [
        [
         "GDP per capita (current US$)",
         "1.0"
        ],
        [
         "Electric power consumption (kWh per capita)_lag1",
         "0.6058371348828354"
        ],
        [
         "Life expectancy at birth, total (years)_lag1",
         "0.5964177361884536"
        ],
        [
         "School enrollment, secondary (% gross)_lag1",
         "0.522005374710932"
        ],
        [
         "year",
         "0.5012106191690243"
        ],
        [
         "School enrollment, tertiary (% gross)_lag1",
         "0.4470317344416104"
        ],
        [
         "Domestic credit to private sector (% of GDP)_lag1",
         "0.4190089042467836"
        ],
        [
         "Mobile cellular subscriptions (per 100 people)_lag1",
         "0.4040451889096948"
        ],
        [
         "Patent applications, residents_lag1",
         "0.35757147836916986"
        ],
        [
         "Broad money (% of GDP)_lag1",
         "0.28334837094530935"
        ]
       ],
       "shape": {
        "columns": 1,
        "rows": 10
       }
      },
      "text/plain": [
       "GDP per capita (current US$)                           1.000000\n",
       "Electric power consumption (kWh per capita)_lag1       0.605837\n",
       "Life expectancy at birth, total (years)_lag1           0.596418\n",
       "School enrollment, secondary (% gross)_lag1            0.522005\n",
       "year                                                   0.501211\n",
       "School enrollment, tertiary (% gross)_lag1             0.447032\n",
       "Domestic credit to private sector (% of GDP)_lag1      0.419009\n",
       "Mobile cellular subscriptions (per 100 people)_lag1    0.404045\n",
       "Patent applications, residents_lag1                    0.357571\n",
       "Broad money (% of GDP)_lag1                            0.283348\n",
       "Name: GDP per capita (current US$), dtype: float64"
      ]
     },
     "execution_count": 22,
     "metadata": {},
     "output_type": "execute_result"
    }
   ],
   "source": [
    "# top 10 factors that affect GDP per capita\n",
    "top_factors_gdp_per_capita = g20_filled.corr(numeric_only=True)[\"GDP per capita (current US$)\"].abs().sort_values(ascending=False)[:10]\n",
    "top_factors_gdp_per_capita.head(10)"
   ]
  },
  {
   "cell_type": "markdown",
   "metadata": {},
   "source": [
    "## Correlation between Variables"
   ]
  },
  {
   "cell_type": "markdown",
   "metadata": {},
   "source": [
    "### Correlation between Top 10 factors that affect GDP per capita"
   ]
  },
  {
   "cell_type": "code",
   "execution_count": 23,
   "metadata": {},
   "outputs": [
    {
     "data": {
      "image/png": "[encoded data removed]",
      "text/plain": [
       "<Figure size 1600x1200 with 2 Axes>"
      ]
     },
     "metadata": {},
     "output_type": "display_data"
    }
   ],
   "source": [
    "# columns for these factors\n",
    "columns_gdp_per_capita = top_factors_gdp_per_capita.index\n",
    "\n",
    "# create a new dataframe with the columns for GDP per capita\n",
    "corr_gdp_per_capita = g20_filled[columns_gdp_per_capita].corr(numeric_only=True)\n",
    "\n",
    "# plot the correlation matrix for GDP per capita\n",
    "plt.figure(figsize=(16,12))\n",
    "sns.heatmap(corr_gdp_per_capita, annot=True, cmap=\"coolwarm\", fmt=\".2f\", square=True)\n",
    "plt.title(\"Correlation between Top 10 factors that affect GDP per capita\")\n",
    "plt.show()"
   ]
  },
  {
   "cell_type": "code",
   "execution_count": 24,
   "metadata": {},
   "outputs": [
    {
     "name": "stdout",
     "output_type": "stream",
     "text": [
      "Highly correlated feature pairs (|r| > 0.7):\n",
      "Mobile cellular subscriptions (per 100 people)_lag1 <-> Patent applications, residents_lag1: r = 0.78\n",
      "Mobile cellular subscriptions (per 100 people)_lag1 <-> Broad money (% of GDP)_lag1: r = 0.82\n"
     ]
    }
   ],
   "source": [
    "# Find all pairs of features with |correlation| > 0.7 (excluding self-correlation and duplicates)\n",
    "corr_matrix = corr_gdp_per_capita.drop(\"GDP per capita (current US$)\", axis=1).copy()\n",
    "threshold = 0.7\n",
    "already_reported = set()\n",
    "\n",
    "print(\"Highly correlated feature pairs (|r| > 0.7):\")\n",
    "for i in range(len(corr_matrix.columns)):\n",
    "    for j in range(i+1, len(corr_matrix.columns)):\n",
    "        col1 = corr_matrix.columns[i]\n",
    "        col2 = corr_matrix.columns[j]\n",
    "        r = corr_matrix.iloc[i, j]\n",
    "        if abs(r) > threshold:\n",
    "            pair = tuple(sorted([col1, col2]))\n",
    "            if pair not in already_reported:\n",
    "                print(f\"{col1} <-> {col2}: r = {r:.2f}\")\n",
    "                already_reported.add(pair)"
   ]
  },
  {
   "cell_type": "markdown",
   "metadata": {},
   "source": [
    "I'm not sure they have redundancy. I'll just leave them at this moment and handle these colinearity in the modeling process."
   ]
  },
  {
   "cell_type": "markdown",
   "metadata": {},
   "source": [
    "# 5. Modeling\n",
    "Feature Selection to explain what drives GDP per capita"
   ]
  },
  {
   "cell_type": "markdown",
   "metadata": {},
   "source": [
    "## Training and Testing Sets"
   ]
  },
  {
   "cell_type": "code",
   "execution_count": 25,
   "metadata": {},
   "outputs": [],
   "source": [
    "from sklearn.model_selection import train_test_split\n",
    "\n",
    "X = g20_filled.drop(columns=[\"GDP per capita (current US$)\", \"country\", \"year\"])\n",
    "y = g20_filled[\"GDP per capita (current US$)\"]\n",
    "\n",
    "y.dropna(inplace=True)"
   ]
  },
  {
   "cell_type": "code",
   "execution_count": 26,
   "metadata": {},
   "outputs": [
    {
     "name": "stdout",
     "output_type": "stream",
     "text": [
      "(633, 10) (159, 10) (633,) (159,)\n"
     ]
    }
   ],
   "source": [
    "train_X, test_X, train_y, test_y = train_test_split(X, y, test_size=0.2, random_state=42)\n",
    "print(train_X.shape, test_X.shape, train_y.shape, test_y.shape)"
   ]
  },
  {
   "cell_type": "markdown",
   "metadata": {},
   "source": [
    "## Feature Selection"
   ]
  },
  {
   "cell_type": "markdown",
   "metadata": {},
   "source": [
    "### (1) Ridge regression (handling multicolinearity and doling some feature selection)"
   ]
  },
  {
   "cell_type": "code",
   "execution_count": 27,
   "metadata": {},
   "outputs": [],
   "source": [
    "# scale the features\n",
    "from sklearn.preprocessing import StandardScaler\n",
    "SS = StandardScaler()\n",
    "train_X_scaled = SS.fit_transform(train_X)\n",
    "test_X_scaled = SS.transform(test_X)"
   ]
  },
  {
   "cell_type": "code",
   "execution_count": 28,
   "metadata": {},
   "outputs": [
    {
     "name": "stdout",
     "output_type": "stream",
     "text": [
      "Ridge CV R2 Scores mean: 0.4151852610138869\n",
      "MSE: 11743.549080803328\n"
     ]
    }
   ],
   "source": [
    "from sklearn.linear_model import RidgeCV\n",
    "from sklearn.model_selection import cross_val_score\n",
    "from sklearn.metrics import mean_squared_error\n",
    "\n",
    "# Ridge with cross-validation\n",
    "ridge = RidgeCV(cv=5)\n",
    "ridge.fit(train_X_scaled, train_y)\n",
    "ridge_pred = ridge.predict(train_X_scaled)\n",
    "\n",
    "# Cross-validation scores\n",
    "cv_scores_ridge = cross_val_score(ridge, train_X_scaled, train_y, cv=5, scoring=\"r2\")\n",
    "print(\"Ridge CV R2 Scores mean:\", cv_scores_ridge.mean())\n",
    "\n",
    "# RMSE\n",
    "cv_mse_ridge = cross_val_score(ridge, train_X_scaled, train_y, cv=5, scoring=\"neg_mean_squared_error\")\n",
    "print(\"MSE:\", np.sqrt(-cv_mse_ridge.mean()))"
   ]
  },
  {
   "cell_type": "markdown",
   "metadata": {},
   "source": [
    "### (2) LASSO regression (for Feature Selection)"
   ]
  },
  {
   "cell_type": "code",
   "execution_count": 29,
   "metadata": {},
   "outputs": [
    {
     "name": "stdout",
     "output_type": "stream",
     "text": [
      "Selected features: 0          School enrollment, secondary (% gross)_lag1\n",
      "1            School enrollment, primary (% gross)_lag1\n",
      "2     Electric power consumption (kWh per capita)_lag1\n",
      "3    Mobile cellular subscriptions (per 100 people)...\n",
      "4         Life expectancy at birth, total (years)_lag1\n",
      "5    Domestic credit to private sector (% of GDP)_lag1\n",
      "Mean cross-validation score: 0.40080713506588805\n",
      "RMSE: 11885.614835189212\n"
     ]
    }
   ],
   "source": [
    "from sklearn.linear_model import LassoCV\n",
    "from sklearn.model_selection import cross_val_score\n",
    "\n",
    "# LASSO with cross-validation\n",
    "lasso = LassoCV(cv=5, random_state=42)\n",
    "lasso.fit(train_X_scaled, train_y)\n",
    "\n",
    "# selected features (with non-zero coefficients)\n",
    "selected_features_lasso = train_X.columns[lasso.coef_!=0]\n",
    "print(\"Selected features:\", pd.Series(selected_features_lasso).to_string())\n",
    "\n",
    "# Cross-validation scores\n",
    "cv_scores_lasso = cross_val_score(lasso, train_X_scaled, train_y, cv=5, scoring=\"r2\")\n",
    "print(\"Mean cross-validation score:\", cv_scores_lasso.mean())\n",
    "\n",
    "# RMSE\n",
    "cv_mse_lasso = cross_val_score(lasso, train_X_scaled, train_y, cv=5, scoring=\"neg_mean_squared_error\")\n",
    "print(\"RMSE:\", np.sqrt(-cv_mse_lasso.mean()))"
   ]
  },
  {
   "cell_type": "markdown",
   "metadata": {},
   "source": [
    "### (3) Random Forest and feature importance "
   ]
  },
  {
   "cell_type": "code",
   "execution_count": 30,
   "metadata": {},
   "outputs": [
    {
     "name": "stdout",
     "output_type": "stream",
     "text": [
      "top 10 features: School enrollment, secondary (% gross)_lag1            0.576120\n",
      "Life expectancy at birth, total (years)_lag1           0.228393\n",
      "Mobile cellular subscriptions (per 100 people)_lag1    0.106617\n",
      "Domestic credit to private sector (% of GDP)_lag1      0.031970\n",
      "School enrollment, tertiary (% gross)_lag1             0.023947\n",
      "Electric power consumption (kWh per capita)_lag1       0.014794\n",
      "Patent applications, residents_lag1                    0.005653\n",
      "Broad money (% of GDP)_lag1                            0.005506\n",
      "Total reserves (includes gold, current US$)_lag1       0.003952\n",
      "School enrollment, primary (% gross)_lag1              0.003047\n",
      "dtype: float64\n",
      "Cross-validation R2 score mean: 0.43727857935343195\n",
      "Cross-validation R2 score std: 0.11801810501290994\n",
      "Cross-validation RMSE score mean: 11518.271469661315\n",
      "Cross-validation RMSE score std: 4467.274737089406\n"
     ]
    }
   ],
   "source": [
    "# Random Forest\n",
    "from sklearn.ensemble import RandomForestRegressor\n",
    "\n",
    "# Random Forest with cross-validation\n",
    "RandomForest = RandomForestRegressor(n_estimators=50, max_depth=6, max_features=0.8, random_state=42)\n",
    "RandomForest.fit(train_X_scaled, train_y)\n",
    "RandomForest.fit(train_X_scaled, train_y)\n",
    "\n",
    "# feature importance\n",
    "importances = pd.Series(RandomForest.feature_importances_, index=train_X.columns)\n",
    "top_features = importances.sort_values(ascending=False).head(10)\n",
    "print(\"top 10 features:\", top_features)\n",
    "\n",
    "# cross-validation scores\n",
    "cv_scores_randomforest = cross_val_score(RandomForest, train_X_scaled, train_y, cv=5, scoring=\"r2\")\n",
    "print(\"Cross-validation R2 score mean:\", cv_scores_randomforest.mean())\n",
    "print(\"Cross-validation R2 score std:\", cv_scores_randomforest.std())\n",
    "\n",
    "# RMSE\n",
    "cv_mse_randomforest = cross_val_score(RandomForest, train_X_scaled, train_y, cv=5, scoring=\"neg_mean_squared_error\")\n",
    "print(\"Cross-validation RMSE score mean:\", np.sqrt(-cv_mse_randomforest.mean()))\n",
    "print(\"Cross-validation RMSE score std:\", np.sqrt(cv_mse_randomforest.std()))\n"
   ]
  },
  {
   "cell_type": "code",
   "execution_count": 31,
   "metadata": {},
   "outputs": [
    {
     "name": "stdout",
     "output_type": "stream",
     "text": [
      "R^2 of the random forest model on the test set: 0.47772875733916664\n",
      "RMSE of the random forest model on the test set: 12657.12403987623\n"
     ]
    }
   ],
   "source": [
    "# check R^2 of the random forest model on the test set\n",
    "from sklearn.metrics import r2_score, mean_squared_error\n",
    "rf_preds = RandomForest.predict(test_X_scaled)\n",
    "r2_rf = r2_score(test_y, rf_preds)\n",
    "print(f\"R^2 of the random forest model on the test set: {r2_rf}\")\n",
    "\n",
    "\n",
    "# check RMSE of the random forest model on the test set\n",
    "rmse_rf = np.sqrt(mean_squared_error(test_y, rf_preds))\n",
    "print(f\"RMSE of the random forest model on the test set: {rmse_rf}\")"
   ]
  },
  {
   "cell_type": "markdown",
   "metadata": {},
   "source": [
    "### (4) XGBoost for Regression"
   ]
  },
  {
   "cell_type": "code",
   "execution_count": 32,
   "metadata": {},
   "outputs": [
    {
     "name": "stdout",
     "output_type": "stream",
     "text": [
      "Requirement already satisfied: xgboost in /opt/anaconda3/lib/python3.12/site-packages (3.0.2)\n",
      "Requirement already satisfied: numpy in /opt/anaconda3/lib/python3.12/site-packages (from xgboost) (1.26.4)\n",
      "Requirement already satisfied: scipy in /opt/anaconda3/lib/python3.12/site-packages (from xgboost) (1.13.1)\n",
      "Note: you may need to restart the kernel to use updated packages.\n"
     ]
    }
   ],
   "source": [
    "pip install xgboost"
   ]
  },
  {
   "cell_type": "code",
   "execution_count": 33,
   "metadata": {},
   "outputs": [
    {
     "name": "stdout",
     "output_type": "stream",
     "text": [
      "R^2 score: 0.48419128711474735\n",
      "RMSE: 12578.571317624124\n"
     ]
    }
   ],
   "source": [
    "import xgboost as xgb\n",
    "\n",
    "xgb_model = xgb.XGBRegressor(n_estimators=100, max_depth=10, random_state=42)\n",
    "xgb_model.fit(train_X, train_y)\n",
    "y_pred = xgb_model.predict(test_X)\n",
    "\n",
    "# check the performance of the model\n",
    "print(\"R^2 score:\", r2_score(test_y, y_pred))\n",
    "print(\"RMSE:\", np.sqrt(mean_squared_error(test_y, y_pred)))"
   ]
  },
  {
   "cell_type": "markdown",
   "metadata": {},
   "source": [
    "## So far, I've got very low model performances across possible regression models. I'll keep this demonstrating combining stock market data (stock trade total value)."
   ]
  },
  {
   "cell_type": "markdown",
   "metadata": {},
   "source": [
    "# 6. Combining with the Stock Data"
   ]
  },
  {
   "cell_type": "markdown",
   "metadata": {},
   "source": [
    "I demonstrated how to add stock market data into indicators and evaluate how stock market affect GDP per capita prediction."
   ]
  },
  {
   "cell_type": "code",
   "execution_count": 34,
   "metadata": {},
   "outputs": [
    {
     "data": {
      "application/vnd.microsoft.datawrangler.viewer.v0+json": {
       "columns": [
        {
         "name": "index",
         "rawType": "object",
         "type": "string"
        },
        {
         "name": "0",
         "rawType": "float64",
         "type": "float"
        }
       ],
       "ref": "73649d9a-35cd-4e93-bfbf-34b4ffd3a43d",
       "rows": [
        [
         "year",
         "0.0"
        ],
        [
         "country",
         "0.0"
        ],
        [
         "Stocks traded, total value (% of GDP)",
         "0.2602880658436214"
        ]
       ],
       "shape": {
        "columns": 1,
        "rows": 3
       }
      },
      "text/plain": [
       "year                                     0.000000\n",
       "country                                  0.000000\n",
       "Stocks traded, total value (% of GDP)    0.260288\n",
       "dtype: float64"
      ]
     },
     "execution_count": 34,
     "metadata": {},
     "output_type": "execute_result"
    }
   ],
   "source": [
    "# create a new dataframe with the selected indicators\n",
    "g20_stockmarket = pd.concat([g20_data[[\"year\", \"country\"]], g20_data[[\"Stocks traded, total value (% of GDP)\"]]], axis=1)\n",
    "g20_stockmarket.columns\n",
    "\n",
    "# check the missing values percentage in each feature\n",
    "g20_stockmarket.isna().mean()"
   ]
  },
  {
   "cell_type": "code",
   "execution_count": 35,
   "metadata": {},
   "outputs": [
    {
     "data": {
      "application/vnd.microsoft.datawrangler.viewer.v0+json": {
       "columns": [
        {
         "name": "index",
         "rawType": "int64",
         "type": "integer"
        },
        {
         "name": "year",
         "rawType": "int32",
         "type": "integer"
        },
        {
         "name": "country",
         "rawType": "object",
         "type": "string"
        },
        {
         "name": "Stocks traded, total value (% of GDP)",
         "rawType": "float64",
         "type": "float"
        }
       ],
       "ref": "bb774cb9-1e06-468a-aac5-dc6352d01328",
       "rows": [
        [
         "2659",
         "1970",
         "arg",
         null
        ],
        [
         "2663",
         "1970",
         "aus",
         null
        ],
        [
         "2679",
         "1970",
         "bra",
         null
        ],
        [
         "2685",
         "1970",
         "can",
         null
        ],
        [
         "2690",
         "1970",
         "chn",
         null
        ]
       ],
       "shape": {
        "columns": 3,
        "rows": 5
       }
      },
      "text/html": [
       "<div>\n",
       "<style scoped>\n",
       "    .dataframe tbody tr th:only-of-type {\n",
       "        vertical-align: middle;\n",
       "    }\n",
       "\n",
       "    .dataframe tbody tr th {\n",
       "        vertical-align: top;\n",
       "    }\n",
       "\n",
       "    .dataframe thead th {\n",
       "        text-align: right;\n",
       "    }\n",
       "</style>\n",
       "<table border=\"1\" class=\"dataframe\">\n",
       "  <thead>\n",
       "    <tr style=\"text-align: right;\">\n",
       "      <th></th>\n",
       "      <th>year</th>\n",
       "      <th>country</th>\n",
       "      <th>Stocks traded, total value (% of GDP)</th>\n",
       "    </tr>\n",
       "  </thead>\n",
       "  <tbody>\n",
       "    <tr>\n",
       "      <th>2659</th>\n",
       "      <td>1970</td>\n",
       "      <td>arg</td>\n",
       "      <td>NaN</td>\n",
       "    </tr>\n",
       "    <tr>\n",
       "      <th>2663</th>\n",
       "      <td>1970</td>\n",
       "      <td>aus</td>\n",
       "      <td>NaN</td>\n",
       "    </tr>\n",
       "    <tr>\n",
       "      <th>2679</th>\n",
       "      <td>1970</td>\n",
       "      <td>bra</td>\n",
       "      <td>NaN</td>\n",
       "    </tr>\n",
       "    <tr>\n",
       "      <th>2685</th>\n",
       "      <td>1970</td>\n",
       "      <td>can</td>\n",
       "      <td>NaN</td>\n",
       "    </tr>\n",
       "    <tr>\n",
       "      <th>2690</th>\n",
       "      <td>1970</td>\n",
       "      <td>chn</td>\n",
       "      <td>NaN</td>\n",
       "    </tr>\n",
       "  </tbody>\n",
       "</table>\n",
       "</div>"
      ],
      "text/plain": [
       "      year country  Stocks traded, total value (% of GDP)\n",
       "2659  1970     arg                                    NaN\n",
       "2663  1970     aus                                    NaN\n",
       "2679  1970     bra                                    NaN\n",
       "2685  1970     can                                    NaN\n",
       "2690  1970     chn                                    NaN"
      ]
     },
     "execution_count": 35,
     "metadata": {},
     "output_type": "execute_result"
    }
   ],
   "source": [
    "g20_stockmarket.head()"
   ]
  },
  {
   "cell_type": "code",
   "execution_count": 36,
   "metadata": {},
   "outputs": [
    {
     "data": {
      "application/vnd.microsoft.datawrangler.viewer.v0+json": {
       "columns": [
        {
         "name": "index",
         "rawType": "int64",
         "type": "integer"
        },
        {
         "name": "year",
         "rawType": "int32",
         "type": "integer"
        },
        {
         "name": "country",
         "rawType": "object",
         "type": "string"
        },
        {
         "name": "Stocks traded, total value (% of GDP)_lag1",
         "rawType": "float64",
         "type": "float"
        }
       ],
       "ref": "059d2993-5853-4517-8a34-cf4496d0b899",
       "rows": [
        [
         "2659",
         "1970",
         "arg",
         null
        ],
        [
         "2924",
         "1971",
         "arg",
         null
        ],
        [
         "3189",
         "1972",
         "arg",
         null
        ],
        [
         "3454",
         "1973",
         "arg",
         null
        ],
        [
         "3719",
         "1974",
         "arg",
         null
        ]
       ],
       "shape": {
        "columns": 3,
        "rows": 5
       }
      },
      "text/html": [
       "<div>\n",
       "<style scoped>\n",
       "    .dataframe tbody tr th:only-of-type {\n",
       "        vertical-align: middle;\n",
       "    }\n",
       "\n",
       "    .dataframe tbody tr th {\n",
       "        vertical-align: top;\n",
       "    }\n",
       "\n",
       "    .dataframe thead th {\n",
       "        text-align: right;\n",
       "    }\n",
       "</style>\n",
       "<table border=\"1\" class=\"dataframe\">\n",
       "  <thead>\n",
       "    <tr style=\"text-align: right;\">\n",
       "      <th></th>\n",
       "      <th>year</th>\n",
       "      <th>country</th>\n",
       "      <th>Stocks traded, total value (% of GDP)_lag1</th>\n",
       "    </tr>\n",
       "  </thead>\n",
       "  <tbody>\n",
       "    <tr>\n",
       "      <th>2659</th>\n",
       "      <td>1970</td>\n",
       "      <td>arg</td>\n",
       "      <td>NaN</td>\n",
       "    </tr>\n",
       "    <tr>\n",
       "      <th>2924</th>\n",
       "      <td>1971</td>\n",
       "      <td>arg</td>\n",
       "      <td>NaN</td>\n",
       "    </tr>\n",
       "    <tr>\n",
       "      <th>3189</th>\n",
       "      <td>1972</td>\n",
       "      <td>arg</td>\n",
       "      <td>NaN</td>\n",
       "    </tr>\n",
       "    <tr>\n",
       "      <th>3454</th>\n",
       "      <td>1973</td>\n",
       "      <td>arg</td>\n",
       "      <td>NaN</td>\n",
       "    </tr>\n",
       "    <tr>\n",
       "      <th>3719</th>\n",
       "      <td>1974</td>\n",
       "      <td>arg</td>\n",
       "      <td>NaN</td>\n",
       "    </tr>\n",
       "  </tbody>\n",
       "</table>\n",
       "</div>"
      ],
      "text/plain": [
       "      year country  Stocks traded, total value (% of GDP)_lag1\n",
       "2659  1970     arg                                         NaN\n",
       "2924  1971     arg                                         NaN\n",
       "3189  1972     arg                                         NaN\n",
       "3454  1973     arg                                         NaN\n",
       "3719  1974     arg                                         NaN"
      ]
     },
     "execution_count": 36,
     "metadata": {},
     "output_type": "execute_result"
    }
   ],
   "source": [
    "# createing lagged features (lag features by 1 year for each country)\n",
    "stock_lagged = create_lagged_features(g20_stockmarket, group_col='country', time_col='year', features=[\"Stocks traded, total value (% of GDP)\"], lags=[1])\n",
    "stock_lagged.head()"
   ]
  },
  {
   "cell_type": "code",
   "execution_count": 37,
   "metadata": {},
   "outputs": [
    {
     "data": {
      "application/vnd.microsoft.datawrangler.viewer.v0+json": {
       "columns": [
        {
         "name": "index",
         "rawType": "int64",
         "type": "integer"
        },
        {
         "name": "Stocks traded, total value (% of GDP)_lag1",
         "rawType": "float64",
         "type": "float"
        }
       ],
       "ref": "7c6ef0f1-b5a3-4649-9575-5e2737fcd901",
       "rows": [
        [
         "2659",
         null
        ],
        [
         "2924",
         null
        ],
        [
         "3189",
         null
        ],
        [
         "3454",
         null
        ],
        [
         "3719",
         null
        ]
       ],
       "shape": {
        "columns": 1,
        "rows": 5
       }
      },
      "text/html": [
       "<div>\n",
       "<style scoped>\n",
       "    .dataframe tbody tr th:only-of-type {\n",
       "        vertical-align: middle;\n",
       "    }\n",
       "\n",
       "    .dataframe tbody tr th {\n",
       "        vertical-align: top;\n",
       "    }\n",
       "\n",
       "    .dataframe thead th {\n",
       "        text-align: right;\n",
       "    }\n",
       "</style>\n",
       "<table border=\"1\" class=\"dataframe\">\n",
       "  <thead>\n",
       "    <tr style=\"text-align: right;\">\n",
       "      <th></th>\n",
       "      <th>Stocks traded, total value (% of GDP)_lag1</th>\n",
       "    </tr>\n",
       "  </thead>\n",
       "  <tbody>\n",
       "    <tr>\n",
       "      <th>2659</th>\n",
       "      <td>NaN</td>\n",
       "    </tr>\n",
       "    <tr>\n",
       "      <th>2924</th>\n",
       "      <td>NaN</td>\n",
       "    </tr>\n",
       "    <tr>\n",
       "      <th>3189</th>\n",
       "      <td>NaN</td>\n",
       "    </tr>\n",
       "    <tr>\n",
       "      <th>3454</th>\n",
       "      <td>NaN</td>\n",
       "    </tr>\n",
       "    <tr>\n",
       "      <th>3719</th>\n",
       "      <td>NaN</td>\n",
       "    </tr>\n",
       "  </tbody>\n",
       "</table>\n",
       "</div>"
      ],
      "text/plain": [
       "      Stocks traded, total value (% of GDP)_lag1\n",
       "2659                                         NaN\n",
       "2924                                         NaN\n",
       "3189                                         NaN\n",
       "3454                                         NaN\n",
       "3719                                         NaN"
      ]
     },
     "execution_count": 37,
     "metadata": {},
     "output_type": "execute_result"
    }
   ],
   "source": [
    "# Fill missing values in lagged features by forward fill\n",
    "stock_filled = stock_lagged.copy()\n",
    "stock_filled = stock_filled.groupby(\"country\")[\"Stocks traded, total value (% of GDP)_lag1\"].transform(lambda x: x.ffill())\n",
    "stock_filled = pd.DataFrame(stock_filled)\n",
    "\n",
    "stock_filled.head()"
   ]
  },
  {
   "cell_type": "code",
   "execution_count": 48,
   "metadata": {},
   "outputs": [
    {
     "name": "stdout",
     "output_type": "stream",
     "text": [
      "(596, 14)\n"
     ]
    },
    {
     "data": {
      "application/vnd.microsoft.datawrangler.viewer.v0+json": {
       "columns": [
        {
         "name": "index",
         "rawType": "int64",
         "type": "integer"
        },
        {
         "name": "year",
         "rawType": "float64",
         "type": "float"
        },
        {
         "name": "country",
         "rawType": "object",
         "type": "string"
        },
        {
         "name": "Patent applications, residents_lag1",
         "rawType": "float64",
         "type": "float"
        },
        {
         "name": "School enrollment, secondary (% gross)_lag1",
         "rawType": "float64",
         "type": "float"
        },
        {
         "name": "School enrollment, tertiary (% gross)_lag1",
         "rawType": "float64",
         "type": "float"
        },
        {
         "name": "School enrollment, primary (% gross)_lag1",
         "rawType": "float64",
         "type": "float"
        },
        {
         "name": "Electric power consumption (kWh per capita)_lag1",
         "rawType": "float64",
         "type": "float"
        },
        {
         "name": "Mobile cellular subscriptions (per 100 people)_lag1",
         "rawType": "float64",
         "type": "float"
        },
        {
         "name": "Life expectancy at birth, total (years)_lag1",
         "rawType": "float64",
         "type": "float"
        },
        {
         "name": "Total reserves (includes gold, current US$)_lag1",
         "rawType": "float64",
         "type": "float"
        },
        {
         "name": "Broad money (% of GDP)_lag1",
         "rawType": "float64",
         "type": "float"
        },
        {
         "name": "Domestic credit to private sector (% of GDP)_lag1",
         "rawType": "float64",
         "type": "float"
        },
        {
         "name": "GDP per capita (current US$)",
         "rawType": "float64",
         "type": "float"
        },
        {
         "name": "Stocks traded, total value (% of GDP)_lag1",
         "rawType": "float64",
         "type": "float"
        }
       ],
       "ref": "c1b45cea-2b20-4fb4-974e-7a75c25e195d",
       "rows": [
        [
         "4249",
         "1976.0",
         "arg",
         "792.0",
         "81.1133804321",
         "54.3332710266",
         "110.99156570435",
         "1468.0536560565001",
         "7.371312411",
         "73.172",
         "15499431243.972",
         "25.1476054816",
         "17.45144273925",
         "1946.9199038825",
         "0.8581456957"
        ],
        [
         "4514",
         "1977.0",
         "arg",
         "792.0",
         "81.1133804321",
         "54.3332710266",
         "110.99156570435",
         "1468.0536560565001",
         "7.371312411",
         "73.172",
         "15499431243.972",
         "25.1476054816",
         "17.45144273925",
         "2126.4854604805",
         "1.5751570793"
        ],
        [
         "4779",
         "1978.0",
         "arg",
         "792.0",
         "81.1133804321",
         "54.3332710266",
         "110.99156570435",
         "1468.0536560565001",
         "7.371312411",
         "73.172",
         "15499431243.972",
         "25.1476054816",
         "17.45144273925",
         "3282.0630444629",
         "0.4209154463"
        ],
        [
         "5044",
         "1979.0",
         "arg",
         "792.0",
         "81.1133804321",
         "54.3332710266",
         "110.99156570435",
         "1468.0536560565001",
         "7.371312411",
         "73.172",
         "15499431243.972",
         "25.1476054816",
         "17.45144273925",
         "2511.9733290596",
         "0.3952859763"
        ],
        [
         "5309",
         "1980.0",
         "arg",
         "792.0",
         "81.1133804321",
         "54.3332710266",
         "110.99156570435",
         "1468.0536560565001",
         "7.371312411",
         "73.172",
         "15499431243.972",
         "25.1476054816",
         "17.45144273925",
         "2747.5022751674",
         "2.1248382867"
        ]
       ],
       "shape": {
        "columns": 14,
        "rows": 5
       }
      },
      "text/html": [
       "<div>\n",
       "<style scoped>\n",
       "    .dataframe tbody tr th:only-of-type {\n",
       "        vertical-align: middle;\n",
       "    }\n",
       "\n",
       "    .dataframe tbody tr th {\n",
       "        vertical-align: top;\n",
       "    }\n",
       "\n",
       "    .dataframe thead th {\n",
       "        text-align: right;\n",
       "    }\n",
       "</style>\n",
       "<table border=\"1\" class=\"dataframe\">\n",
       "  <thead>\n",
       "    <tr style=\"text-align: right;\">\n",
       "      <th></th>\n",
       "      <th>year</th>\n",
       "      <th>country</th>\n",
       "      <th>Patent applications, residents_lag1</th>\n",
       "      <th>School enrollment, secondary (% gross)_lag1</th>\n",
       "      <th>School enrollment, tertiary (% gross)_lag1</th>\n",
       "      <th>School enrollment, primary (% gross)_lag1</th>\n",
       "      <th>Electric power consumption (kWh per capita)_lag1</th>\n",
       "      <th>Mobile cellular subscriptions (per 100 people)_lag1</th>\n",
       "      <th>Life expectancy at birth, total (years)_lag1</th>\n",
       "      <th>Total reserves (includes gold, current US$)_lag1</th>\n",
       "      <th>Broad money (% of GDP)_lag1</th>\n",
       "      <th>Domestic credit to private sector (% of GDP)_lag1</th>\n",
       "      <th>GDP per capita (current US$)</th>\n",
       "      <th>Stocks traded, total value (% of GDP)_lag1</th>\n",
       "    </tr>\n",
       "  </thead>\n",
       "  <tbody>\n",
       "    <tr>\n",
       "      <th>4249</th>\n",
       "      <td>1976.0</td>\n",
       "      <td>arg</td>\n",
       "      <td>792.0</td>\n",
       "      <td>81.11338</td>\n",
       "      <td>54.333271</td>\n",
       "      <td>110.991566</td>\n",
       "      <td>1468.053656</td>\n",
       "      <td>7.371312</td>\n",
       "      <td>73.172</td>\n",
       "      <td>1.549943e+10</td>\n",
       "      <td>25.147605</td>\n",
       "      <td>17.451443</td>\n",
       "      <td>1946.919904</td>\n",
       "      <td>0.858146</td>\n",
       "    </tr>\n",
       "    <tr>\n",
       "      <th>4514</th>\n",
       "      <td>1977.0</td>\n",
       "      <td>arg</td>\n",
       "      <td>792.0</td>\n",
       "      <td>81.11338</td>\n",
       "      <td>54.333271</td>\n",
       "      <td>110.991566</td>\n",
       "      <td>1468.053656</td>\n",
       "      <td>7.371312</td>\n",
       "      <td>73.172</td>\n",
       "      <td>1.549943e+10</td>\n",
       "      <td>25.147605</td>\n",
       "      <td>17.451443</td>\n",
       "      <td>2126.485460</td>\n",
       "      <td>1.575157</td>\n",
       "    </tr>\n",
       "    <tr>\n",
       "      <th>4779</th>\n",
       "      <td>1978.0</td>\n",
       "      <td>arg</td>\n",
       "      <td>792.0</td>\n",
       "      <td>81.11338</td>\n",
       "      <td>54.333271</td>\n",
       "      <td>110.991566</td>\n",
       "      <td>1468.053656</td>\n",
       "      <td>7.371312</td>\n",
       "      <td>73.172</td>\n",
       "      <td>1.549943e+10</td>\n",
       "      <td>25.147605</td>\n",
       "      <td>17.451443</td>\n",
       "      <td>3282.063044</td>\n",
       "      <td>0.420915</td>\n",
       "    </tr>\n",
       "    <tr>\n",
       "      <th>5044</th>\n",
       "      <td>1979.0</td>\n",
       "      <td>arg</td>\n",
       "      <td>792.0</td>\n",
       "      <td>81.11338</td>\n",
       "      <td>54.333271</td>\n",
       "      <td>110.991566</td>\n",
       "      <td>1468.053656</td>\n",
       "      <td>7.371312</td>\n",
       "      <td>73.172</td>\n",
       "      <td>1.549943e+10</td>\n",
       "      <td>25.147605</td>\n",
       "      <td>17.451443</td>\n",
       "      <td>2511.973329</td>\n",
       "      <td>0.395286</td>\n",
       "    </tr>\n",
       "    <tr>\n",
       "      <th>5309</th>\n",
       "      <td>1980.0</td>\n",
       "      <td>arg</td>\n",
       "      <td>792.0</td>\n",
       "      <td>81.11338</td>\n",
       "      <td>54.333271</td>\n",
       "      <td>110.991566</td>\n",
       "      <td>1468.053656</td>\n",
       "      <td>7.371312</td>\n",
       "      <td>73.172</td>\n",
       "      <td>1.549943e+10</td>\n",
       "      <td>25.147605</td>\n",
       "      <td>17.451443</td>\n",
       "      <td>2747.502275</td>\n",
       "      <td>2.124838</td>\n",
       "    </tr>\n",
       "  </tbody>\n",
       "</table>\n",
       "</div>"
      ],
      "text/plain": [
       "        year country  Patent applications, residents_lag1  \\\n",
       "4249  1976.0     arg                                792.0   \n",
       "4514  1977.0     arg                                792.0   \n",
       "4779  1978.0     arg                                792.0   \n",
       "5044  1979.0     arg                                792.0   \n",
       "5309  1980.0     arg                                792.0   \n",
       "\n",
       "      School enrollment, secondary (% gross)_lag1  \\\n",
       "4249                                     81.11338   \n",
       "4514                                     81.11338   \n",
       "4779                                     81.11338   \n",
       "5044                                     81.11338   \n",
       "5309                                     81.11338   \n",
       "\n",
       "      School enrollment, tertiary (% gross)_lag1  \\\n",
       "4249                                   54.333271   \n",
       "4514                                   54.333271   \n",
       "4779                                   54.333271   \n",
       "5044                                   54.333271   \n",
       "5309                                   54.333271   \n",
       "\n",
       "      School enrollment, primary (% gross)_lag1  \\\n",
       "4249                                 110.991566   \n",
       "4514                                 110.991566   \n",
       "4779                                 110.991566   \n",
       "5044                                 110.991566   \n",
       "5309                                 110.991566   \n",
       "\n",
       "      Electric power consumption (kWh per capita)_lag1  \\\n",
       "4249                                       1468.053656   \n",
       "4514                                       1468.053656   \n",
       "4779                                       1468.053656   \n",
       "5044                                       1468.053656   \n",
       "5309                                       1468.053656   \n",
       "\n",
       "      Mobile cellular subscriptions (per 100 people)_lag1  \\\n",
       "4249                                           7.371312     \n",
       "4514                                           7.371312     \n",
       "4779                                           7.371312     \n",
       "5044                                           7.371312     \n",
       "5309                                           7.371312     \n",
       "\n",
       "      Life expectancy at birth, total (years)_lag1  \\\n",
       "4249                                        73.172   \n",
       "4514                                        73.172   \n",
       "4779                                        73.172   \n",
       "5044                                        73.172   \n",
       "5309                                        73.172   \n",
       "\n",
       "      Total reserves (includes gold, current US$)_lag1  \\\n",
       "4249                                      1.549943e+10   \n",
       "4514                                      1.549943e+10   \n",
       "4779                                      1.549943e+10   \n",
       "5044                                      1.549943e+10   \n",
       "5309                                      1.549943e+10   \n",
       "\n",
       "      Broad money (% of GDP)_lag1  \\\n",
       "4249                    25.147605   \n",
       "4514                    25.147605   \n",
       "4779                    25.147605   \n",
       "5044                    25.147605   \n",
       "5309                    25.147605   \n",
       "\n",
       "      Domestic credit to private sector (% of GDP)_lag1  \\\n",
       "4249                                          17.451443   \n",
       "4514                                          17.451443   \n",
       "4779                                          17.451443   \n",
       "5044                                          17.451443   \n",
       "5309                                          17.451443   \n",
       "\n",
       "      GDP per capita (current US$)  Stocks traded, total value (% of GDP)_lag1  \n",
       "4249                   1946.919904                                    0.858146  \n",
       "4514                   2126.485460                                    1.575157  \n",
       "4779                   3282.063044                                    0.420915  \n",
       "5044                   2511.973329                                    0.395286  \n",
       "5309                   2747.502275                                    2.124838  "
      ]
     },
     "execution_count": 48,
     "metadata": {},
     "output_type": "execute_result"
    }
   ],
   "source": [
    "# combine the stock market data with the original features\n",
    "g20_combined = pd.concat([g20_filled, stock_filled], axis=1)\n",
    "g20_combined.dropna(inplace=True)\n",
    "\n",
    "print(g20_combined.shape)\n",
    "g20_combined.head()\n"
   ]
  },
  {
   "cell_type": "code",
   "execution_count": 52,
   "metadata": {},
   "outputs": [
    {
     "data": {
      "application/vnd.microsoft.datawrangler.viewer.v0+json": {
       "columns": [
        {
         "name": "index",
         "rawType": "int64",
         "type": "integer"
        },
        {
         "name": "year",
         "rawType": "float64",
         "type": "float"
        },
        {
         "name": "country",
         "rawType": "object",
         "type": "string"
        },
        {
         "name": "Patent applications, residents_lag1",
         "rawType": "float64",
         "type": "float"
        },
        {
         "name": "School enrollment, secondary (% gross)_lag1",
         "rawType": "float64",
         "type": "float"
        },
        {
         "name": "School enrollment, tertiary (% gross)_lag1",
         "rawType": "float64",
         "type": "float"
        },
        {
         "name": "School enrollment, primary (% gross)_lag1",
         "rawType": "float64",
         "type": "float"
        },
        {
         "name": "Electric power consumption (kWh per capita)_lag1",
         "rawType": "float64",
         "type": "float"
        },
        {
         "name": "Mobile cellular subscriptions (per 100 people)_lag1",
         "rawType": "float64",
         "type": "float"
        },
        {
         "name": "Life expectancy at birth, total (years)_lag1",
         "rawType": "float64",
         "type": "float"
        },
        {
         "name": "Total reserves (includes gold, current US$)_lag1",
         "rawType": "float64",
         "type": "float"
        },
        {
         "name": "Broad money (% of GDP)_lag1",
         "rawType": "float64",
         "type": "float"
        },
        {
         "name": "Domestic credit to private sector (% of GDP)_lag1",
         "rawType": "float64",
         "type": "float"
        },
        {
         "name": "GDP per capita (current US$)",
         "rawType": "float64",
         "type": "float"
        },
        {
         "name": "Stocks traded, total value (% of GDP)_lag1",
         "rawType": "float64",
         "type": "float"
        }
       ],
       "ref": "f1501b4c-8f9d-43de-84bd-7dbf974ebcb3",
       "rows": [
        [
         "4249",
         "1976.0",
         "arg",
         "792.0",
         "81.1133804321",
         "54.3332710266",
         "110.99156570435",
         "1468.0536560565001",
         "7.371312411",
         "73.172",
         "15499431243.972",
         "25.1476054816",
         "17.45144273925",
         "1946.9199038825",
         "0.8581456957"
        ],
        [
         "4514",
         "1977.0",
         "arg",
         "792.0",
         "81.1133804321",
         "54.3332710266",
         "110.99156570435",
         "1468.0536560565001",
         "7.371312411",
         "73.172",
         "15499431243.972",
         "25.1476054816",
         "17.45144273925",
         "2126.4854604805",
         "1.5751570793"
        ],
        [
         "4779",
         "1978.0",
         "arg",
         "792.0",
         "81.1133804321",
         "54.3332710266",
         "110.99156570435",
         "1468.0536560565001",
         "7.371312411",
         "73.172",
         "15499431243.972",
         "25.1476054816",
         "17.45144273925",
         "3282.0630444629",
         "0.4209154463"
        ],
        [
         "5044",
         "1979.0",
         "arg",
         "792.0",
         "81.1133804321",
         "54.3332710266",
         "110.99156570435",
         "1468.0536560565001",
         "7.371312411",
         "73.172",
         "15499431243.972",
         "25.1476054816",
         "17.45144273925",
         "2511.9733290596",
         "0.3952859763"
        ],
        [
         "5309",
         "1980.0",
         "arg",
         "792.0",
         "81.1133804321",
         "54.3332710266",
         "110.99156570435",
         "1468.0536560565001",
         "7.371312411",
         "73.172",
         "15499431243.972",
         "25.1476054816",
         "17.45144273925",
         "2747.5022751674",
         "2.1248382867"
        ]
       ],
       "shape": {
        "columns": 14,
        "rows": 5
       }
      },
      "text/html": [
       "<div>\n",
       "<style scoped>\n",
       "    .dataframe tbody tr th:only-of-type {\n",
       "        vertical-align: middle;\n",
       "    }\n",
       "\n",
       "    .dataframe tbody tr th {\n",
       "        vertical-align: top;\n",
       "    }\n",
       "\n",
       "    .dataframe thead th {\n",
       "        text-align: right;\n",
       "    }\n",
       "</style>\n",
       "<table border=\"1\" class=\"dataframe\">\n",
       "  <thead>\n",
       "    <tr style=\"text-align: right;\">\n",
       "      <th></th>\n",
       "      <th>year</th>\n",
       "      <th>country</th>\n",
       "      <th>Patent applications, residents_lag1</th>\n",
       "      <th>School enrollment, secondary (% gross)_lag1</th>\n",
       "      <th>School enrollment, tertiary (% gross)_lag1</th>\n",
       "      <th>School enrollment, primary (% gross)_lag1</th>\n",
       "      <th>Electric power consumption (kWh per capita)_lag1</th>\n",
       "      <th>Mobile cellular subscriptions (per 100 people)_lag1</th>\n",
       "      <th>Life expectancy at birth, total (years)_lag1</th>\n",
       "      <th>Total reserves (includes gold, current US$)_lag1</th>\n",
       "      <th>Broad money (% of GDP)_lag1</th>\n",
       "      <th>Domestic credit to private sector (% of GDP)_lag1</th>\n",
       "      <th>GDP per capita (current US$)</th>\n",
       "      <th>Stocks traded, total value (% of GDP)_lag1</th>\n",
       "    </tr>\n",
       "  </thead>\n",
       "  <tbody>\n",
       "    <tr>\n",
       "      <th>4249</th>\n",
       "      <td>1976.0</td>\n",
       "      <td>arg</td>\n",
       "      <td>792.0</td>\n",
       "      <td>81.11338</td>\n",
       "      <td>54.333271</td>\n",
       "      <td>110.991566</td>\n",
       "      <td>1468.053656</td>\n",
       "      <td>7.371312</td>\n",
       "      <td>73.172</td>\n",
       "      <td>1.549943e+10</td>\n",
       "      <td>25.147605</td>\n",
       "      <td>17.451443</td>\n",
       "      <td>1946.919904</td>\n",
       "      <td>0.858146</td>\n",
       "    </tr>\n",
       "    <tr>\n",
       "      <th>4514</th>\n",
       "      <td>1977.0</td>\n",
       "      <td>arg</td>\n",
       "      <td>792.0</td>\n",
       "      <td>81.11338</td>\n",
       "      <td>54.333271</td>\n",
       "      <td>110.991566</td>\n",
       "      <td>1468.053656</td>\n",
       "      <td>7.371312</td>\n",
       "      <td>73.172</td>\n",
       "      <td>1.549943e+10</td>\n",
       "      <td>25.147605</td>\n",
       "      <td>17.451443</td>\n",
       "      <td>2126.485460</td>\n",
       "      <td>1.575157</td>\n",
       "    </tr>\n",
       "    <tr>\n",
       "      <th>4779</th>\n",
       "      <td>1978.0</td>\n",
       "      <td>arg</td>\n",
       "      <td>792.0</td>\n",
       "      <td>81.11338</td>\n",
       "      <td>54.333271</td>\n",
       "      <td>110.991566</td>\n",
       "      <td>1468.053656</td>\n",
       "      <td>7.371312</td>\n",
       "      <td>73.172</td>\n",
       "      <td>1.549943e+10</td>\n",
       "      <td>25.147605</td>\n",
       "      <td>17.451443</td>\n",
       "      <td>3282.063044</td>\n",
       "      <td>0.420915</td>\n",
       "    </tr>\n",
       "    <tr>\n",
       "      <th>5044</th>\n",
       "      <td>1979.0</td>\n",
       "      <td>arg</td>\n",
       "      <td>792.0</td>\n",
       "      <td>81.11338</td>\n",
       "      <td>54.333271</td>\n",
       "      <td>110.991566</td>\n",
       "      <td>1468.053656</td>\n",
       "      <td>7.371312</td>\n",
       "      <td>73.172</td>\n",
       "      <td>1.549943e+10</td>\n",
       "      <td>25.147605</td>\n",
       "      <td>17.451443</td>\n",
       "      <td>2511.973329</td>\n",
       "      <td>0.395286</td>\n",
       "    </tr>\n",
       "    <tr>\n",
       "      <th>5309</th>\n",
       "      <td>1980.0</td>\n",
       "      <td>arg</td>\n",
       "      <td>792.0</td>\n",
       "      <td>81.11338</td>\n",
       "      <td>54.333271</td>\n",
       "      <td>110.991566</td>\n",
       "      <td>1468.053656</td>\n",
       "      <td>7.371312</td>\n",
       "      <td>73.172</td>\n",
       "      <td>1.549943e+10</td>\n",
       "      <td>25.147605</td>\n",
       "      <td>17.451443</td>\n",
       "      <td>2747.502275</td>\n",
       "      <td>2.124838</td>\n",
       "    </tr>\n",
       "  </tbody>\n",
       "</table>\n",
       "</div>"
      ],
      "text/plain": [
       "        year country  Patent applications, residents_lag1  \\\n",
       "4249  1976.0     arg                                792.0   \n",
       "4514  1977.0     arg                                792.0   \n",
       "4779  1978.0     arg                                792.0   \n",
       "5044  1979.0     arg                                792.0   \n",
       "5309  1980.0     arg                                792.0   \n",
       "\n",
       "      School enrollment, secondary (% gross)_lag1  \\\n",
       "4249                                     81.11338   \n",
       "4514                                     81.11338   \n",
       "4779                                     81.11338   \n",
       "5044                                     81.11338   \n",
       "5309                                     81.11338   \n",
       "\n",
       "      School enrollment, tertiary (% gross)_lag1  \\\n",
       "4249                                   54.333271   \n",
       "4514                                   54.333271   \n",
       "4779                                   54.333271   \n",
       "5044                                   54.333271   \n",
       "5309                                   54.333271   \n",
       "\n",
       "      School enrollment, primary (% gross)_lag1  \\\n",
       "4249                                 110.991566   \n",
       "4514                                 110.991566   \n",
       "4779                                 110.991566   \n",
       "5044                                 110.991566   \n",
       "5309                                 110.991566   \n",
       "\n",
       "      Electric power consumption (kWh per capita)_lag1  \\\n",
       "4249                                       1468.053656   \n",
       "4514                                       1468.053656   \n",
       "4779                                       1468.053656   \n",
       "5044                                       1468.053656   \n",
       "5309                                       1468.053656   \n",
       "\n",
       "      Mobile cellular subscriptions (per 100 people)_lag1  \\\n",
       "4249                                           7.371312     \n",
       "4514                                           7.371312     \n",
       "4779                                           7.371312     \n",
       "5044                                           7.371312     \n",
       "5309                                           7.371312     \n",
       "\n",
       "      Life expectancy at birth, total (years)_lag1  \\\n",
       "4249                                        73.172   \n",
       "4514                                        73.172   \n",
       "4779                                        73.172   \n",
       "5044                                        73.172   \n",
       "5309                                        73.172   \n",
       "\n",
       "      Total reserves (includes gold, current US$)_lag1  \\\n",
       "4249                                      1.549943e+10   \n",
       "4514                                      1.549943e+10   \n",
       "4779                                      1.549943e+10   \n",
       "5044                                      1.549943e+10   \n",
       "5309                                      1.549943e+10   \n",
       "\n",
       "      Broad money (% of GDP)_lag1  \\\n",
       "4249                    25.147605   \n",
       "4514                    25.147605   \n",
       "4779                    25.147605   \n",
       "5044                    25.147605   \n",
       "5309                    25.147605   \n",
       "\n",
       "      Domestic credit to private sector (% of GDP)_lag1  \\\n",
       "4249                                          17.451443   \n",
       "4514                                          17.451443   \n",
       "4779                                          17.451443   \n",
       "5044                                          17.451443   \n",
       "5309                                          17.451443   \n",
       "\n",
       "      GDP per capita (current US$)  Stocks traded, total value (% of GDP)_lag1  \n",
       "4249                   1946.919904                                    0.858146  \n",
       "4514                   2126.485460                                    1.575157  \n",
       "4779                   3282.063044                                    0.420915  \n",
       "5044                   2511.973329                                    0.395286  \n",
       "5309                   2747.502275                                    2.124838  "
      ]
     },
     "execution_count": 52,
     "metadata": {},
     "output_type": "execute_result"
    }
   ],
   "source": [
    "# match the index of features with the index of GDP per capita\n",
    "g20_combined[\"GDP per capita (current US$)\"] = df_lagged[\"GDP per capita (current US$)\"][df_lagged.index.isin(g20_combined.index)]\n",
    "\n",
    "g20_combined.dropna(inplace=True)\n",
    "g20_combined.head()\n"
   ]
  },
  {
   "cell_type": "code",
   "execution_count": 55,
   "metadata": {},
   "outputs": [
    {
     "name": "stdout",
     "output_type": "stream",
     "text": [
      "Any missing values: False\n",
      "(596, 14)\n"
     ]
    }
   ],
   "source": [
    "# check the data structure\n",
    "print(\"Any missing values:\", g20_filled.isna().any().any())\n",
    "print(g20_combined.shape)"
   ]
  },
  {
   "cell_type": "code",
   "execution_count": 59,
   "metadata": {},
   "outputs": [
    {
     "data": {
      "application/vnd.microsoft.datawrangler.viewer.v0+json": {
       "columns": [
        {
         "name": "index",
         "rawType": "int64",
         "type": "integer"
        },
        {
         "name": "year",
         "rawType": "float64",
         "type": "float"
        },
        {
         "name": "country",
         "rawType": "object",
         "type": "string"
        },
        {
         "name": "Patent applications, residents_lag1",
         "rawType": "float64",
         "type": "float"
        },
        {
         "name": "School enrollment, secondary (% gross)_lag1",
         "rawType": "float64",
         "type": "float"
        },
        {
         "name": "School enrollment, tertiary (% gross)_lag1",
         "rawType": "float64",
         "type": "float"
        },
        {
         "name": "School enrollment, primary (% gross)_lag1",
         "rawType": "float64",
         "type": "float"
        },
        {
         "name": "Electric power consumption (kWh per capita)_lag1",
         "rawType": "float64",
         "type": "float"
        },
        {
         "name": "Mobile cellular subscriptions (per 100 people)_lag1",
         "rawType": "float64",
         "type": "float"
        },
        {
         "name": "Life expectancy at birth, total (years)_lag1",
         "rawType": "float64",
         "type": "float"
        },
        {
         "name": "Total reserves (includes gold, current US$)_lag1",
         "rawType": "float64",
         "type": "float"
        },
        {
         "name": "Broad money (% of GDP)_lag1",
         "rawType": "float64",
         "type": "float"
        },
        {
         "name": "Domestic credit to private sector (% of GDP)_lag1",
         "rawType": "float64",
         "type": "float"
        },
        {
         "name": "GDP per capita (current US$)",
         "rawType": "float64",
         "type": "float"
        },
        {
         "name": "Stocks traded, total value (% of GDP)_lag1",
         "rawType": "float64",
         "type": "float"
        }
       ],
       "ref": "ab8c240a-f4fb-418d-81b2-7656a08ec973",
       "rows": [
        [
         "4249",
         "1976.0",
         "arg",
         "792.0",
         "81.1133804321",
         "54.3332710266",
         "110.99156570435",
         "1468.0536560565001",
         "7.371312411",
         "73.172",
         "15499431243.972",
         "25.1476054816",
         "17.45144273925",
         "1946.9199038825",
         "0.8581456957"
        ],
        [
         "4514",
         "1977.0",
         "arg",
         "792.0",
         "81.1133804321",
         "54.3332710266",
         "110.99156570435",
         "1468.0536560565001",
         "7.371312411",
         "73.172",
         "15499431243.972",
         "25.1476054816",
         "17.45144273925",
         "2126.4854604805",
         "1.5751570793"
        ],
        [
         "4779",
         "1978.0",
         "arg",
         "792.0",
         "81.1133804321",
         "54.3332710266",
         "110.99156570435",
         "1468.0536560565001",
         "7.371312411",
         "73.172",
         "15499431243.972",
         "25.1476054816",
         "17.45144273925",
         "3282.0630444629",
         "0.4209154463"
        ],
        [
         "5044",
         "1979.0",
         "arg",
         "792.0",
         "81.1133804321",
         "54.3332710266",
         "110.99156570435",
         "1468.0536560565001",
         "7.371312411",
         "73.172",
         "15499431243.972",
         "25.1476054816",
         "17.45144273925",
         "2511.9733290596",
         "0.3952859763"
        ],
        [
         "5309",
         "1980.0",
         "arg",
         "792.0",
         "81.1133804321",
         "54.3332710266",
         "110.99156570435",
         "1468.0536560565001",
         "7.371312411",
         "73.172",
         "15499431243.972",
         "25.1476054816",
         "17.45144273925",
         "2747.5022751674",
         "2.1248382867"
        ]
       ],
       "shape": {
        "columns": 14,
        "rows": 5
       }
      },
      "text/html": [
       "<div>\n",
       "<style scoped>\n",
       "    .dataframe tbody tr th:only-of-type {\n",
       "        vertical-align: middle;\n",
       "    }\n",
       "\n",
       "    .dataframe tbody tr th {\n",
       "        vertical-align: top;\n",
       "    }\n",
       "\n",
       "    .dataframe thead th {\n",
       "        text-align: right;\n",
       "    }\n",
       "</style>\n",
       "<table border=\"1\" class=\"dataframe\">\n",
       "  <thead>\n",
       "    <tr style=\"text-align: right;\">\n",
       "      <th></th>\n",
       "      <th>year</th>\n",
       "      <th>country</th>\n",
       "      <th>Patent applications, residents_lag1</th>\n",
       "      <th>School enrollment, secondary (% gross)_lag1</th>\n",
       "      <th>School enrollment, tertiary (% gross)_lag1</th>\n",
       "      <th>School enrollment, primary (% gross)_lag1</th>\n",
       "      <th>Electric power consumption (kWh per capita)_lag1</th>\n",
       "      <th>Mobile cellular subscriptions (per 100 people)_lag1</th>\n",
       "      <th>Life expectancy at birth, total (years)_lag1</th>\n",
       "      <th>Total reserves (includes gold, current US$)_lag1</th>\n",
       "      <th>Broad money (% of GDP)_lag1</th>\n",
       "      <th>Domestic credit to private sector (% of GDP)_lag1</th>\n",
       "      <th>GDP per capita (current US$)</th>\n",
       "      <th>Stocks traded, total value (% of GDP)_lag1</th>\n",
       "    </tr>\n",
       "  </thead>\n",
       "  <tbody>\n",
       "    <tr>\n",
       "      <th>4249</th>\n",
       "      <td>1976.0</td>\n",
       "      <td>arg</td>\n",
       "      <td>792.0</td>\n",
       "      <td>81.11338</td>\n",
       "      <td>54.333271</td>\n",
       "      <td>110.991566</td>\n",
       "      <td>1468.053656</td>\n",
       "      <td>7.371312</td>\n",
       "      <td>73.172</td>\n",
       "      <td>1.549943e+10</td>\n",
       "      <td>25.147605</td>\n",
       "      <td>17.451443</td>\n",
       "      <td>1946.919904</td>\n",
       "      <td>0.858146</td>\n",
       "    </tr>\n",
       "    <tr>\n",
       "      <th>4514</th>\n",
       "      <td>1977.0</td>\n",
       "      <td>arg</td>\n",
       "      <td>792.0</td>\n",
       "      <td>81.11338</td>\n",
       "      <td>54.333271</td>\n",
       "      <td>110.991566</td>\n",
       "      <td>1468.053656</td>\n",
       "      <td>7.371312</td>\n",
       "      <td>73.172</td>\n",
       "      <td>1.549943e+10</td>\n",
       "      <td>25.147605</td>\n",
       "      <td>17.451443</td>\n",
       "      <td>2126.485460</td>\n",
       "      <td>1.575157</td>\n",
       "    </tr>\n",
       "    <tr>\n",
       "      <th>4779</th>\n",
       "      <td>1978.0</td>\n",
       "      <td>arg</td>\n",
       "      <td>792.0</td>\n",
       "      <td>81.11338</td>\n",
       "      <td>54.333271</td>\n",
       "      <td>110.991566</td>\n",
       "      <td>1468.053656</td>\n",
       "      <td>7.371312</td>\n",
       "      <td>73.172</td>\n",
       "      <td>1.549943e+10</td>\n",
       "      <td>25.147605</td>\n",
       "      <td>17.451443</td>\n",
       "      <td>3282.063044</td>\n",
       "      <td>0.420915</td>\n",
       "    </tr>\n",
       "    <tr>\n",
       "      <th>5044</th>\n",
       "      <td>1979.0</td>\n",
       "      <td>arg</td>\n",
       "      <td>792.0</td>\n",
       "      <td>81.11338</td>\n",
       "      <td>54.333271</td>\n",
       "      <td>110.991566</td>\n",
       "      <td>1468.053656</td>\n",
       "      <td>7.371312</td>\n",
       "      <td>73.172</td>\n",
       "      <td>1.549943e+10</td>\n",
       "      <td>25.147605</td>\n",
       "      <td>17.451443</td>\n",
       "      <td>2511.973329</td>\n",
       "      <td>0.395286</td>\n",
       "    </tr>\n",
       "    <tr>\n",
       "      <th>5309</th>\n",
       "      <td>1980.0</td>\n",
       "      <td>arg</td>\n",
       "      <td>792.0</td>\n",
       "      <td>81.11338</td>\n",
       "      <td>54.333271</td>\n",
       "      <td>110.991566</td>\n",
       "      <td>1468.053656</td>\n",
       "      <td>7.371312</td>\n",
       "      <td>73.172</td>\n",
       "      <td>1.549943e+10</td>\n",
       "      <td>25.147605</td>\n",
       "      <td>17.451443</td>\n",
       "      <td>2747.502275</td>\n",
       "      <td>2.124838</td>\n",
       "    </tr>\n",
       "  </tbody>\n",
       "</table>\n",
       "</div>"
      ],
      "text/plain": [
       "        year country  Patent applications, residents_lag1  \\\n",
       "4249  1976.0     arg                                792.0   \n",
       "4514  1977.0     arg                                792.0   \n",
       "4779  1978.0     arg                                792.0   \n",
       "5044  1979.0     arg                                792.0   \n",
       "5309  1980.0     arg                                792.0   \n",
       "\n",
       "      School enrollment, secondary (% gross)_lag1  \\\n",
       "4249                                     81.11338   \n",
       "4514                                     81.11338   \n",
       "4779                                     81.11338   \n",
       "5044                                     81.11338   \n",
       "5309                                     81.11338   \n",
       "\n",
       "      School enrollment, tertiary (% gross)_lag1  \\\n",
       "4249                                   54.333271   \n",
       "4514                                   54.333271   \n",
       "4779                                   54.333271   \n",
       "5044                                   54.333271   \n",
       "5309                                   54.333271   \n",
       "\n",
       "      School enrollment, primary (% gross)_lag1  \\\n",
       "4249                                 110.991566   \n",
       "4514                                 110.991566   \n",
       "4779                                 110.991566   \n",
       "5044                                 110.991566   \n",
       "5309                                 110.991566   \n",
       "\n",
       "      Electric power consumption (kWh per capita)_lag1  \\\n",
       "4249                                       1468.053656   \n",
       "4514                                       1468.053656   \n",
       "4779                                       1468.053656   \n",
       "5044                                       1468.053656   \n",
       "5309                                       1468.053656   \n",
       "\n",
       "      Mobile cellular subscriptions (per 100 people)_lag1  \\\n",
       "4249                                           7.371312     \n",
       "4514                                           7.371312     \n",
       "4779                                           7.371312     \n",
       "5044                                           7.371312     \n",
       "5309                                           7.371312     \n",
       "\n",
       "      Life expectancy at birth, total (years)_lag1  \\\n",
       "4249                                        73.172   \n",
       "4514                                        73.172   \n",
       "4779                                        73.172   \n",
       "5044                                        73.172   \n",
       "5309                                        73.172   \n",
       "\n",
       "      Total reserves (includes gold, current US$)_lag1  \\\n",
       "4249                                      1.549943e+10   \n",
       "4514                                      1.549943e+10   \n",
       "4779                                      1.549943e+10   \n",
       "5044                                      1.549943e+10   \n",
       "5309                                      1.549943e+10   \n",
       "\n",
       "      Broad money (% of GDP)_lag1  \\\n",
       "4249                    25.147605   \n",
       "4514                    25.147605   \n",
       "4779                    25.147605   \n",
       "5044                    25.147605   \n",
       "5309                    25.147605   \n",
       "\n",
       "      Domestic credit to private sector (% of GDP)_lag1  \\\n",
       "4249                                          17.451443   \n",
       "4514                                          17.451443   \n",
       "4779                                          17.451443   \n",
       "5044                                          17.451443   \n",
       "5309                                          17.451443   \n",
       "\n",
       "      GDP per capita (current US$)  Stocks traded, total value (% of GDP)_lag1  \n",
       "4249                   1946.919904                                    0.858146  \n",
       "4514                   2126.485460                                    1.575157  \n",
       "4779                   3282.063044                                    0.420915  \n",
       "5044                   2511.973329                                    0.395286  \n",
       "5309                   2747.502275                                    2.124838  "
      ]
     },
     "execution_count": 59,
     "metadata": {},
     "output_type": "execute_result"
    }
   ],
   "source": [
    "g20_combined.head()"
   ]
  },
  {
   "cell_type": "code",
   "execution_count": 74,
   "metadata": {},
   "outputs": [
    {
     "name": "stdout",
     "output_type": "stream",
     "text": [
      "(476, 11) (120, 11) (476,) (120,)\n"
     ]
    }
   ],
   "source": [
    "# split the data into training and testing sets\n",
    "X = g20_combined.drop(columns=[\"country\",\"year\", \"GDP per capita (current US$)\"])\n",
    "y = g20_combined[\"GDP per capita (current US$)\"]\n",
    "\n",
    "train_X, test_X, train_y, test_y = train_test_split(X, y, test_size=0.2, random_state=2)\n",
    "print(train_X.shape, test_X.shape, train_y.shape, test_y.shape)"
   ]
  },
  {
   "cell_type": "code",
   "execution_count": 75,
   "metadata": {},
   "outputs": [
    {
     "name": "stdout",
     "output_type": "stream",
     "text": [
      "Cross-validation R2 score mean: 0.8271056919296427\n",
      "Cross-validation R2 score std: 0.020885374465849357\n",
      "Cross-validation RMSE score mean: 7031.172575719424\n",
      "Cross-validation RMSE score std: 2457.212799851294\n"
     ]
    }
   ],
   "source": [
    "# fit a random forest model\n",
    "RandomForest = RandomForestRegressor(n_estimators=50, max_depth=6, max_features=0.8, random_state=2)\n",
    "RandomForest.fit(train_X, train_y)\n",
    "\n",
    "# cross-validation scores\n",
    "cv_scores_randomforest = cross_val_score(RandomForest, train_X, train_y, cv=5, scoring=\"r2\")\n",
    "print(\"Cross-validation R2 score mean:\", cv_scores_randomforest.mean())\n",
    "print(\"Cross-validation R2 score std:\", cv_scores_randomforest.std())\n",
    "\n",
    "# RMSE\n",
    "cv_mse_randomforest = cross_val_score(RandomForest, train_X, train_y, cv=5, scoring=\"neg_mean_squared_error\")\n",
    "print(\"Cross-validation RMSE score mean:\", np.sqrt(-cv_mse_randomforest.mean()))\n",
    "print(\"Cross-validation RMSE score std:\", np.sqrt(cv_mse_randomforest.std()))\n"
   ]
  },
  {
   "cell_type": "code",
   "execution_count": 76,
   "metadata": {},
   "outputs": [
    {
     "name": "stdout",
     "output_type": "stream",
     "text": [
      "R^2 of the random forest model on the test set: 0.8764818929288795\n",
      "RMSE of the random forest model on the test set: 5610.616855802114\n"
     ]
    }
   ],
   "source": [
    "# check R^2 of the random forest model on the test set\n",
    "rf_preds = RandomForest.predict(test_X)\n",
    "r2_rf = r2_score(test_y, rf_preds)\n",
    "print(f\"R^2 of the random forest model on the test set: {r2_rf}\")\n",
    "\n",
    "\n",
    "# check RMSE of the random forest model on the test set\n",
    "rmse_rf = np.sqrt(mean_squared_error(test_y, rf_preds))\n",
    "print(f\"RMSE of the random forest model on the test set: {rmse_rf}\")"
   ]
  },
  {
   "cell_type": "code",
   "execution_count": 77,
   "metadata": {},
   "outputs": [
    {
     "name": "stdout",
     "output_type": "stream",
     "text": [
      "top features: \n",
      " School enrollment, secondary (% gross)_lag1            0.370878\n",
      "Stocks traded, total value (% of GDP)_lag1             0.347653\n",
      "Life expectancy at birth, total (years)_lag1           0.114003\n",
      "Mobile cellular subscriptions (per 100 people)_lag1    0.094989\n",
      "Electric power consumption (kWh per capita)_lag1       0.023880\n",
      "Broad money (% of GDP)_lag1                            0.015593\n",
      "School enrollment, tertiary (% gross)_lag1             0.011432\n",
      "Patent applications, residents_lag1                    0.007648\n",
      "Domestic credit to private sector (% of GDP)_lag1      0.007158\n",
      "School enrollment, primary (% gross)_lag1              0.003436\n",
      "Total reserves (includes gold, current US$)_lag1       0.003330\n",
      "dtype: float64\n"
     ]
    }
   ],
   "source": [
    "# find the top important features\n",
    "importances = pd.Series(RandomForest.feature_importances_, index=train_X.columns)\n",
    "top_features = importances.sort_values(ascending=False)\n",
    "print(\"top features:\",\"\\n\",top_features)"
   ]
  },
  {
   "cell_type": "code",
   "execution_count": 78,
   "metadata": {},
   "outputs": [
    {
     "data": {
      "text/plain": [
       "Text(0, 0.5, 'Features')"
      ]
     },
     "execution_count": 78,
     "metadata": {},
     "output_type": "execute_result"
    },
    {
     "data": {
      "image/png": "[encoded data removed]",
      "text/plain": [
       "<Figure size 1000x600 with 1 Axes>"
      ]
     },
     "metadata": {},
     "output_type": "display_data"
    }
   ],
   "source": [
    "# plot the feature importances from the random forest model\n",
    "top_features_with_order = pd.DataFrame(top_features, index=top_features.index)\n",
    "\n",
    "# plot the feature importances\n",
    "plt.figure(figsize=(10, 6))\n",
    "sns.barplot(x=top_features, y=top_features.index, data=top_features_with_order, palette=\"viridis\")\n",
    "plt.title('Feature Importances')\n",
    "plt.xlabel('Importance')\n",
    "plt.ylabel('Features')"
   ]
  },
  {
   "cell_type": "markdown",
   "metadata": {},
   "source": [
    "## The model with `Stock trade total value` performs way better than those without the stock feature. However, I need to check whether there is any data leakage while training the model or whether any irrelevant features are included with appropriate review and interpretation."
   ]
  },
  {
   "cell_type": "markdown",
   "metadata": {},
   "source": []
  }
 ],
 "metadata": {
  "kernelspec": {
   "display_name": "base",
   "language": "python",
   "name": "python3"
  },
  "language_info": {
   "codemirror_mode": {
    "name": "ipython",
    "version": 3
   },
   "file_extension": ".py",
   "mimetype": "text/x-python",
   "name": "python",
   "nbconvert_exporter": "python",
   "pygments_lexer": "ipython3",
   "version": "3.12.7"
  }
 },
 "nbformat": 4,
 "nbformat_minor": 2
}
